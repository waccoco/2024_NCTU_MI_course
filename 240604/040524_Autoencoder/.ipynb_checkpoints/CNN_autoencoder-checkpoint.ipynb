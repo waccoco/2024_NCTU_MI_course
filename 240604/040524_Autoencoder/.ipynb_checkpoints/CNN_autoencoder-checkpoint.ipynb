{
 "cells": [
  {
   "cell_type": "code",
   "execution_count": 1,
   "id": "f3029a22",
   "metadata": {},
   "outputs": [
    {
     "name": "stderr",
     "output_type": "stream",
     "text": [
      "2024-05-24 01:48:58.434687: E external/local_xla/xla/stream_executor/cuda/cuda_dnn.cc:9373] Unable to register cuDNN factory: Attempting to register factory for plugin cuDNN when one has already been registered\n",
      "2024-05-24 01:48:58.434734: E external/local_xla/xla/stream_executor/cuda/cuda_fft.cc:607] Unable to register cuFFT factory: Attempting to register factory for plugin cuFFT when one has already been registered\n",
      "2024-05-24 01:48:58.436275: E external/local_xla/xla/stream_executor/cuda/cuda_blas.cc:1534] Unable to register cuBLAS factory: Attempting to register factory for plugin cuBLAS when one has already been registered\n",
      "2024-05-24 01:48:58.444622: I tensorflow/core/platform/cpu_feature_guard.cc:183] This TensorFlow binary is optimized to use available CPU instructions in performance-critical operations.\n",
      "To enable the following instructions: SSE3 SSE4.1 SSE4.2 AVX, in other operations, rebuild TensorFlow with the appropriate compiler flags.\n"
     ]
    }
   ],
   "source": [
    "import numpy as np\n",
    "import matplotlib.pyplot as plt\n",
    "from tensorflow.keras.datasets import cifar10\n",
    "from tensorflow.keras.models import Model\n",
    "from tensorflow.keras.layers import Input, Dense, Conv2D, MaxPooling2D, UpSampling2D\n",
    "from keras.datasets import mnist\n",
    "\n",
    "# 步骤 2: 加载和预处理数据\n"
   ]
  },
  {
   "cell_type": "code",
   "execution_count": 2,
   "id": "e6d8ceb2",
   "metadata": {},
   "outputs": [],
   "source": [
    "# 加载 CIFAR-10 数据集\n",
    "(x_train, _), (x_test, _) = mnist.load_data()\n",
    "\n",
    "# 归一化数据\n",
    "x_train = x_train.astype('float32') / 255.\n",
    "x_test = x_test.astype('float32') / 255.\n",
    "\n",
    "# 无需改变形状，因为我们用的是 CNN"
   ]
  },
  {
   "cell_type": "code",
   "execution_count": 3,
   "id": "5f05ba9b",
   "metadata": {},
   "outputs": [
    {
     "name": "stderr",
     "output_type": "stream",
     "text": [
      "2024-05-24 01:49:00.721743: I tensorflow/core/common_runtime/gpu/gpu_device.cc:1926] Created device /job:localhost/replica:0/task:0/device:GPU:0 with 1339 MB memory:  -> device: 0, name: Tesla V100-SXM2-32GB, pci bus id: 0000:b1:00.0, compute capability: 7.0\n"
     ]
    }
   ],
   "source": [
    "from tensorflow.keras.layers import Input, Conv2D, MaxPooling2D, UpSampling2D\n",
    "from tensorflow.keras.models import Model\n",
    "\n",
    "input_img = Input(shape=(28, 28, 1))  # 更新为单通道图像\n",
    "\n",
    "# Encoder 部分\n",
    "x = Conv2D(32, (3, 3), activation='relu', padding='same')(input_img)\n",
    "x = MaxPooling2D((2, 2), padding='same')(x)\n",
    "x = Conv2D(16, (3, 3), activation='relu', padding='same')(x)\n",
    "encoded = MaxPooling2D((2, 2), padding='same')(x)  # 编码后的特征图尺寸: (7, 7, 16)\n",
    "\n",
    "# Decoder 部分\n",
    "x = Conv2D(16, (3, 3), activation='relu', padding='same')(encoded)\n",
    "x = UpSampling2D((2, 2))(x)\n",
    "x = Conv2D(32, (3, 3), activation='relu', padding='same')(x)\n",
    "x = UpSampling2D((2, 2))(x)\n",
    "decoded = Conv2D(1, (3, 3), activation='sigmoid', padding='same')(x)  # 输出尺寸同输入，确保恢复为 28x28x1\n",
    "\n",
    "autoencoder = Model(input_img, decoded)\n",
    "autoencoder.compile(optimizer='adam', loss='binary_crossentropy')\n"
   ]
  },
  {
   "cell_type": "code",
   "execution_count": 4,
   "id": "e9ea8163",
   "metadata": {},
   "outputs": [
    {
     "name": "stdout",
     "output_type": "stream",
     "text": [
      "Epoch 1/50\n"
     ]
    },
    {
     "name": "stderr",
     "output_type": "stream",
     "text": [
      "2024-05-24 01:49:04.645066: W tensorflow/core/grappler/optimizers/meta_optimizer.cc:163] TF_ENABLE_AUTO_MIXED_PRECISION has no effect.\n",
      "2024-05-24 01:49:04.645092: W tensorflow/core/grappler/optimizers/meta_optimizer.cc:163] TF_ENABLE_AUTO_MIXED_PRECISION has no effect.\n",
      "2024-05-24 01:49:04.645097: W tensorflow/core/grappler/optimizers/meta_optimizer.cc:163] TF_ENABLE_AUTO_MIXED_PRECISION has no effect.\n",
      "2024-05-24 01:49:04.645100: W tensorflow/core/grappler/optimizers/meta_optimizer.cc:163] TF_ENABLE_AUTO_MIXED_PRECISION has no effect.\n",
      "2024-05-24 01:49:04.645113: W tensorflow/core/grappler/optimizers/meta_optimizer.cc:163] TF_ENABLE_AUTO_MIXED_PRECISION has no effect.\n",
      "2024-05-24 01:49:04.645118: W tensorflow/core/grappler/optimizers/meta_optimizer.cc:163] TF_ENABLE_AUTO_MIXED_PRECISION has no effect.\n",
      "2024-05-24 01:49:04.645122: W tensorflow/core/grappler/optimizers/meta_optimizer.cc:163] TF_ENABLE_AUTO_MIXED_PRECISION has no effect.\n",
      "2024-05-24 01:49:04.645126: W tensorflow/core/grappler/optimizers/meta_optimizer.cc:163] TF_ENABLE_AUTO_MIXED_PRECISION has no effect.\n",
      "2024-05-24 01:49:04.650807: W tensorflow/core/grappler/optimizers/meta_optimizer.cc:163] TF_ENABLE_AUTO_MIXED_PRECISION has no effect.\n",
      "2024-05-24 01:49:04.650828: W tensorflow/core/grappler/optimizers/meta_optimizer.cc:163] TF_ENABLE_AUTO_MIXED_PRECISION has no effect.\n",
      "2024-05-24 01:49:04.650833: W tensorflow/core/grappler/optimizers/meta_optimizer.cc:163] TF_ENABLE_AUTO_MIXED_PRECISION has no effect.\n",
      "2024-05-24 01:49:04.650837: W tensorflow/core/grappler/optimizers/meta_optimizer.cc:163] TF_ENABLE_AUTO_MIXED_PRECISION has no effect.\n",
      "2024-05-24 01:49:04.650851: W tensorflow/core/grappler/optimizers/meta_optimizer.cc:163] TF_ENABLE_AUTO_MIXED_PRECISION has no effect.\n",
      "2024-05-24 01:49:04.650856: W tensorflow/core/grappler/optimizers/meta_optimizer.cc:163] TF_ENABLE_AUTO_MIXED_PRECISION has no effect.\n",
      "2024-05-24 01:49:04.650860: W tensorflow/core/grappler/optimizers/meta_optimizer.cc:163] TF_ENABLE_AUTO_MIXED_PRECISION has no effect.\n",
      "2024-05-24 01:49:04.650864: W tensorflow/core/grappler/optimizers/meta_optimizer.cc:163] TF_ENABLE_AUTO_MIXED_PRECISION has no effect.\n",
      "2024-05-24 01:49:04.655475: W tensorflow/core/grappler/optimizers/meta_optimizer.cc:163] TF_ENABLE_AUTO_MIXED_PRECISION has no effect.\n",
      "2024-05-24 01:49:04.655494: W tensorflow/core/grappler/optimizers/meta_optimizer.cc:163] TF_ENABLE_AUTO_MIXED_PRECISION has no effect.\n",
      "2024-05-24 01:49:04.655498: W tensorflow/core/grappler/optimizers/meta_optimizer.cc:163] TF_ENABLE_AUTO_MIXED_PRECISION has no effect.\n",
      "2024-05-24 01:49:04.655502: W tensorflow/core/grappler/optimizers/meta_optimizer.cc:163] TF_ENABLE_AUTO_MIXED_PRECISION has no effect.\n",
      "2024-05-24 01:49:04.655512: W tensorflow/core/grappler/optimizers/meta_optimizer.cc:163] TF_ENABLE_AUTO_MIXED_PRECISION has no effect.\n",
      "2024-05-24 01:49:04.655516: W tensorflow/core/grappler/optimizers/meta_optimizer.cc:163] TF_ENABLE_AUTO_MIXED_PRECISION has no effect.\n",
      "2024-05-24 01:49:04.655520: W tensorflow/core/grappler/optimizers/meta_optimizer.cc:163] TF_ENABLE_AUTO_MIXED_PRECISION has no effect.\n",
      "2024-05-24 01:49:04.655524: W tensorflow/core/grappler/optimizers/meta_optimizer.cc:163] TF_ENABLE_AUTO_MIXED_PRECISION has no effect.\n",
      "2024-05-24 01:49:05.337472: W tensorflow/core/grappler/optimizers/meta_optimizer.cc:163] TF_ENABLE_AUTO_MIXED_PRECISION has no effect.\n",
      "2024-05-24 01:49:05.337501: W tensorflow/core/grappler/optimizers/meta_optimizer.cc:163] TF_ENABLE_AUTO_MIXED_PRECISION has no effect.\n",
      "2024-05-24 01:49:05.337506: W tensorflow/core/grappler/optimizers/meta_optimizer.cc:163] TF_ENABLE_AUTO_MIXED_PRECISION has no effect.\n",
      "2024-05-24 01:49:05.337510: W tensorflow/core/grappler/optimizers/meta_optimizer.cc:163] TF_ENABLE_AUTO_MIXED_PRECISION has no effect.\n",
      "2024-05-24 01:49:05.337524: W tensorflow/core/grappler/optimizers/meta_optimizer.cc:163] TF_ENABLE_AUTO_MIXED_PRECISION has no effect.\n",
      "2024-05-24 01:49:05.337529: W tensorflow/core/grappler/optimizers/meta_optimizer.cc:163] TF_ENABLE_AUTO_MIXED_PRECISION has no effect.\n",
      "2024-05-24 01:49:05.337536: W tensorflow/core/grappler/optimizers/meta_optimizer.cc:163] TF_ENABLE_AUTO_MIXED_PRECISION has no effect.\n",
      "2024-05-24 01:49:05.337540: W tensorflow/core/grappler/optimizers/meta_optimizer.cc:163] TF_ENABLE_AUTO_MIXED_PRECISION has no effect.\n",
      "2024-05-24 01:49:05.464344: I external/local_xla/xla/service/service.cc:168] XLA service 0x7fc1cc0048c0 initialized for platform CUDA (this does not guarantee that XLA will be used). Devices:\n",
      "2024-05-24 01:49:05.464382: I external/local_xla/xla/service/service.cc:176]   StreamExecutor device (0): Tesla V100-SXM2-32GB, Compute Capability 7.0\n",
      "2024-05-24 01:49:05.476209: I tensorflow/compiler/mlir/tensorflow/utils/dump_mlir_util.cc:269] disabling MLIR crash reproducer, set env var `MLIR_CRASH_REPRODUCER_DIRECTORY` to enable.\n",
      "2024-05-24 01:49:05.527422: I external/local_xla/xla/stream_executor/cuda/cuda_dnn.cc:467] Loaded cuDNN version 90000\n",
      "WARNING: All log messages before absl::InitializeLog() is called are written to STDERR\n",
      "I0000 00:00:1716486546.529553   11772 device_compiler.h:186] Compiled cluster using XLA!  This line is logged at most once for the lifetime of the process.\n"
     ]
    },
    {
     "name": "stdout",
     "output_type": "stream",
     "text": [
      "224/235 [===========================>..] - ETA: 0s - loss: 0.1744"
     ]
    },
    {
     "name": "stderr",
     "output_type": "stream",
     "text": [
      "2024-05-24 01:49:08.754628: W tensorflow/core/grappler/optimizers/meta_optimizer.cc:163] TF_ENABLE_AUTO_MIXED_PRECISION has no effect.\n",
      "2024-05-24 01:49:08.754660: W tensorflow/core/grappler/optimizers/meta_optimizer.cc:163] TF_ENABLE_AUTO_MIXED_PRECISION has no effect.\n",
      "2024-05-24 01:49:08.754665: W tensorflow/core/grappler/optimizers/meta_optimizer.cc:163] TF_ENABLE_AUTO_MIXED_PRECISION has no effect.\n",
      "2024-05-24 01:49:08.754668: W tensorflow/core/grappler/optimizers/meta_optimizer.cc:163] TF_ENABLE_AUTO_MIXED_PRECISION has no effect.\n",
      "2024-05-24 01:49:08.754680: W tensorflow/core/grappler/optimizers/meta_optimizer.cc:163] TF_ENABLE_AUTO_MIXED_PRECISION has no effect.\n",
      "2024-05-24 01:49:08.754688: W tensorflow/core/grappler/optimizers/meta_optimizer.cc:163] TF_ENABLE_AUTO_MIXED_PRECISION has no effect.\n",
      "2024-05-24 01:49:08.754692: W tensorflow/core/grappler/optimizers/meta_optimizer.cc:163] TF_ENABLE_AUTO_MIXED_PRECISION has no effect.\n",
      "2024-05-24 01:49:08.754696: W tensorflow/core/grappler/optimizers/meta_optimizer.cc:163] TF_ENABLE_AUTO_MIXED_PRECISION has no effect.\n"
     ]
    },
    {
     "name": "stdout",
     "output_type": "stream",
     "text": [
      "\b\b\b\b\b\b\b\b\b\b\b\b\b\b\b\b\b\b\b\b\b\b\b\b\b\b\b\b\b\b\b\b\b\b\b\b\b\b\b\b\b\b\b\b\b\b\b\b\b\b\b\b\b\b\b\b\b\b\b\b\b\b\b\b\b\r",
      "235/235 [==============================] - ETA: 0s - loss: 0.1706"
     ]
    },
    {
     "name": "stderr",
     "output_type": "stream",
     "text": [
      "2024-05-24 01:49:10.439965: W tensorflow/core/grappler/optimizers/meta_optimizer.cc:163] TF_ENABLE_AUTO_MIXED_PRECISION has no effect.\n",
      "2024-05-24 01:49:10.440018: W tensorflow/core/grappler/optimizers/meta_optimizer.cc:163] TF_ENABLE_AUTO_MIXED_PRECISION has no effect.\n",
      "2024-05-24 01:49:10.440032: W tensorflow/core/grappler/optimizers/meta_optimizer.cc:163] TF_ENABLE_AUTO_MIXED_PRECISION has no effect.\n",
      "2024-05-24 01:49:10.440044: W tensorflow/core/grappler/optimizers/meta_optimizer.cc:163] TF_ENABLE_AUTO_MIXED_PRECISION has no effect.\n",
      "2024-05-24 01:49:10.440078: W tensorflow/core/grappler/optimizers/meta_optimizer.cc:163] TF_ENABLE_AUTO_MIXED_PRECISION has no effect.\n",
      "2024-05-24 01:49:10.440093: W tensorflow/core/grappler/optimizers/meta_optimizer.cc:163] TF_ENABLE_AUTO_MIXED_PRECISION has no effect.\n",
      "2024-05-24 01:49:10.440106: W tensorflow/core/grappler/optimizers/meta_optimizer.cc:163] TF_ENABLE_AUTO_MIXED_PRECISION has no effect.\n",
      "2024-05-24 01:49:10.440118: W tensorflow/core/grappler/optimizers/meta_optimizer.cc:163] TF_ENABLE_AUTO_MIXED_PRECISION has no effect.\n",
      "2024-05-24 01:49:10.467647: W tensorflow/core/grappler/optimizers/meta_optimizer.cc:163] TF_ENABLE_AUTO_MIXED_PRECISION has no effect.\n",
      "2024-05-24 01:49:10.467679: W tensorflow/core/grappler/optimizers/meta_optimizer.cc:163] TF_ENABLE_AUTO_MIXED_PRECISION has no effect.\n",
      "2024-05-24 01:49:10.467684: W tensorflow/core/grappler/optimizers/meta_optimizer.cc:163] TF_ENABLE_AUTO_MIXED_PRECISION has no effect.\n",
      "2024-05-24 01:49:10.467688: W tensorflow/core/grappler/optimizers/meta_optimizer.cc:163] TF_ENABLE_AUTO_MIXED_PRECISION has no effect.\n",
      "2024-05-24 01:49:10.467700: W tensorflow/core/grappler/optimizers/meta_optimizer.cc:163] TF_ENABLE_AUTO_MIXED_PRECISION has no effect.\n",
      "2024-05-24 01:49:10.467705: W tensorflow/core/grappler/optimizers/meta_optimizer.cc:163] TF_ENABLE_AUTO_MIXED_PRECISION has no effect.\n",
      "2024-05-24 01:49:10.467710: W tensorflow/core/grappler/optimizers/meta_optimizer.cc:163] TF_ENABLE_AUTO_MIXED_PRECISION has no effect.\n",
      "2024-05-24 01:49:10.467714: W tensorflow/core/grappler/optimizers/meta_optimizer.cc:163] TF_ENABLE_AUTO_MIXED_PRECISION has no effect.\n",
      "2024-05-24 01:49:10.645733: W tensorflow/core/grappler/optimizers/meta_optimizer.cc:163] TF_ENABLE_AUTO_MIXED_PRECISION has no effect.\n",
      "2024-05-24 01:49:10.645764: W tensorflow/core/grappler/optimizers/meta_optimizer.cc:163] TF_ENABLE_AUTO_MIXED_PRECISION has no effect.\n",
      "2024-05-24 01:49:10.645768: W tensorflow/core/grappler/optimizers/meta_optimizer.cc:163] TF_ENABLE_AUTO_MIXED_PRECISION has no effect.\n",
      "2024-05-24 01:49:10.645772: W tensorflow/core/grappler/optimizers/meta_optimizer.cc:163] TF_ENABLE_AUTO_MIXED_PRECISION has no effect.\n",
      "2024-05-24 01:49:10.645783: W tensorflow/core/grappler/optimizers/meta_optimizer.cc:163] TF_ENABLE_AUTO_MIXED_PRECISION has no effect.\n",
      "2024-05-24 01:49:10.645789: W tensorflow/core/grappler/optimizers/meta_optimizer.cc:163] TF_ENABLE_AUTO_MIXED_PRECISION has no effect.\n",
      "2024-05-24 01:49:10.645793: W tensorflow/core/grappler/optimizers/meta_optimizer.cc:163] TF_ENABLE_AUTO_MIXED_PRECISION has no effect.\n",
      "2024-05-24 01:49:10.645798: W tensorflow/core/grappler/optimizers/meta_optimizer.cc:163] TF_ENABLE_AUTO_MIXED_PRECISION has no effect.\n",
      "2024-05-24 01:49:10.650384: W tensorflow/core/grappler/optimizers/meta_optimizer.cc:163] TF_ENABLE_AUTO_MIXED_PRECISION has no effect.\n",
      "2024-05-24 01:49:10.650405: W tensorflow/core/grappler/optimizers/meta_optimizer.cc:163] TF_ENABLE_AUTO_MIXED_PRECISION has no effect.\n",
      "2024-05-24 01:49:10.650409: W tensorflow/core/grappler/optimizers/meta_optimizer.cc:163] TF_ENABLE_AUTO_MIXED_PRECISION has no effect.\n",
      "2024-05-24 01:49:10.650413: W tensorflow/core/grappler/optimizers/meta_optimizer.cc:163] TF_ENABLE_AUTO_MIXED_PRECISION has no effect.\n",
      "2024-05-24 01:49:10.650424: W tensorflow/core/grappler/optimizers/meta_optimizer.cc:163] TF_ENABLE_AUTO_MIXED_PRECISION has no effect.\n",
      "2024-05-24 01:49:10.650429: W tensorflow/core/grappler/optimizers/meta_optimizer.cc:163] TF_ENABLE_AUTO_MIXED_PRECISION has no effect.\n",
      "2024-05-24 01:49:10.650433: W tensorflow/core/grappler/optimizers/meta_optimizer.cc:163] TF_ENABLE_AUTO_MIXED_PRECISION has no effect.\n",
      "2024-05-24 01:49:10.650437: W tensorflow/core/grappler/optimizers/meta_optimizer.cc:163] TF_ENABLE_AUTO_MIXED_PRECISION has no effect.\n",
      "2024-05-24 01:49:10.656570: W tensorflow/core/grappler/optimizers/meta_optimizer.cc:163] TF_ENABLE_AUTO_MIXED_PRECISION has no effect.\n",
      "2024-05-24 01:49:10.656588: W tensorflow/core/grappler/optimizers/meta_optimizer.cc:163] TF_ENABLE_AUTO_MIXED_PRECISION has no effect.\n",
      "2024-05-24 01:49:10.656593: W tensorflow/core/grappler/optimizers/meta_optimizer.cc:163] TF_ENABLE_AUTO_MIXED_PRECISION has no effect.\n",
      "2024-05-24 01:49:10.656597: W tensorflow/core/grappler/optimizers/meta_optimizer.cc:163] TF_ENABLE_AUTO_MIXED_PRECISION has no effect.\n",
      "2024-05-24 01:49:10.656607: W tensorflow/core/grappler/optimizers/meta_optimizer.cc:163] TF_ENABLE_AUTO_MIXED_PRECISION has no effect.\n",
      "2024-05-24 01:49:10.656611: W tensorflow/core/grappler/optimizers/meta_optimizer.cc:163] TF_ENABLE_AUTO_MIXED_PRECISION has no effect.\n",
      "2024-05-24 01:49:10.656615: W tensorflow/core/grappler/optimizers/meta_optimizer.cc:163] TF_ENABLE_AUTO_MIXED_PRECISION has no effect.\n",
      "2024-05-24 01:49:10.656620: W tensorflow/core/grappler/optimizers/meta_optimizer.cc:163] TF_ENABLE_AUTO_MIXED_PRECISION has no effect.\n",
      "2024-05-24 01:49:10.736892: W tensorflow/core/grappler/optimizers/meta_optimizer.cc:163] TF_ENABLE_AUTO_MIXED_PRECISION has no effect.\n",
      "2024-05-24 01:49:10.736919: W tensorflow/core/grappler/optimizers/meta_optimizer.cc:163] TF_ENABLE_AUTO_MIXED_PRECISION has no effect.\n",
      "2024-05-24 01:49:10.736924: W tensorflow/core/grappler/optimizers/meta_optimizer.cc:163] TF_ENABLE_AUTO_MIXED_PRECISION has no effect.\n",
      "2024-05-24 01:49:10.736929: W tensorflow/core/grappler/optimizers/meta_optimizer.cc:163] TF_ENABLE_AUTO_MIXED_PRECISION has no effect.\n",
      "2024-05-24 01:49:10.736942: W tensorflow/core/grappler/optimizers/meta_optimizer.cc:163] TF_ENABLE_AUTO_MIXED_PRECISION has no effect.\n",
      "2024-05-24 01:49:10.736947: W tensorflow/core/grappler/optimizers/meta_optimizer.cc:163] TF_ENABLE_AUTO_MIXED_PRECISION has no effect.\n",
      "2024-05-24 01:49:10.736951: W tensorflow/core/grappler/optimizers/meta_optimizer.cc:163] TF_ENABLE_AUTO_MIXED_PRECISION has no effect.\n",
      "2024-05-24 01:49:10.736955: W tensorflow/core/grappler/optimizers/meta_optimizer.cc:163] TF_ENABLE_AUTO_MIXED_PRECISION has no effect.\n"
     ]
    },
    {
     "name": "stdout",
     "output_type": "stream",
     "text": [
      "235/235 [==============================] - 7s 15ms/step - loss: 0.1706 - val_loss: 0.0881\n",
      "Epoch 2/50\n",
      " 28/235 [==>...........................] - ETA: 0s - loss: 0.0882"
     ]
    },
    {
     "name": "stderr",
     "output_type": "stream",
     "text": [
      "2024-05-24 01:49:11.180045: W tensorflow/core/grappler/optimizers/meta_optimizer.cc:163] TF_ENABLE_AUTO_MIXED_PRECISION has no effect.\n",
      "2024-05-24 01:49:11.180078: W tensorflow/core/grappler/optimizers/meta_optimizer.cc:163] TF_ENABLE_AUTO_MIXED_PRECISION has no effect.\n",
      "2024-05-24 01:49:11.180083: W tensorflow/core/grappler/optimizers/meta_optimizer.cc:163] TF_ENABLE_AUTO_MIXED_PRECISION has no effect.\n",
      "2024-05-24 01:49:11.180087: W tensorflow/core/grappler/optimizers/meta_optimizer.cc:163] TF_ENABLE_AUTO_MIXED_PRECISION has no effect.\n",
      "2024-05-24 01:49:11.180100: W tensorflow/core/grappler/optimizers/meta_optimizer.cc:163] TF_ENABLE_AUTO_MIXED_PRECISION has no effect.\n",
      "2024-05-24 01:49:11.180105: W tensorflow/core/grappler/optimizers/meta_optimizer.cc:163] TF_ENABLE_AUTO_MIXED_PRECISION has no effect.\n",
      "2024-05-24 01:49:11.180109: W tensorflow/core/grappler/optimizers/meta_optimizer.cc:163] TF_ENABLE_AUTO_MIXED_PRECISION has no effect.\n",
      "2024-05-24 01:49:11.180113: W tensorflow/core/grappler/optimizers/meta_optimizer.cc:163] TF_ENABLE_AUTO_MIXED_PRECISION has no effect.\n"
     ]
    },
    {
     "name": "stdout",
     "output_type": "stream",
     "text": [
      "235/235 [==============================] - ETA: 0s - loss: 0.0841"
     ]
    },
    {
     "name": "stderr",
     "output_type": "stream",
     "text": [
      "2024-05-24 01:49:13.181346: W tensorflow/core/grappler/optimizers/meta_optimizer.cc:163] TF_ENABLE_AUTO_MIXED_PRECISION has no effect.\n",
      "2024-05-24 01:49:13.181376: W tensorflow/core/grappler/optimizers/meta_optimizer.cc:163] TF_ENABLE_AUTO_MIXED_PRECISION has no effect.\n",
      "2024-05-24 01:49:13.181381: W tensorflow/core/grappler/optimizers/meta_optimizer.cc:163] TF_ENABLE_AUTO_MIXED_PRECISION has no effect.\n",
      "2024-05-24 01:49:13.181385: W tensorflow/core/grappler/optimizers/meta_optimizer.cc:163] TF_ENABLE_AUTO_MIXED_PRECISION has no effect.\n",
      "2024-05-24 01:49:13.181398: W tensorflow/core/grappler/optimizers/meta_optimizer.cc:163] TF_ENABLE_AUTO_MIXED_PRECISION has no effect.\n",
      "2024-05-24 01:49:13.181404: W tensorflow/core/grappler/optimizers/meta_optimizer.cc:163] TF_ENABLE_AUTO_MIXED_PRECISION has no effect.\n",
      "2024-05-24 01:49:13.181408: W tensorflow/core/grappler/optimizers/meta_optimizer.cc:163] TF_ENABLE_AUTO_MIXED_PRECISION has no effect.\n",
      "2024-05-24 01:49:13.181413: W tensorflow/core/grappler/optimizers/meta_optimizer.cc:163] TF_ENABLE_AUTO_MIXED_PRECISION has no effect.\n",
      "2024-05-24 01:49:13.185747: W tensorflow/core/grappler/optimizers/meta_optimizer.cc:163] TF_ENABLE_AUTO_MIXED_PRECISION has no effect.\n",
      "2024-05-24 01:49:13.185769: W tensorflow/core/grappler/optimizers/meta_optimizer.cc:163] TF_ENABLE_AUTO_MIXED_PRECISION has no effect.\n",
      "2024-05-24 01:49:13.185774: W tensorflow/core/grappler/optimizers/meta_optimizer.cc:163] TF_ENABLE_AUTO_MIXED_PRECISION has no effect.\n",
      "2024-05-24 01:49:13.185778: W tensorflow/core/grappler/optimizers/meta_optimizer.cc:163] TF_ENABLE_AUTO_MIXED_PRECISION has no effect.\n",
      "2024-05-24 01:49:13.185789: W tensorflow/core/grappler/optimizers/meta_optimizer.cc:163] TF_ENABLE_AUTO_MIXED_PRECISION has no effect.\n",
      "2024-05-24 01:49:13.185794: W tensorflow/core/grappler/optimizers/meta_optimizer.cc:163] TF_ENABLE_AUTO_MIXED_PRECISION has no effect.\n",
      "2024-05-24 01:49:13.185799: W tensorflow/core/grappler/optimizers/meta_optimizer.cc:163] TF_ENABLE_AUTO_MIXED_PRECISION has no effect.\n",
      "2024-05-24 01:49:13.185803: W tensorflow/core/grappler/optimizers/meta_optimizer.cc:163] TF_ENABLE_AUTO_MIXED_PRECISION has no effect.\n",
      "2024-05-24 01:49:13.190963: W tensorflow/core/grappler/optimizers/meta_optimizer.cc:163] TF_ENABLE_AUTO_MIXED_PRECISION has no effect.\n",
      "2024-05-24 01:49:13.190982: W tensorflow/core/grappler/optimizers/meta_optimizer.cc:163] TF_ENABLE_AUTO_MIXED_PRECISION has no effect.\n",
      "2024-05-24 01:49:13.190987: W tensorflow/core/grappler/optimizers/meta_optimizer.cc:163] TF_ENABLE_AUTO_MIXED_PRECISION has no effect.\n",
      "2024-05-24 01:49:13.190991: W tensorflow/core/grappler/optimizers/meta_optimizer.cc:163] TF_ENABLE_AUTO_MIXED_PRECISION has no effect.\n",
      "2024-05-24 01:49:13.191001: W tensorflow/core/grappler/optimizers/meta_optimizer.cc:163] TF_ENABLE_AUTO_MIXED_PRECISION has no effect.\n",
      "2024-05-24 01:49:13.191008: W tensorflow/core/grappler/optimizers/meta_optimizer.cc:163] TF_ENABLE_AUTO_MIXED_PRECISION has no effect.\n",
      "2024-05-24 01:49:13.191013: W tensorflow/core/grappler/optimizers/meta_optimizer.cc:163] TF_ENABLE_AUTO_MIXED_PRECISION has no effect.\n",
      "2024-05-24 01:49:13.191017: W tensorflow/core/grappler/optimizers/meta_optimizer.cc:163] TF_ENABLE_AUTO_MIXED_PRECISION has no effect.\n"
     ]
    },
    {
     "name": "stdout",
     "output_type": "stream",
     "text": [
      "235/235 [==============================] - 2s 10ms/step - loss: 0.0841 - val_loss: 0.0809\n",
      "Epoch 3/50\n",
      "235/235 [==============================] - 1s 4ms/step - loss: 0.0792 - val_loss: 0.0778\n",
      "Epoch 4/50\n",
      " 27/235 [==>...........................] - ETA: 0s - loss: 0.0778"
     ]
    },
    {
     "name": "stderr",
     "output_type": "stream",
     "text": [
      "2024-05-24 01:49:14.525244: W tensorflow/core/grappler/optimizers/meta_optimizer.cc:163] TF_ENABLE_AUTO_MIXED_PRECISION has no effect.\n",
      "2024-05-24 01:49:14.525276: W tensorflow/core/grappler/optimizers/meta_optimizer.cc:163] TF_ENABLE_AUTO_MIXED_PRECISION has no effect.\n",
      "2024-05-24 01:49:14.525281: W tensorflow/core/grappler/optimizers/meta_optimizer.cc:163] TF_ENABLE_AUTO_MIXED_PRECISION has no effect.\n",
      "2024-05-24 01:49:14.525285: W tensorflow/core/grappler/optimizers/meta_optimizer.cc:163] TF_ENABLE_AUTO_MIXED_PRECISION has no effect.\n",
      "2024-05-24 01:49:14.525298: W tensorflow/core/grappler/optimizers/meta_optimizer.cc:163] TF_ENABLE_AUTO_MIXED_PRECISION has no effect.\n",
      "2024-05-24 01:49:14.525303: W tensorflow/core/grappler/optimizers/meta_optimizer.cc:163] TF_ENABLE_AUTO_MIXED_PRECISION has no effect.\n",
      "2024-05-24 01:49:14.525307: W tensorflow/core/grappler/optimizers/meta_optimizer.cc:163] TF_ENABLE_AUTO_MIXED_PRECISION has no effect.\n",
      "2024-05-24 01:49:14.525311: W tensorflow/core/grappler/optimizers/meta_optimizer.cc:163] TF_ENABLE_AUTO_MIXED_PRECISION has no effect.\n",
      "2024-05-24 01:49:14.529297: W tensorflow/core/grappler/optimizers/meta_optimizer.cc:163] TF_ENABLE_AUTO_MIXED_PRECISION has no effect.\n",
      "2024-05-24 01:49:14.529318: W tensorflow/core/grappler/optimizers/meta_optimizer.cc:163] TF_ENABLE_AUTO_MIXED_PRECISION has no effect.\n",
      "2024-05-24 01:49:14.529323: W tensorflow/core/grappler/optimizers/meta_optimizer.cc:163] TF_ENABLE_AUTO_MIXED_PRECISION has no effect.\n",
      "2024-05-24 01:49:14.529326: W tensorflow/core/grappler/optimizers/meta_optimizer.cc:163] TF_ENABLE_AUTO_MIXED_PRECISION has no effect.\n",
      "2024-05-24 01:49:14.529337: W tensorflow/core/grappler/optimizers/meta_optimizer.cc:163] TF_ENABLE_AUTO_MIXED_PRECISION has no effect.\n",
      "2024-05-24 01:49:14.529343: W tensorflow/core/grappler/optimizers/meta_optimizer.cc:163] TF_ENABLE_AUTO_MIXED_PRECISION has no effect.\n",
      "2024-05-24 01:49:14.529347: W tensorflow/core/grappler/optimizers/meta_optimizer.cc:163] TF_ENABLE_AUTO_MIXED_PRECISION has no effect.\n",
      "2024-05-24 01:49:14.529351: W tensorflow/core/grappler/optimizers/meta_optimizer.cc:163] TF_ENABLE_AUTO_MIXED_PRECISION has no effect.\n",
      "2024-05-24 01:49:14.536388: W tensorflow/core/grappler/optimizers/meta_optimizer.cc:163] TF_ENABLE_AUTO_MIXED_PRECISION has no effect.\n",
      "2024-05-24 01:49:14.536405: W tensorflow/core/grappler/optimizers/meta_optimizer.cc:163] TF_ENABLE_AUTO_MIXED_PRECISION has no effect.\n",
      "2024-05-24 01:49:14.536410: W tensorflow/core/grappler/optimizers/meta_optimizer.cc:163] TF_ENABLE_AUTO_MIXED_PRECISION has no effect.\n",
      "2024-05-24 01:49:14.536414: W tensorflow/core/grappler/optimizers/meta_optimizer.cc:163] TF_ENABLE_AUTO_MIXED_PRECISION has no effect.\n",
      "2024-05-24 01:49:14.536423: W tensorflow/core/grappler/optimizers/meta_optimizer.cc:163] TF_ENABLE_AUTO_MIXED_PRECISION has no effect.\n",
      "2024-05-24 01:49:14.536428: W tensorflow/core/grappler/optimizers/meta_optimizer.cc:163] TF_ENABLE_AUTO_MIXED_PRECISION has no effect.\n",
      "2024-05-24 01:49:14.536432: W tensorflow/core/grappler/optimizers/meta_optimizer.cc:163] TF_ENABLE_AUTO_MIXED_PRECISION has no effect.\n",
      "2024-05-24 01:49:14.536436: W tensorflow/core/grappler/optimizers/meta_optimizer.cc:163] TF_ENABLE_AUTO_MIXED_PRECISION has no effect.\n"
     ]
    },
    {
     "name": "stdout",
     "output_type": "stream",
     "text": [
      "235/235 [==============================] - 1s 4ms/step - loss: 0.0768 - val_loss: 0.0759\n",
      "Epoch 5/50\n",
      " 28/235 [==>...........................] - ETA: 0s - loss: 0.0758"
     ]
    },
    {
     "name": "stderr",
     "output_type": "stream",
     "text": [
      "2024-05-24 01:49:15.521972: W tensorflow/core/grappler/optimizers/meta_optimizer.cc:163] TF_ENABLE_AUTO_MIXED_PRECISION has no effect.\n",
      "2024-05-24 01:49:15.522004: W tensorflow/core/grappler/optimizers/meta_optimizer.cc:163] TF_ENABLE_AUTO_MIXED_PRECISION has no effect.\n",
      "2024-05-24 01:49:15.522009: W tensorflow/core/grappler/optimizers/meta_optimizer.cc:163] TF_ENABLE_AUTO_MIXED_PRECISION has no effect.\n",
      "2024-05-24 01:49:15.522012: W tensorflow/core/grappler/optimizers/meta_optimizer.cc:163] TF_ENABLE_AUTO_MIXED_PRECISION has no effect.\n",
      "2024-05-24 01:49:15.522025: W tensorflow/core/grappler/optimizers/meta_optimizer.cc:163] TF_ENABLE_AUTO_MIXED_PRECISION has no effect.\n",
      "2024-05-24 01:49:15.522030: W tensorflow/core/grappler/optimizers/meta_optimizer.cc:163] TF_ENABLE_AUTO_MIXED_PRECISION has no effect.\n",
      "2024-05-24 01:49:15.522034: W tensorflow/core/grappler/optimizers/meta_optimizer.cc:163] TF_ENABLE_AUTO_MIXED_PRECISION has no effect.\n",
      "2024-05-24 01:49:15.522038: W tensorflow/core/grappler/optimizers/meta_optimizer.cc:163] TF_ENABLE_AUTO_MIXED_PRECISION has no effect.\n",
      "2024-05-24 01:49:15.526055: W tensorflow/core/grappler/optimizers/meta_optimizer.cc:163] TF_ENABLE_AUTO_MIXED_PRECISION has no effect.\n",
      "2024-05-24 01:49:15.526076: W tensorflow/core/grappler/optimizers/meta_optimizer.cc:163] TF_ENABLE_AUTO_MIXED_PRECISION has no effect.\n",
      "2024-05-24 01:49:15.526080: W tensorflow/core/grappler/optimizers/meta_optimizer.cc:163] TF_ENABLE_AUTO_MIXED_PRECISION has no effect.\n",
      "2024-05-24 01:49:15.526084: W tensorflow/core/grappler/optimizers/meta_optimizer.cc:163] TF_ENABLE_AUTO_MIXED_PRECISION has no effect.\n",
      "2024-05-24 01:49:15.526095: W tensorflow/core/grappler/optimizers/meta_optimizer.cc:163] TF_ENABLE_AUTO_MIXED_PRECISION has no effect.\n",
      "2024-05-24 01:49:15.526101: W tensorflow/core/grappler/optimizers/meta_optimizer.cc:163] TF_ENABLE_AUTO_MIXED_PRECISION has no effect.\n",
      "2024-05-24 01:49:15.526106: W tensorflow/core/grappler/optimizers/meta_optimizer.cc:163] TF_ENABLE_AUTO_MIXED_PRECISION has no effect.\n",
      "2024-05-24 01:49:15.526109: W tensorflow/core/grappler/optimizers/meta_optimizer.cc:163] TF_ENABLE_AUTO_MIXED_PRECISION has no effect.\n",
      "2024-05-24 01:49:15.530788: W tensorflow/core/grappler/optimizers/meta_optimizer.cc:163] TF_ENABLE_AUTO_MIXED_PRECISION has no effect.\n",
      "2024-05-24 01:49:15.530806: W tensorflow/core/grappler/optimizers/meta_optimizer.cc:163] TF_ENABLE_AUTO_MIXED_PRECISION has no effect.\n",
      "2024-05-24 01:49:15.530811: W tensorflow/core/grappler/optimizers/meta_optimizer.cc:163] TF_ENABLE_AUTO_MIXED_PRECISION has no effect.\n",
      "2024-05-24 01:49:15.530814: W tensorflow/core/grappler/optimizers/meta_optimizer.cc:163] TF_ENABLE_AUTO_MIXED_PRECISION has no effect.\n",
      "2024-05-24 01:49:15.530825: W tensorflow/core/grappler/optimizers/meta_optimizer.cc:163] TF_ENABLE_AUTO_MIXED_PRECISION has no effect.\n",
      "2024-05-24 01:49:15.530832: W tensorflow/core/grappler/optimizers/meta_optimizer.cc:163] TF_ENABLE_AUTO_MIXED_PRECISION has no effect.\n",
      "2024-05-24 01:49:15.530836: W tensorflow/core/grappler/optimizers/meta_optimizer.cc:163] TF_ENABLE_AUTO_MIXED_PRECISION has no effect.\n",
      "2024-05-24 01:49:15.530845: W tensorflow/core/grappler/optimizers/meta_optimizer.cc:163] TF_ENABLE_AUTO_MIXED_PRECISION has no effect.\n"
     ]
    },
    {
     "name": "stdout",
     "output_type": "stream",
     "text": [
      "235/235 [==============================] - 1s 4ms/step - loss: 0.0751 - val_loss: 0.0745\n",
      "Epoch 6/50\n",
      " 28/235 [==>...........................] - ETA: 0s - loss: 0.0742"
     ]
    },
    {
     "name": "stderr",
     "output_type": "stream",
     "text": [
      "2024-05-24 01:49:16.518941: W tensorflow/core/grappler/optimizers/meta_optimizer.cc:163] TF_ENABLE_AUTO_MIXED_PRECISION has no effect.\n",
      "2024-05-24 01:49:16.518972: W tensorflow/core/grappler/optimizers/meta_optimizer.cc:163] TF_ENABLE_AUTO_MIXED_PRECISION has no effect.\n",
      "2024-05-24 01:49:16.518976: W tensorflow/core/grappler/optimizers/meta_optimizer.cc:163] TF_ENABLE_AUTO_MIXED_PRECISION has no effect.\n",
      "2024-05-24 01:49:16.518980: W tensorflow/core/grappler/optimizers/meta_optimizer.cc:163] TF_ENABLE_AUTO_MIXED_PRECISION has no effect.\n",
      "2024-05-24 01:49:16.518993: W tensorflow/core/grappler/optimizers/meta_optimizer.cc:163] TF_ENABLE_AUTO_MIXED_PRECISION has no effect.\n",
      "2024-05-24 01:49:16.518999: W tensorflow/core/grappler/optimizers/meta_optimizer.cc:163] TF_ENABLE_AUTO_MIXED_PRECISION has no effect.\n",
      "2024-05-24 01:49:16.519003: W tensorflow/core/grappler/optimizers/meta_optimizer.cc:163] TF_ENABLE_AUTO_MIXED_PRECISION has no effect.\n",
      "2024-05-24 01:49:16.519007: W tensorflow/core/grappler/optimizers/meta_optimizer.cc:163] TF_ENABLE_AUTO_MIXED_PRECISION has no effect.\n",
      "2024-05-24 01:49:16.524317: W tensorflow/core/grappler/optimizers/meta_optimizer.cc:163] TF_ENABLE_AUTO_MIXED_PRECISION has no effect.\n",
      "2024-05-24 01:49:16.524340: W tensorflow/core/grappler/optimizers/meta_optimizer.cc:163] TF_ENABLE_AUTO_MIXED_PRECISION has no effect.\n",
      "2024-05-24 01:49:16.524344: W tensorflow/core/grappler/optimizers/meta_optimizer.cc:163] TF_ENABLE_AUTO_MIXED_PRECISION has no effect.\n",
      "2024-05-24 01:49:16.524348: W tensorflow/core/grappler/optimizers/meta_optimizer.cc:163] TF_ENABLE_AUTO_MIXED_PRECISION has no effect.\n",
      "2024-05-24 01:49:16.524359: W tensorflow/core/grappler/optimizers/meta_optimizer.cc:163] TF_ENABLE_AUTO_MIXED_PRECISION has no effect.\n",
      "2024-05-24 01:49:16.524363: W tensorflow/core/grappler/optimizers/meta_optimizer.cc:163] TF_ENABLE_AUTO_MIXED_PRECISION has no effect.\n",
      "2024-05-24 01:49:16.524368: W tensorflow/core/grappler/optimizers/meta_optimizer.cc:163] TF_ENABLE_AUTO_MIXED_PRECISION has no effect.\n",
      "2024-05-24 01:49:16.524371: W tensorflow/core/grappler/optimizers/meta_optimizer.cc:163] TF_ENABLE_AUTO_MIXED_PRECISION has no effect.\n",
      "2024-05-24 01:49:16.529377: W tensorflow/core/grappler/optimizers/meta_optimizer.cc:163] TF_ENABLE_AUTO_MIXED_PRECISION has no effect.\n",
      "2024-05-24 01:49:16.529396: W tensorflow/core/grappler/optimizers/meta_optimizer.cc:163] TF_ENABLE_AUTO_MIXED_PRECISION has no effect.\n",
      "2024-05-24 01:49:16.529400: W tensorflow/core/grappler/optimizers/meta_optimizer.cc:163] TF_ENABLE_AUTO_MIXED_PRECISION has no effect.\n",
      "2024-05-24 01:49:16.529404: W tensorflow/core/grappler/optimizers/meta_optimizer.cc:163] TF_ENABLE_AUTO_MIXED_PRECISION has no effect.\n",
      "2024-05-24 01:49:16.529414: W tensorflow/core/grappler/optimizers/meta_optimizer.cc:163] TF_ENABLE_AUTO_MIXED_PRECISION has no effect.\n",
      "2024-05-24 01:49:16.529420: W tensorflow/core/grappler/optimizers/meta_optimizer.cc:163] TF_ENABLE_AUTO_MIXED_PRECISION has no effect.\n",
      "2024-05-24 01:49:16.529424: W tensorflow/core/grappler/optimizers/meta_optimizer.cc:163] TF_ENABLE_AUTO_MIXED_PRECISION has no effect.\n",
      "2024-05-24 01:49:16.529428: W tensorflow/core/grappler/optimizers/meta_optimizer.cc:163] TF_ENABLE_AUTO_MIXED_PRECISION has no effect.\n"
     ]
    },
    {
     "name": "stdout",
     "output_type": "stream",
     "text": [
      "235/235 [==============================] - 1s 4ms/step - loss: 0.0739 - val_loss: 0.0735\n",
      "Epoch 7/50\n",
      " 29/235 [==>...........................] - ETA: 0s - loss: 0.0727"
     ]
    },
    {
     "name": "stderr",
     "output_type": "stream",
     "text": [
      "2024-05-24 01:49:17.510070: W tensorflow/core/grappler/optimizers/meta_optimizer.cc:163] TF_ENABLE_AUTO_MIXED_PRECISION has no effect.\n",
      "2024-05-24 01:49:17.510104: W tensorflow/core/grappler/optimizers/meta_optimizer.cc:163] TF_ENABLE_AUTO_MIXED_PRECISION has no effect.\n",
      "2024-05-24 01:49:17.510108: W tensorflow/core/grappler/optimizers/meta_optimizer.cc:163] TF_ENABLE_AUTO_MIXED_PRECISION has no effect.\n",
      "2024-05-24 01:49:17.510112: W tensorflow/core/grappler/optimizers/meta_optimizer.cc:163] TF_ENABLE_AUTO_MIXED_PRECISION has no effect.\n",
      "2024-05-24 01:49:17.510125: W tensorflow/core/grappler/optimizers/meta_optimizer.cc:163] TF_ENABLE_AUTO_MIXED_PRECISION has no effect.\n",
      "2024-05-24 01:49:17.510130: W tensorflow/core/grappler/optimizers/meta_optimizer.cc:163] TF_ENABLE_AUTO_MIXED_PRECISION has no effect.\n",
      "2024-05-24 01:49:17.510135: W tensorflow/core/grappler/optimizers/meta_optimizer.cc:163] TF_ENABLE_AUTO_MIXED_PRECISION has no effect.\n",
      "2024-05-24 01:49:17.510139: W tensorflow/core/grappler/optimizers/meta_optimizer.cc:163] TF_ENABLE_AUTO_MIXED_PRECISION has no effect.\n",
      "2024-05-24 01:49:17.517055: W tensorflow/core/grappler/optimizers/meta_optimizer.cc:163] TF_ENABLE_AUTO_MIXED_PRECISION has no effect.\n",
      "2024-05-24 01:49:17.517083: W tensorflow/core/grappler/optimizers/meta_optimizer.cc:163] TF_ENABLE_AUTO_MIXED_PRECISION has no effect.\n",
      "2024-05-24 01:49:17.517087: W tensorflow/core/grappler/optimizers/meta_optimizer.cc:163] TF_ENABLE_AUTO_MIXED_PRECISION has no effect.\n",
      "2024-05-24 01:49:17.517091: W tensorflow/core/grappler/optimizers/meta_optimizer.cc:163] TF_ENABLE_AUTO_MIXED_PRECISION has no effect.\n",
      "2024-05-24 01:49:17.517102: W tensorflow/core/grappler/optimizers/meta_optimizer.cc:163] TF_ENABLE_AUTO_MIXED_PRECISION has no effect.\n",
      "2024-05-24 01:49:17.517107: W tensorflow/core/grappler/optimizers/meta_optimizer.cc:163] TF_ENABLE_AUTO_MIXED_PRECISION has no effect.\n",
      "2024-05-24 01:49:17.517112: W tensorflow/core/grappler/optimizers/meta_optimizer.cc:163] TF_ENABLE_AUTO_MIXED_PRECISION has no effect.\n",
      "2024-05-24 01:49:17.517116: W tensorflow/core/grappler/optimizers/meta_optimizer.cc:163] TF_ENABLE_AUTO_MIXED_PRECISION has no effect.\n",
      "2024-05-24 01:49:17.521944: W tensorflow/core/grappler/optimizers/meta_optimizer.cc:163] TF_ENABLE_AUTO_MIXED_PRECISION has no effect.\n",
      "2024-05-24 01:49:17.521965: W tensorflow/core/grappler/optimizers/meta_optimizer.cc:163] TF_ENABLE_AUTO_MIXED_PRECISION has no effect.\n",
      "2024-05-24 01:49:17.521969: W tensorflow/core/grappler/optimizers/meta_optimizer.cc:163] TF_ENABLE_AUTO_MIXED_PRECISION has no effect.\n",
      "2024-05-24 01:49:17.521972: W tensorflow/core/grappler/optimizers/meta_optimizer.cc:163] TF_ENABLE_AUTO_MIXED_PRECISION has no effect.\n",
      "2024-05-24 01:49:17.521983: W tensorflow/core/grappler/optimizers/meta_optimizer.cc:163] TF_ENABLE_AUTO_MIXED_PRECISION has no effect.\n",
      "2024-05-24 01:49:17.521987: W tensorflow/core/grappler/optimizers/meta_optimizer.cc:163] TF_ENABLE_AUTO_MIXED_PRECISION has no effect.\n",
      "2024-05-24 01:49:17.521992: W tensorflow/core/grappler/optimizers/meta_optimizer.cc:163] TF_ENABLE_AUTO_MIXED_PRECISION has no effect.\n",
      "2024-05-24 01:49:17.521995: W tensorflow/core/grappler/optimizers/meta_optimizer.cc:163] TF_ENABLE_AUTO_MIXED_PRECISION has no effect.\n"
     ]
    },
    {
     "name": "stdout",
     "output_type": "stream",
     "text": [
      "235/235 [==============================] - 1s 4ms/step - loss: 0.0730 - val_loss: 0.0728\n",
      "Epoch 8/50\n",
      " 29/235 [==>...........................] - ETA: 0s - loss: 0.0729"
     ]
    },
    {
     "name": "stderr",
     "output_type": "stream",
     "text": [
      "2024-05-24 01:49:18.504153: W tensorflow/core/grappler/optimizers/meta_optimizer.cc:163] TF_ENABLE_AUTO_MIXED_PRECISION has no effect.\n",
      "2024-05-24 01:49:18.504186: W tensorflow/core/grappler/optimizers/meta_optimizer.cc:163] TF_ENABLE_AUTO_MIXED_PRECISION has no effect.\n",
      "2024-05-24 01:49:18.504190: W tensorflow/core/grappler/optimizers/meta_optimizer.cc:163] TF_ENABLE_AUTO_MIXED_PRECISION has no effect.\n",
      "2024-05-24 01:49:18.504194: W tensorflow/core/grappler/optimizers/meta_optimizer.cc:163] TF_ENABLE_AUTO_MIXED_PRECISION has no effect.\n",
      "2024-05-24 01:49:18.504206: W tensorflow/core/grappler/optimizers/meta_optimizer.cc:163] TF_ENABLE_AUTO_MIXED_PRECISION has no effect.\n",
      "2024-05-24 01:49:18.504211: W tensorflow/core/grappler/optimizers/meta_optimizer.cc:163] TF_ENABLE_AUTO_MIXED_PRECISION has no effect.\n",
      "2024-05-24 01:49:18.504216: W tensorflow/core/grappler/optimizers/meta_optimizer.cc:163] TF_ENABLE_AUTO_MIXED_PRECISION has no effect.\n",
      "2024-05-24 01:49:18.504220: W tensorflow/core/grappler/optimizers/meta_optimizer.cc:163] TF_ENABLE_AUTO_MIXED_PRECISION has no effect.\n",
      "2024-05-24 01:49:18.509961: W tensorflow/core/grappler/optimizers/meta_optimizer.cc:163] TF_ENABLE_AUTO_MIXED_PRECISION has no effect.\n",
      "2024-05-24 01:49:18.509984: W tensorflow/core/grappler/optimizers/meta_optimizer.cc:163] TF_ENABLE_AUTO_MIXED_PRECISION has no effect.\n",
      "2024-05-24 01:49:18.509988: W tensorflow/core/grappler/optimizers/meta_optimizer.cc:163] TF_ENABLE_AUTO_MIXED_PRECISION has no effect.\n",
      "2024-05-24 01:49:18.509992: W tensorflow/core/grappler/optimizers/meta_optimizer.cc:163] TF_ENABLE_AUTO_MIXED_PRECISION has no effect.\n",
      "2024-05-24 01:49:18.510002: W tensorflow/core/grappler/optimizers/meta_optimizer.cc:163] TF_ENABLE_AUTO_MIXED_PRECISION has no effect.\n",
      "2024-05-24 01:49:18.510007: W tensorflow/core/grappler/optimizers/meta_optimizer.cc:163] TF_ENABLE_AUTO_MIXED_PRECISION has no effect.\n",
      "2024-05-24 01:49:18.510011: W tensorflow/core/grappler/optimizers/meta_optimizer.cc:163] TF_ENABLE_AUTO_MIXED_PRECISION has no effect.\n",
      "2024-05-24 01:49:18.510015: W tensorflow/core/grappler/optimizers/meta_optimizer.cc:163] TF_ENABLE_AUTO_MIXED_PRECISION has no effect.\n",
      "2024-05-24 01:49:18.518635: W tensorflow/core/grappler/optimizers/meta_optimizer.cc:163] TF_ENABLE_AUTO_MIXED_PRECISION has no effect.\n",
      "2024-05-24 01:49:18.518653: W tensorflow/core/grappler/optimizers/meta_optimizer.cc:163] TF_ENABLE_AUTO_MIXED_PRECISION has no effect.\n",
      "2024-05-24 01:49:18.518657: W tensorflow/core/grappler/optimizers/meta_optimizer.cc:163] TF_ENABLE_AUTO_MIXED_PRECISION has no effect.\n",
      "2024-05-24 01:49:18.518661: W tensorflow/core/grappler/optimizers/meta_optimizer.cc:163] TF_ENABLE_AUTO_MIXED_PRECISION has no effect.\n",
      "2024-05-24 01:49:18.518670: W tensorflow/core/grappler/optimizers/meta_optimizer.cc:163] TF_ENABLE_AUTO_MIXED_PRECISION has no effect.\n",
      "2024-05-24 01:49:18.518675: W tensorflow/core/grappler/optimizers/meta_optimizer.cc:163] TF_ENABLE_AUTO_MIXED_PRECISION has no effect.\n",
      "2024-05-24 01:49:18.518679: W tensorflow/core/grappler/optimizers/meta_optimizer.cc:163] TF_ENABLE_AUTO_MIXED_PRECISION has no effect.\n",
      "2024-05-24 01:49:18.518683: W tensorflow/core/grappler/optimizers/meta_optimizer.cc:163] TF_ENABLE_AUTO_MIXED_PRECISION has no effect.\n"
     ]
    },
    {
     "name": "stdout",
     "output_type": "stream",
     "text": [
      "235/235 [==============================] - 1s 4ms/step - loss: 0.0723 - val_loss: 0.0723\n",
      "Epoch 9/50\n",
      " 28/235 [==>...........................] - ETA: 0s - loss: 0.0720"
     ]
    },
    {
     "name": "stderr",
     "output_type": "stream",
     "text": [
      "2024-05-24 01:49:19.497476: W tensorflow/core/grappler/optimizers/meta_optimizer.cc:163] TF_ENABLE_AUTO_MIXED_PRECISION has no effect.\n",
      "2024-05-24 01:49:19.497507: W tensorflow/core/grappler/optimizers/meta_optimizer.cc:163] TF_ENABLE_AUTO_MIXED_PRECISION has no effect.\n",
      "2024-05-24 01:49:19.497512: W tensorflow/core/grappler/optimizers/meta_optimizer.cc:163] TF_ENABLE_AUTO_MIXED_PRECISION has no effect.\n",
      "2024-05-24 01:49:19.497516: W tensorflow/core/grappler/optimizers/meta_optimizer.cc:163] TF_ENABLE_AUTO_MIXED_PRECISION has no effect.\n",
      "2024-05-24 01:49:19.497529: W tensorflow/core/grappler/optimizers/meta_optimizer.cc:163] TF_ENABLE_AUTO_MIXED_PRECISION has no effect.\n",
      "2024-05-24 01:49:19.497534: W tensorflow/core/grappler/optimizers/meta_optimizer.cc:163] TF_ENABLE_AUTO_MIXED_PRECISION has no effect.\n",
      "2024-05-24 01:49:19.497538: W tensorflow/core/grappler/optimizers/meta_optimizer.cc:163] TF_ENABLE_AUTO_MIXED_PRECISION has no effect.\n",
      "2024-05-24 01:49:19.497542: W tensorflow/core/grappler/optimizers/meta_optimizer.cc:163] TF_ENABLE_AUTO_MIXED_PRECISION has no effect.\n",
      "2024-05-24 01:49:19.501517: W tensorflow/core/grappler/optimizers/meta_optimizer.cc:163] TF_ENABLE_AUTO_MIXED_PRECISION has no effect.\n",
      "2024-05-24 01:49:19.501540: W tensorflow/core/grappler/optimizers/meta_optimizer.cc:163] TF_ENABLE_AUTO_MIXED_PRECISION has no effect.\n",
      "2024-05-24 01:49:19.501545: W tensorflow/core/grappler/optimizers/meta_optimizer.cc:163] TF_ENABLE_AUTO_MIXED_PRECISION has no effect.\n",
      "2024-05-24 01:49:19.501549: W tensorflow/core/grappler/optimizers/meta_optimizer.cc:163] TF_ENABLE_AUTO_MIXED_PRECISION has no effect.\n",
      "2024-05-24 01:49:19.501559: W tensorflow/core/grappler/optimizers/meta_optimizer.cc:163] TF_ENABLE_AUTO_MIXED_PRECISION has no effect.\n",
      "2024-05-24 01:49:19.501565: W tensorflow/core/grappler/optimizers/meta_optimizer.cc:163] TF_ENABLE_AUTO_MIXED_PRECISION has no effect.\n",
      "2024-05-24 01:49:19.501569: W tensorflow/core/grappler/optimizers/meta_optimizer.cc:163] TF_ENABLE_AUTO_MIXED_PRECISION has no effect.\n",
      "2024-05-24 01:49:19.501573: W tensorflow/core/grappler/optimizers/meta_optimizer.cc:163] TF_ENABLE_AUTO_MIXED_PRECISION has no effect.\n",
      "2024-05-24 01:49:19.506260: W tensorflow/core/grappler/optimizers/meta_optimizer.cc:163] TF_ENABLE_AUTO_MIXED_PRECISION has no effect.\n",
      "2024-05-24 01:49:19.506278: W tensorflow/core/grappler/optimizers/meta_optimizer.cc:163] TF_ENABLE_AUTO_MIXED_PRECISION has no effect.\n",
      "2024-05-24 01:49:19.506283: W tensorflow/core/grappler/optimizers/meta_optimizer.cc:163] TF_ENABLE_AUTO_MIXED_PRECISION has no effect.\n",
      "2024-05-24 01:49:19.506286: W tensorflow/core/grappler/optimizers/meta_optimizer.cc:163] TF_ENABLE_AUTO_MIXED_PRECISION has no effect.\n",
      "2024-05-24 01:49:19.506295: W tensorflow/core/grappler/optimizers/meta_optimizer.cc:163] TF_ENABLE_AUTO_MIXED_PRECISION has no effect.\n",
      "2024-05-24 01:49:19.506302: W tensorflow/core/grappler/optimizers/meta_optimizer.cc:163] TF_ENABLE_AUTO_MIXED_PRECISION has no effect.\n",
      "2024-05-24 01:49:19.506306: W tensorflow/core/grappler/optimizers/meta_optimizer.cc:163] TF_ENABLE_AUTO_MIXED_PRECISION has no effect.\n",
      "2024-05-24 01:49:19.506309: W tensorflow/core/grappler/optimizers/meta_optimizer.cc:163] TF_ENABLE_AUTO_MIXED_PRECISION has no effect.\n"
     ]
    },
    {
     "name": "stdout",
     "output_type": "stream",
     "text": [
      "235/235 [==============================] - 1s 4ms/step - loss: 0.0717 - val_loss: 0.0717\n",
      "Epoch 10/50\n",
      " 28/235 [==>...........................] - ETA: 0s - loss: 0.0713"
     ]
    },
    {
     "name": "stderr",
     "output_type": "stream",
     "text": [
      "2024-05-24 01:49:20.491953: W tensorflow/core/grappler/optimizers/meta_optimizer.cc:163] TF_ENABLE_AUTO_MIXED_PRECISION has no effect.\n",
      "2024-05-24 01:49:20.491983: W tensorflow/core/grappler/optimizers/meta_optimizer.cc:163] TF_ENABLE_AUTO_MIXED_PRECISION has no effect.\n",
      "2024-05-24 01:49:20.491988: W tensorflow/core/grappler/optimizers/meta_optimizer.cc:163] TF_ENABLE_AUTO_MIXED_PRECISION has no effect.\n",
      "2024-05-24 01:49:20.491992: W tensorflow/core/grappler/optimizers/meta_optimizer.cc:163] TF_ENABLE_AUTO_MIXED_PRECISION has no effect.\n",
      "2024-05-24 01:49:20.492005: W tensorflow/core/grappler/optimizers/meta_optimizer.cc:163] TF_ENABLE_AUTO_MIXED_PRECISION has no effect.\n",
      "2024-05-24 01:49:20.492010: W tensorflow/core/grappler/optimizers/meta_optimizer.cc:163] TF_ENABLE_AUTO_MIXED_PRECISION has no effect.\n",
      "2024-05-24 01:49:20.492014: W tensorflow/core/grappler/optimizers/meta_optimizer.cc:163] TF_ENABLE_AUTO_MIXED_PRECISION has no effect.\n",
      "2024-05-24 01:49:20.492018: W tensorflow/core/grappler/optimizers/meta_optimizer.cc:163] TF_ENABLE_AUTO_MIXED_PRECISION has no effect.\n",
      "2024-05-24 01:49:20.495993: W tensorflow/core/grappler/optimizers/meta_optimizer.cc:163] TF_ENABLE_AUTO_MIXED_PRECISION has no effect.\n",
      "2024-05-24 01:49:20.496014: W tensorflow/core/grappler/optimizers/meta_optimizer.cc:163] TF_ENABLE_AUTO_MIXED_PRECISION has no effect.\n",
      "2024-05-24 01:49:20.496019: W tensorflow/core/grappler/optimizers/meta_optimizer.cc:163] TF_ENABLE_AUTO_MIXED_PRECISION has no effect.\n",
      "2024-05-24 01:49:20.496022: W tensorflow/core/grappler/optimizers/meta_optimizer.cc:163] TF_ENABLE_AUTO_MIXED_PRECISION has no effect.\n",
      "2024-05-24 01:49:20.496033: W tensorflow/core/grappler/optimizers/meta_optimizer.cc:163] TF_ENABLE_AUTO_MIXED_PRECISION has no effect.\n",
      "2024-05-24 01:49:20.496039: W tensorflow/core/grappler/optimizers/meta_optimizer.cc:163] TF_ENABLE_AUTO_MIXED_PRECISION has no effect.\n",
      "2024-05-24 01:49:20.496044: W tensorflow/core/grappler/optimizers/meta_optimizer.cc:163] TF_ENABLE_AUTO_MIXED_PRECISION has no effect.\n",
      "2024-05-24 01:49:20.496048: W tensorflow/core/grappler/optimizers/meta_optimizer.cc:163] TF_ENABLE_AUTO_MIXED_PRECISION has no effect.\n",
      "2024-05-24 01:49:20.500817: W tensorflow/core/grappler/optimizers/meta_optimizer.cc:163] TF_ENABLE_AUTO_MIXED_PRECISION has no effect.\n",
      "2024-05-24 01:49:20.500834: W tensorflow/core/grappler/optimizers/meta_optimizer.cc:163] TF_ENABLE_AUTO_MIXED_PRECISION has no effect.\n",
      "2024-05-24 01:49:20.500845: W tensorflow/core/grappler/optimizers/meta_optimizer.cc:163] TF_ENABLE_AUTO_MIXED_PRECISION has no effect.\n",
      "2024-05-24 01:49:20.500849: W tensorflow/core/grappler/optimizers/meta_optimizer.cc:163] TF_ENABLE_AUTO_MIXED_PRECISION has no effect.\n",
      "2024-05-24 01:49:20.500859: W tensorflow/core/grappler/optimizers/meta_optimizer.cc:163] TF_ENABLE_AUTO_MIXED_PRECISION has no effect.\n",
      "2024-05-24 01:49:20.500863: W tensorflow/core/grappler/optimizers/meta_optimizer.cc:163] TF_ENABLE_AUTO_MIXED_PRECISION has no effect.\n",
      "2024-05-24 01:49:20.500868: W tensorflow/core/grappler/optimizers/meta_optimizer.cc:163] TF_ENABLE_AUTO_MIXED_PRECISION has no effect.\n",
      "2024-05-24 01:49:20.500872: W tensorflow/core/grappler/optimizers/meta_optimizer.cc:163] TF_ENABLE_AUTO_MIXED_PRECISION has no effect.\n"
     ]
    },
    {
     "name": "stdout",
     "output_type": "stream",
     "text": [
      "235/235 [==============================] - 1s 4ms/step - loss: 0.0713 - val_loss: 0.0714\n",
      "Epoch 11/50\n",
      " 25/235 [==>...........................] - ETA: 0s - loss: 0.0710"
     ]
    },
    {
     "name": "stderr",
     "output_type": "stream",
     "text": [
      "2024-05-24 01:49:21.476291: W tensorflow/core/grappler/optimizers/meta_optimizer.cc:163] TF_ENABLE_AUTO_MIXED_PRECISION has no effect.\n",
      "2024-05-24 01:49:21.476321: W tensorflow/core/grappler/optimizers/meta_optimizer.cc:163] TF_ENABLE_AUTO_MIXED_PRECISION has no effect.\n",
      "2024-05-24 01:49:21.476326: W tensorflow/core/grappler/optimizers/meta_optimizer.cc:163] TF_ENABLE_AUTO_MIXED_PRECISION has no effect.\n",
      "2024-05-24 01:49:21.476330: W tensorflow/core/grappler/optimizers/meta_optimizer.cc:163] TF_ENABLE_AUTO_MIXED_PRECISION has no effect.\n",
      "2024-05-24 01:49:21.476343: W tensorflow/core/grappler/optimizers/meta_optimizer.cc:163] TF_ENABLE_AUTO_MIXED_PRECISION has no effect.\n",
      "2024-05-24 01:49:21.476348: W tensorflow/core/grappler/optimizers/meta_optimizer.cc:163] TF_ENABLE_AUTO_MIXED_PRECISION has no effect.\n",
      "2024-05-24 01:49:21.476352: W tensorflow/core/grappler/optimizers/meta_optimizer.cc:163] TF_ENABLE_AUTO_MIXED_PRECISION has no effect.\n",
      "2024-05-24 01:49:21.476356: W tensorflow/core/grappler/optimizers/meta_optimizer.cc:163] TF_ENABLE_AUTO_MIXED_PRECISION has no effect.\n",
      "2024-05-24 01:49:21.480579: W tensorflow/core/grappler/optimizers/meta_optimizer.cc:163] TF_ENABLE_AUTO_MIXED_PRECISION has no effect.\n",
      "2024-05-24 01:49:21.480600: W tensorflow/core/grappler/optimizers/meta_optimizer.cc:163] TF_ENABLE_AUTO_MIXED_PRECISION has no effect.\n",
      "2024-05-24 01:49:21.480604: W tensorflow/core/grappler/optimizers/meta_optimizer.cc:163] TF_ENABLE_AUTO_MIXED_PRECISION has no effect.\n",
      "2024-05-24 01:49:21.480608: W tensorflow/core/grappler/optimizers/meta_optimizer.cc:163] TF_ENABLE_AUTO_MIXED_PRECISION has no effect.\n",
      "2024-05-24 01:49:21.480619: W tensorflow/core/grappler/optimizers/meta_optimizer.cc:163] TF_ENABLE_AUTO_MIXED_PRECISION has no effect.\n",
      "2024-05-24 01:49:21.480626: W tensorflow/core/grappler/optimizers/meta_optimizer.cc:163] TF_ENABLE_AUTO_MIXED_PRECISION has no effect.\n",
      "2024-05-24 01:49:21.480630: W tensorflow/core/grappler/optimizers/meta_optimizer.cc:163] TF_ENABLE_AUTO_MIXED_PRECISION has no effect.\n",
      "2024-05-24 01:49:21.480634: W tensorflow/core/grappler/optimizers/meta_optimizer.cc:163] TF_ENABLE_AUTO_MIXED_PRECISION has no effect.\n",
      "2024-05-24 01:49:21.485719: W tensorflow/core/grappler/optimizers/meta_optimizer.cc:163] TF_ENABLE_AUTO_MIXED_PRECISION has no effect.\n",
      "2024-05-24 01:49:21.485740: W tensorflow/core/grappler/optimizers/meta_optimizer.cc:163] TF_ENABLE_AUTO_MIXED_PRECISION has no effect.\n",
      "2024-05-24 01:49:21.485745: W tensorflow/core/grappler/optimizers/meta_optimizer.cc:163] TF_ENABLE_AUTO_MIXED_PRECISION has no effect.\n",
      "2024-05-24 01:49:21.485749: W tensorflow/core/grappler/optimizers/meta_optimizer.cc:163] TF_ENABLE_AUTO_MIXED_PRECISION has no effect.\n",
      "2024-05-24 01:49:21.485759: W tensorflow/core/grappler/optimizers/meta_optimizer.cc:163] TF_ENABLE_AUTO_MIXED_PRECISION has no effect.\n",
      "2024-05-24 01:49:21.485765: W tensorflow/core/grappler/optimizers/meta_optimizer.cc:163] TF_ENABLE_AUTO_MIXED_PRECISION has no effect.\n",
      "2024-05-24 01:49:21.485769: W tensorflow/core/grappler/optimizers/meta_optimizer.cc:163] TF_ENABLE_AUTO_MIXED_PRECISION has no effect.\n",
      "2024-05-24 01:49:21.485774: W tensorflow/core/grappler/optimizers/meta_optimizer.cc:163] TF_ENABLE_AUTO_MIXED_PRECISION has no effect.\n"
     ]
    },
    {
     "name": "stdout",
     "output_type": "stream",
     "text": [
      "235/235 [==============================] - 1s 4ms/step - loss: 0.0709 - val_loss: 0.0709\n",
      "Epoch 12/50\n",
      " 27/235 [==>...........................] - ETA: 0s - loss: 0.0704"
     ]
    },
    {
     "name": "stderr",
     "output_type": "stream",
     "text": [
      "2024-05-24 01:49:22.507694: W tensorflow/core/grappler/optimizers/meta_optimizer.cc:163] TF_ENABLE_AUTO_MIXED_PRECISION has no effect.\n",
      "2024-05-24 01:49:22.507726: W tensorflow/core/grappler/optimizers/meta_optimizer.cc:163] TF_ENABLE_AUTO_MIXED_PRECISION has no effect.\n",
      "2024-05-24 01:49:22.507730: W tensorflow/core/grappler/optimizers/meta_optimizer.cc:163] TF_ENABLE_AUTO_MIXED_PRECISION has no effect.\n",
      "2024-05-24 01:49:22.507734: W tensorflow/core/grappler/optimizers/meta_optimizer.cc:163] TF_ENABLE_AUTO_MIXED_PRECISION has no effect.\n",
      "2024-05-24 01:49:22.507747: W tensorflow/core/grappler/optimizers/meta_optimizer.cc:163] TF_ENABLE_AUTO_MIXED_PRECISION has no effect.\n",
      "2024-05-24 01:49:22.507752: W tensorflow/core/grappler/optimizers/meta_optimizer.cc:163] TF_ENABLE_AUTO_MIXED_PRECISION has no effect.\n",
      "2024-05-24 01:49:22.507756: W tensorflow/core/grappler/optimizers/meta_optimizer.cc:163] TF_ENABLE_AUTO_MIXED_PRECISION has no effect.\n",
      "2024-05-24 01:49:22.507760: W tensorflow/core/grappler/optimizers/meta_optimizer.cc:163] TF_ENABLE_AUTO_MIXED_PRECISION has no effect.\n",
      "2024-05-24 01:49:22.511823: W tensorflow/core/grappler/optimizers/meta_optimizer.cc:163] TF_ENABLE_AUTO_MIXED_PRECISION has no effect.\n",
      "2024-05-24 01:49:22.511851: W tensorflow/core/grappler/optimizers/meta_optimizer.cc:163] TF_ENABLE_AUTO_MIXED_PRECISION has no effect.\n",
      "2024-05-24 01:49:22.511856: W tensorflow/core/grappler/optimizers/meta_optimizer.cc:163] TF_ENABLE_AUTO_MIXED_PRECISION has no effect.\n",
      "2024-05-24 01:49:22.511860: W tensorflow/core/grappler/optimizers/meta_optimizer.cc:163] TF_ENABLE_AUTO_MIXED_PRECISION has no effect.\n",
      "2024-05-24 01:49:22.511870: W tensorflow/core/grappler/optimizers/meta_optimizer.cc:163] TF_ENABLE_AUTO_MIXED_PRECISION has no effect.\n",
      "2024-05-24 01:49:22.511875: W tensorflow/core/grappler/optimizers/meta_optimizer.cc:163] TF_ENABLE_AUTO_MIXED_PRECISION has no effect.\n",
      "2024-05-24 01:49:22.511880: W tensorflow/core/grappler/optimizers/meta_optimizer.cc:163] TF_ENABLE_AUTO_MIXED_PRECISION has no effect.\n",
      "2024-05-24 01:49:22.511884: W tensorflow/core/grappler/optimizers/meta_optimizer.cc:163] TF_ENABLE_AUTO_MIXED_PRECISION has no effect.\n",
      "2024-05-24 01:49:22.516660: W tensorflow/core/grappler/optimizers/meta_optimizer.cc:163] TF_ENABLE_AUTO_MIXED_PRECISION has no effect.\n",
      "2024-05-24 01:49:22.516678: W tensorflow/core/grappler/optimizers/meta_optimizer.cc:163] TF_ENABLE_AUTO_MIXED_PRECISION has no effect.\n",
      "2024-05-24 01:49:22.516682: W tensorflow/core/grappler/optimizers/meta_optimizer.cc:163] TF_ENABLE_AUTO_MIXED_PRECISION has no effect.\n",
      "2024-05-24 01:49:22.516686: W tensorflow/core/grappler/optimizers/meta_optimizer.cc:163] TF_ENABLE_AUTO_MIXED_PRECISION has no effect.\n",
      "2024-05-24 01:49:22.516696: W tensorflow/core/grappler/optimizers/meta_optimizer.cc:163] TF_ENABLE_AUTO_MIXED_PRECISION has no effect.\n",
      "2024-05-24 01:49:22.516701: W tensorflow/core/grappler/optimizers/meta_optimizer.cc:163] TF_ENABLE_AUTO_MIXED_PRECISION has no effect.\n",
      "2024-05-24 01:49:22.516704: W tensorflow/core/grappler/optimizers/meta_optimizer.cc:163] TF_ENABLE_AUTO_MIXED_PRECISION has no effect.\n",
      "2024-05-24 01:49:22.516709: W tensorflow/core/grappler/optimizers/meta_optimizer.cc:163] TF_ENABLE_AUTO_MIXED_PRECISION has no effect.\n"
     ]
    },
    {
     "name": "stdout",
     "output_type": "stream",
     "text": [
      "235/235 [==============================] - 1s 4ms/step - loss: 0.0705 - val_loss: 0.0706\n",
      "Epoch 13/50\n",
      " 29/235 [==>...........................] - ETA: 0s - loss: 0.0703"
     ]
    },
    {
     "name": "stderr",
     "output_type": "stream",
     "text": [
      "2024-05-24 01:49:23.499696: W tensorflow/core/grappler/optimizers/meta_optimizer.cc:163] TF_ENABLE_AUTO_MIXED_PRECISION has no effect.\n",
      "2024-05-24 01:49:23.499728: W tensorflow/core/grappler/optimizers/meta_optimizer.cc:163] TF_ENABLE_AUTO_MIXED_PRECISION has no effect.\n",
      "2024-05-24 01:49:23.499732: W tensorflow/core/grappler/optimizers/meta_optimizer.cc:163] TF_ENABLE_AUTO_MIXED_PRECISION has no effect.\n",
      "2024-05-24 01:49:23.499736: W tensorflow/core/grappler/optimizers/meta_optimizer.cc:163] TF_ENABLE_AUTO_MIXED_PRECISION has no effect.\n",
      "2024-05-24 01:49:23.499749: W tensorflow/core/grappler/optimizers/meta_optimizer.cc:163] TF_ENABLE_AUTO_MIXED_PRECISION has no effect.\n",
      "2024-05-24 01:49:23.499755: W tensorflow/core/grappler/optimizers/meta_optimizer.cc:163] TF_ENABLE_AUTO_MIXED_PRECISION has no effect.\n",
      "2024-05-24 01:49:23.499759: W tensorflow/core/grappler/optimizers/meta_optimizer.cc:163] TF_ENABLE_AUTO_MIXED_PRECISION has no effect.\n",
      "2024-05-24 01:49:23.499763: W tensorflow/core/grappler/optimizers/meta_optimizer.cc:163] TF_ENABLE_AUTO_MIXED_PRECISION has no effect.\n",
      "2024-05-24 01:49:23.503779: W tensorflow/core/grappler/optimizers/meta_optimizer.cc:163] TF_ENABLE_AUTO_MIXED_PRECISION has no effect.\n",
      "2024-05-24 01:49:23.503800: W tensorflow/core/grappler/optimizers/meta_optimizer.cc:163] TF_ENABLE_AUTO_MIXED_PRECISION has no effect.\n",
      "2024-05-24 01:49:23.503805: W tensorflow/core/grappler/optimizers/meta_optimizer.cc:163] TF_ENABLE_AUTO_MIXED_PRECISION has no effect.\n",
      "2024-05-24 01:49:23.503808: W tensorflow/core/grappler/optimizers/meta_optimizer.cc:163] TF_ENABLE_AUTO_MIXED_PRECISION has no effect.\n",
      "2024-05-24 01:49:23.503820: W tensorflow/core/grappler/optimizers/meta_optimizer.cc:163] TF_ENABLE_AUTO_MIXED_PRECISION has no effect.\n",
      "2024-05-24 01:49:23.503826: W tensorflow/core/grappler/optimizers/meta_optimizer.cc:163] TF_ENABLE_AUTO_MIXED_PRECISION has no effect.\n",
      "2024-05-24 01:49:23.503830: W tensorflow/core/grappler/optimizers/meta_optimizer.cc:163] TF_ENABLE_AUTO_MIXED_PRECISION has no effect.\n",
      "2024-05-24 01:49:23.503834: W tensorflow/core/grappler/optimizers/meta_optimizer.cc:163] TF_ENABLE_AUTO_MIXED_PRECISION has no effect.\n",
      "2024-05-24 01:49:23.509045: W tensorflow/core/grappler/optimizers/meta_optimizer.cc:163] TF_ENABLE_AUTO_MIXED_PRECISION has no effect.\n",
      "2024-05-24 01:49:23.509062: W tensorflow/core/grappler/optimizers/meta_optimizer.cc:163] TF_ENABLE_AUTO_MIXED_PRECISION has no effect.\n",
      "2024-05-24 01:49:23.509067: W tensorflow/core/grappler/optimizers/meta_optimizer.cc:163] TF_ENABLE_AUTO_MIXED_PRECISION has no effect.\n",
      "2024-05-24 01:49:23.509070: W tensorflow/core/grappler/optimizers/meta_optimizer.cc:163] TF_ENABLE_AUTO_MIXED_PRECISION has no effect.\n",
      "2024-05-24 01:49:23.509081: W tensorflow/core/grappler/optimizers/meta_optimizer.cc:163] TF_ENABLE_AUTO_MIXED_PRECISION has no effect.\n",
      "2024-05-24 01:49:23.509087: W tensorflow/core/grappler/optimizers/meta_optimizer.cc:163] TF_ENABLE_AUTO_MIXED_PRECISION has no effect.\n",
      "2024-05-24 01:49:23.509091: W tensorflow/core/grappler/optimizers/meta_optimizer.cc:163] TF_ENABLE_AUTO_MIXED_PRECISION has no effect.\n",
      "2024-05-24 01:49:23.509095: W tensorflow/core/grappler/optimizers/meta_optimizer.cc:163] TF_ENABLE_AUTO_MIXED_PRECISION has no effect.\n"
     ]
    },
    {
     "name": "stdout",
     "output_type": "stream",
     "text": [
      "235/235 [==============================] - 1s 4ms/step - loss: 0.0702 - val_loss: 0.0703\n",
      "Epoch 14/50\n",
      " 27/235 [==>...........................] - ETA: 0s - loss: 0.0700"
     ]
    },
    {
     "name": "stderr",
     "output_type": "stream",
     "text": [
      "2024-05-24 01:49:24.516957: W tensorflow/core/grappler/optimizers/meta_optimizer.cc:163] TF_ENABLE_AUTO_MIXED_PRECISION has no effect.\n",
      "2024-05-24 01:49:24.516990: W tensorflow/core/grappler/optimizers/meta_optimizer.cc:163] TF_ENABLE_AUTO_MIXED_PRECISION has no effect.\n",
      "2024-05-24 01:49:24.516995: W tensorflow/core/grappler/optimizers/meta_optimizer.cc:163] TF_ENABLE_AUTO_MIXED_PRECISION has no effect.\n",
      "2024-05-24 01:49:24.516998: W tensorflow/core/grappler/optimizers/meta_optimizer.cc:163] TF_ENABLE_AUTO_MIXED_PRECISION has no effect.\n",
      "2024-05-24 01:49:24.517010: W tensorflow/core/grappler/optimizers/meta_optimizer.cc:163] TF_ENABLE_AUTO_MIXED_PRECISION has no effect.\n",
      "2024-05-24 01:49:24.517016: W tensorflow/core/grappler/optimizers/meta_optimizer.cc:163] TF_ENABLE_AUTO_MIXED_PRECISION has no effect.\n",
      "2024-05-24 01:49:24.517020: W tensorflow/core/grappler/optimizers/meta_optimizer.cc:163] TF_ENABLE_AUTO_MIXED_PRECISION has no effect.\n",
      "2024-05-24 01:49:24.517024: W tensorflow/core/grappler/optimizers/meta_optimizer.cc:163] TF_ENABLE_AUTO_MIXED_PRECISION has no effect.\n",
      "2024-05-24 01:49:24.521070: W tensorflow/core/grappler/optimizers/meta_optimizer.cc:163] TF_ENABLE_AUTO_MIXED_PRECISION has no effect.\n",
      "2024-05-24 01:49:24.521092: W tensorflow/core/grappler/optimizers/meta_optimizer.cc:163] TF_ENABLE_AUTO_MIXED_PRECISION has no effect.\n",
      "2024-05-24 01:49:24.521096: W tensorflow/core/grappler/optimizers/meta_optimizer.cc:163] TF_ENABLE_AUTO_MIXED_PRECISION has no effect.\n",
      "2024-05-24 01:49:24.521100: W tensorflow/core/grappler/optimizers/meta_optimizer.cc:163] TF_ENABLE_AUTO_MIXED_PRECISION has no effect.\n",
      "2024-05-24 01:49:24.521111: W tensorflow/core/grappler/optimizers/meta_optimizer.cc:163] TF_ENABLE_AUTO_MIXED_PRECISION has no effect.\n",
      "2024-05-24 01:49:24.521117: W tensorflow/core/grappler/optimizers/meta_optimizer.cc:163] TF_ENABLE_AUTO_MIXED_PRECISION has no effect.\n",
      "2024-05-24 01:49:24.521121: W tensorflow/core/grappler/optimizers/meta_optimizer.cc:163] TF_ENABLE_AUTO_MIXED_PRECISION has no effect.\n",
      "2024-05-24 01:49:24.521126: W tensorflow/core/grappler/optimizers/meta_optimizer.cc:163] TF_ENABLE_AUTO_MIXED_PRECISION has no effect.\n",
      "2024-05-24 01:49:24.525846: W tensorflow/core/grappler/optimizers/meta_optimizer.cc:163] TF_ENABLE_AUTO_MIXED_PRECISION has no effect.\n",
      "2024-05-24 01:49:24.525865: W tensorflow/core/grappler/optimizers/meta_optimizer.cc:163] TF_ENABLE_AUTO_MIXED_PRECISION has no effect.\n",
      "2024-05-24 01:49:24.525869: W tensorflow/core/grappler/optimizers/meta_optimizer.cc:163] TF_ENABLE_AUTO_MIXED_PRECISION has no effect.\n",
      "2024-05-24 01:49:24.525873: W tensorflow/core/grappler/optimizers/meta_optimizer.cc:163] TF_ENABLE_AUTO_MIXED_PRECISION has no effect.\n",
      "2024-05-24 01:49:24.525882: W tensorflow/core/grappler/optimizers/meta_optimizer.cc:163] TF_ENABLE_AUTO_MIXED_PRECISION has no effect.\n",
      "2024-05-24 01:49:24.525889: W tensorflow/core/grappler/optimizers/meta_optimizer.cc:163] TF_ENABLE_AUTO_MIXED_PRECISION has no effect.\n",
      "2024-05-24 01:49:24.525893: W tensorflow/core/grappler/optimizers/meta_optimizer.cc:163] TF_ENABLE_AUTO_MIXED_PRECISION has no effect.\n",
      "2024-05-24 01:49:24.525897: W tensorflow/core/grappler/optimizers/meta_optimizer.cc:163] TF_ENABLE_AUTO_MIXED_PRECISION has no effect.\n"
     ]
    },
    {
     "name": "stdout",
     "output_type": "stream",
     "text": [
      "235/235 [==============================] - 1s 4ms/step - loss: 0.0699 - val_loss: 0.0701\n",
      "Epoch 15/50\n",
      " 28/235 [==>...........................] - ETA: 0s - loss: 0.0703"
     ]
    },
    {
     "name": "stderr",
     "output_type": "stream",
     "text": [
      "2024-05-24 01:49:25.507910: W tensorflow/core/grappler/optimizers/meta_optimizer.cc:163] TF_ENABLE_AUTO_MIXED_PRECISION has no effect.\n",
      "2024-05-24 01:49:25.507943: W tensorflow/core/grappler/optimizers/meta_optimizer.cc:163] TF_ENABLE_AUTO_MIXED_PRECISION has no effect.\n",
      "2024-05-24 01:49:25.507948: W tensorflow/core/grappler/optimizers/meta_optimizer.cc:163] TF_ENABLE_AUTO_MIXED_PRECISION has no effect.\n",
      "2024-05-24 01:49:25.507952: W tensorflow/core/grappler/optimizers/meta_optimizer.cc:163] TF_ENABLE_AUTO_MIXED_PRECISION has no effect.\n",
      "2024-05-24 01:49:25.507965: W tensorflow/core/grappler/optimizers/meta_optimizer.cc:163] TF_ENABLE_AUTO_MIXED_PRECISION has no effect.\n",
      "2024-05-24 01:49:25.507971: W tensorflow/core/grappler/optimizers/meta_optimizer.cc:163] TF_ENABLE_AUTO_MIXED_PRECISION has no effect.\n",
      "2024-05-24 01:49:25.507976: W tensorflow/core/grappler/optimizers/meta_optimizer.cc:163] TF_ENABLE_AUTO_MIXED_PRECISION has no effect.\n",
      "2024-05-24 01:49:25.507980: W tensorflow/core/grappler/optimizers/meta_optimizer.cc:163] TF_ENABLE_AUTO_MIXED_PRECISION has no effect.\n",
      "2024-05-24 01:49:25.512243: W tensorflow/core/grappler/optimizers/meta_optimizer.cc:163] TF_ENABLE_AUTO_MIXED_PRECISION has no effect.\n",
      "2024-05-24 01:49:25.512266: W tensorflow/core/grappler/optimizers/meta_optimizer.cc:163] TF_ENABLE_AUTO_MIXED_PRECISION has no effect.\n",
      "2024-05-24 01:49:25.512271: W tensorflow/core/grappler/optimizers/meta_optimizer.cc:163] TF_ENABLE_AUTO_MIXED_PRECISION has no effect.\n",
      "2024-05-24 01:49:25.512275: W tensorflow/core/grappler/optimizers/meta_optimizer.cc:163] TF_ENABLE_AUTO_MIXED_PRECISION has no effect.\n",
      "2024-05-24 01:49:25.512286: W tensorflow/core/grappler/optimizers/meta_optimizer.cc:163] TF_ENABLE_AUTO_MIXED_PRECISION has no effect.\n",
      "2024-05-24 01:49:25.512292: W tensorflow/core/grappler/optimizers/meta_optimizer.cc:163] TF_ENABLE_AUTO_MIXED_PRECISION has no effect.\n",
      "2024-05-24 01:49:25.512297: W tensorflow/core/grappler/optimizers/meta_optimizer.cc:163] TF_ENABLE_AUTO_MIXED_PRECISION has no effect.\n",
      "2024-05-24 01:49:25.512301: W tensorflow/core/grappler/optimizers/meta_optimizer.cc:163] TF_ENABLE_AUTO_MIXED_PRECISION has no effect.\n",
      "2024-05-24 01:49:25.517344: W tensorflow/core/grappler/optimizers/meta_optimizer.cc:163] TF_ENABLE_AUTO_MIXED_PRECISION has no effect.\n",
      "2024-05-24 01:49:25.517364: W tensorflow/core/grappler/optimizers/meta_optimizer.cc:163] TF_ENABLE_AUTO_MIXED_PRECISION has no effect.\n",
      "2024-05-24 01:49:25.517369: W tensorflow/core/grappler/optimizers/meta_optimizer.cc:163] TF_ENABLE_AUTO_MIXED_PRECISION has no effect.\n",
      "2024-05-24 01:49:25.517373: W tensorflow/core/grappler/optimizers/meta_optimizer.cc:163] TF_ENABLE_AUTO_MIXED_PRECISION has no effect.\n",
      "2024-05-24 01:49:25.517383: W tensorflow/core/grappler/optimizers/meta_optimizer.cc:163] TF_ENABLE_AUTO_MIXED_PRECISION has no effect.\n",
      "2024-05-24 01:49:25.517390: W tensorflow/core/grappler/optimizers/meta_optimizer.cc:163] TF_ENABLE_AUTO_MIXED_PRECISION has no effect.\n",
      "2024-05-24 01:49:25.517394: W tensorflow/core/grappler/optimizers/meta_optimizer.cc:163] TF_ENABLE_AUTO_MIXED_PRECISION has no effect.\n",
      "2024-05-24 01:49:25.517398: W tensorflow/core/grappler/optimizers/meta_optimizer.cc:163] TF_ENABLE_AUTO_MIXED_PRECISION has no effect.\n"
     ]
    },
    {
     "name": "stdout",
     "output_type": "stream",
     "text": [
      "235/235 [==============================] - 1s 4ms/step - loss: 0.0697 - val_loss: 0.0698\n",
      "Epoch 16/50\n",
      " 28/235 [==>...........................] - ETA: 0s - loss: 0.0696"
     ]
    },
    {
     "name": "stderr",
     "output_type": "stream",
     "text": [
      "2024-05-24 01:49:26.503799: W tensorflow/core/grappler/optimizers/meta_optimizer.cc:163] TF_ENABLE_AUTO_MIXED_PRECISION has no effect.\n",
      "2024-05-24 01:49:26.503832: W tensorflow/core/grappler/optimizers/meta_optimizer.cc:163] TF_ENABLE_AUTO_MIXED_PRECISION has no effect.\n",
      "2024-05-24 01:49:26.503843: W tensorflow/core/grappler/optimizers/meta_optimizer.cc:163] TF_ENABLE_AUTO_MIXED_PRECISION has no effect.\n",
      "2024-05-24 01:49:26.503847: W tensorflow/core/grappler/optimizers/meta_optimizer.cc:163] TF_ENABLE_AUTO_MIXED_PRECISION has no effect.\n",
      "2024-05-24 01:49:26.503861: W tensorflow/core/grappler/optimizers/meta_optimizer.cc:163] TF_ENABLE_AUTO_MIXED_PRECISION has no effect.\n",
      "2024-05-24 01:49:26.503866: W tensorflow/core/grappler/optimizers/meta_optimizer.cc:163] TF_ENABLE_AUTO_MIXED_PRECISION has no effect.\n",
      "2024-05-24 01:49:26.503871: W tensorflow/core/grappler/optimizers/meta_optimizer.cc:163] TF_ENABLE_AUTO_MIXED_PRECISION has no effect.\n",
      "2024-05-24 01:49:26.503875: W tensorflow/core/grappler/optimizers/meta_optimizer.cc:163] TF_ENABLE_AUTO_MIXED_PRECISION has no effect.\n",
      "2024-05-24 01:49:26.511411: W tensorflow/core/grappler/optimizers/meta_optimizer.cc:163] TF_ENABLE_AUTO_MIXED_PRECISION has no effect.\n",
      "2024-05-24 01:49:26.511434: W tensorflow/core/grappler/optimizers/meta_optimizer.cc:163] TF_ENABLE_AUTO_MIXED_PRECISION has no effect.\n",
      "2024-05-24 01:49:26.511438: W tensorflow/core/grappler/optimizers/meta_optimizer.cc:163] TF_ENABLE_AUTO_MIXED_PRECISION has no effect.\n",
      "2024-05-24 01:49:26.511442: W tensorflow/core/grappler/optimizers/meta_optimizer.cc:163] TF_ENABLE_AUTO_MIXED_PRECISION has no effect.\n",
      "2024-05-24 01:49:26.511454: W tensorflow/core/grappler/optimizers/meta_optimizer.cc:163] TF_ENABLE_AUTO_MIXED_PRECISION has no effect.\n",
      "2024-05-24 01:49:26.511461: W tensorflow/core/grappler/optimizers/meta_optimizer.cc:163] TF_ENABLE_AUTO_MIXED_PRECISION has no effect.\n",
      "2024-05-24 01:49:26.511465: W tensorflow/core/grappler/optimizers/meta_optimizer.cc:163] TF_ENABLE_AUTO_MIXED_PRECISION has no effect.\n",
      "2024-05-24 01:49:26.511470: W tensorflow/core/grappler/optimizers/meta_optimizer.cc:163] TF_ENABLE_AUTO_MIXED_PRECISION has no effect.\n",
      "2024-05-24 01:49:26.516495: W tensorflow/core/grappler/optimizers/meta_optimizer.cc:163] TF_ENABLE_AUTO_MIXED_PRECISION has no effect.\n",
      "2024-05-24 01:49:26.516515: W tensorflow/core/grappler/optimizers/meta_optimizer.cc:163] TF_ENABLE_AUTO_MIXED_PRECISION has no effect.\n",
      "2024-05-24 01:49:26.516520: W tensorflow/core/grappler/optimizers/meta_optimizer.cc:163] TF_ENABLE_AUTO_MIXED_PRECISION has no effect.\n",
      "2024-05-24 01:49:26.516523: W tensorflow/core/grappler/optimizers/meta_optimizer.cc:163] TF_ENABLE_AUTO_MIXED_PRECISION has no effect.\n",
      "2024-05-24 01:49:26.516533: W tensorflow/core/grappler/optimizers/meta_optimizer.cc:163] TF_ENABLE_AUTO_MIXED_PRECISION has no effect.\n",
      "2024-05-24 01:49:26.516540: W tensorflow/core/grappler/optimizers/meta_optimizer.cc:163] TF_ENABLE_AUTO_MIXED_PRECISION has no effect.\n",
      "2024-05-24 01:49:26.516544: W tensorflow/core/grappler/optimizers/meta_optimizer.cc:163] TF_ENABLE_AUTO_MIXED_PRECISION has no effect.\n",
      "2024-05-24 01:49:26.516548: W tensorflow/core/grappler/optimizers/meta_optimizer.cc:163] TF_ENABLE_AUTO_MIXED_PRECISION has no effect.\n"
     ]
    },
    {
     "name": "stdout",
     "output_type": "stream",
     "text": [
      "235/235 [==============================] - 1s 4ms/step - loss: 0.0694 - val_loss: 0.0696\n",
      "Epoch 17/50\n",
      " 27/235 [==>...........................] - ETA: 0s - loss: 0.0697"
     ]
    },
    {
     "name": "stderr",
     "output_type": "stream",
     "text": [
      "2024-05-24 01:49:27.520568: W tensorflow/core/grappler/optimizers/meta_optimizer.cc:163] TF_ENABLE_AUTO_MIXED_PRECISION has no effect.\n",
      "2024-05-24 01:49:27.520598: W tensorflow/core/grappler/optimizers/meta_optimizer.cc:163] TF_ENABLE_AUTO_MIXED_PRECISION has no effect.\n",
      "2024-05-24 01:49:27.520603: W tensorflow/core/grappler/optimizers/meta_optimizer.cc:163] TF_ENABLE_AUTO_MIXED_PRECISION has no effect.\n",
      "2024-05-24 01:49:27.520606: W tensorflow/core/grappler/optimizers/meta_optimizer.cc:163] TF_ENABLE_AUTO_MIXED_PRECISION has no effect.\n",
      "2024-05-24 01:49:27.520619: W tensorflow/core/grappler/optimizers/meta_optimizer.cc:163] TF_ENABLE_AUTO_MIXED_PRECISION has no effect.\n",
      "2024-05-24 01:49:27.520624: W tensorflow/core/grappler/optimizers/meta_optimizer.cc:163] TF_ENABLE_AUTO_MIXED_PRECISION has no effect.\n",
      "2024-05-24 01:49:27.520629: W tensorflow/core/grappler/optimizers/meta_optimizer.cc:163] TF_ENABLE_AUTO_MIXED_PRECISION has no effect.\n",
      "2024-05-24 01:49:27.520633: W tensorflow/core/grappler/optimizers/meta_optimizer.cc:163] TF_ENABLE_AUTO_MIXED_PRECISION has no effect.\n",
      "2024-05-24 01:49:27.524633: W tensorflow/core/grappler/optimizers/meta_optimizer.cc:163] TF_ENABLE_AUTO_MIXED_PRECISION has no effect.\n",
      "2024-05-24 01:49:27.524655: W tensorflow/core/grappler/optimizers/meta_optimizer.cc:163] TF_ENABLE_AUTO_MIXED_PRECISION has no effect.\n",
      "2024-05-24 01:49:27.524659: W tensorflow/core/grappler/optimizers/meta_optimizer.cc:163] TF_ENABLE_AUTO_MIXED_PRECISION has no effect.\n",
      "2024-05-24 01:49:27.524663: W tensorflow/core/grappler/optimizers/meta_optimizer.cc:163] TF_ENABLE_AUTO_MIXED_PRECISION has no effect.\n",
      "2024-05-24 01:49:27.524675: W tensorflow/core/grappler/optimizers/meta_optimizer.cc:163] TF_ENABLE_AUTO_MIXED_PRECISION has no effect.\n",
      "2024-05-24 01:49:27.524682: W tensorflow/core/grappler/optimizers/meta_optimizer.cc:163] TF_ENABLE_AUTO_MIXED_PRECISION has no effect.\n",
      "2024-05-24 01:49:27.524686: W tensorflow/core/grappler/optimizers/meta_optimizer.cc:163] TF_ENABLE_AUTO_MIXED_PRECISION has no effect.\n",
      "2024-05-24 01:49:27.524690: W tensorflow/core/grappler/optimizers/meta_optimizer.cc:163] TF_ENABLE_AUTO_MIXED_PRECISION has no effect.\n",
      "2024-05-24 01:49:27.529528: W tensorflow/core/grappler/optimizers/meta_optimizer.cc:163] TF_ENABLE_AUTO_MIXED_PRECISION has no effect.\n",
      "2024-05-24 01:49:27.529548: W tensorflow/core/grappler/optimizers/meta_optimizer.cc:163] TF_ENABLE_AUTO_MIXED_PRECISION has no effect.\n",
      "2024-05-24 01:49:27.529553: W tensorflow/core/grappler/optimizers/meta_optimizer.cc:163] TF_ENABLE_AUTO_MIXED_PRECISION has no effect.\n",
      "2024-05-24 01:49:27.529557: W tensorflow/core/grappler/optimizers/meta_optimizer.cc:163] TF_ENABLE_AUTO_MIXED_PRECISION has no effect.\n",
      "2024-05-24 01:49:27.529567: W tensorflow/core/grappler/optimizers/meta_optimizer.cc:163] TF_ENABLE_AUTO_MIXED_PRECISION has no effect.\n",
      "2024-05-24 01:49:27.529571: W tensorflow/core/grappler/optimizers/meta_optimizer.cc:163] TF_ENABLE_AUTO_MIXED_PRECISION has no effect.\n",
      "2024-05-24 01:49:27.529575: W tensorflow/core/grappler/optimizers/meta_optimizer.cc:163] TF_ENABLE_AUTO_MIXED_PRECISION has no effect.\n",
      "2024-05-24 01:49:27.529579: W tensorflow/core/grappler/optimizers/meta_optimizer.cc:163] TF_ENABLE_AUTO_MIXED_PRECISION has no effect.\n"
     ]
    },
    {
     "name": "stdout",
     "output_type": "stream",
     "text": [
      "235/235 [==============================] - 1s 4ms/step - loss: 0.0692 - val_loss: 0.0694\n",
      "Epoch 18/50\n",
      " 28/235 [==>...........................] - ETA: 0s - loss: 0.0692"
     ]
    },
    {
     "name": "stderr",
     "output_type": "stream",
     "text": [
      "2024-05-24 01:49:28.511999: W tensorflow/core/grappler/optimizers/meta_optimizer.cc:163] TF_ENABLE_AUTO_MIXED_PRECISION has no effect.\n",
      "2024-05-24 01:49:28.512036: W tensorflow/core/grappler/optimizers/meta_optimizer.cc:163] TF_ENABLE_AUTO_MIXED_PRECISION has no effect.\n",
      "2024-05-24 01:49:28.512040: W tensorflow/core/grappler/optimizers/meta_optimizer.cc:163] TF_ENABLE_AUTO_MIXED_PRECISION has no effect.\n",
      "2024-05-24 01:49:28.512044: W tensorflow/core/grappler/optimizers/meta_optimizer.cc:163] TF_ENABLE_AUTO_MIXED_PRECISION has no effect.\n",
      "2024-05-24 01:49:28.512057: W tensorflow/core/grappler/optimizers/meta_optimizer.cc:163] TF_ENABLE_AUTO_MIXED_PRECISION has no effect.\n",
      "2024-05-24 01:49:28.512062: W tensorflow/core/grappler/optimizers/meta_optimizer.cc:163] TF_ENABLE_AUTO_MIXED_PRECISION has no effect.\n",
      "2024-05-24 01:49:28.512067: W tensorflow/core/grappler/optimizers/meta_optimizer.cc:163] TF_ENABLE_AUTO_MIXED_PRECISION has no effect.\n",
      "2024-05-24 01:49:28.512071: W tensorflow/core/grappler/optimizers/meta_optimizer.cc:163] TF_ENABLE_AUTO_MIXED_PRECISION has no effect.\n",
      "2024-05-24 01:49:28.516333: W tensorflow/core/grappler/optimizers/meta_optimizer.cc:163] TF_ENABLE_AUTO_MIXED_PRECISION has no effect.\n",
      "2024-05-24 01:49:28.516358: W tensorflow/core/grappler/optimizers/meta_optimizer.cc:163] TF_ENABLE_AUTO_MIXED_PRECISION has no effect.\n",
      "2024-05-24 01:49:28.516362: W tensorflow/core/grappler/optimizers/meta_optimizer.cc:163] TF_ENABLE_AUTO_MIXED_PRECISION has no effect.\n",
      "2024-05-24 01:49:28.516366: W tensorflow/core/grappler/optimizers/meta_optimizer.cc:163] TF_ENABLE_AUTO_MIXED_PRECISION has no effect.\n",
      "2024-05-24 01:49:28.516377: W tensorflow/core/grappler/optimizers/meta_optimizer.cc:163] TF_ENABLE_AUTO_MIXED_PRECISION has no effect.\n",
      "2024-05-24 01:49:28.516385: W tensorflow/core/grappler/optimizers/meta_optimizer.cc:163] TF_ENABLE_AUTO_MIXED_PRECISION has no effect.\n",
      "2024-05-24 01:49:28.516389: W tensorflow/core/grappler/optimizers/meta_optimizer.cc:163] TF_ENABLE_AUTO_MIXED_PRECISION has no effect.\n",
      "2024-05-24 01:49:28.516393: W tensorflow/core/grappler/optimizers/meta_optimizer.cc:163] TF_ENABLE_AUTO_MIXED_PRECISION has no effect.\n",
      "2024-05-24 01:49:28.521418: W tensorflow/core/grappler/optimizers/meta_optimizer.cc:163] TF_ENABLE_AUTO_MIXED_PRECISION has no effect.\n",
      "2024-05-24 01:49:28.521437: W tensorflow/core/grappler/optimizers/meta_optimizer.cc:163] TF_ENABLE_AUTO_MIXED_PRECISION has no effect.\n",
      "2024-05-24 01:49:28.521441: W tensorflow/core/grappler/optimizers/meta_optimizer.cc:163] TF_ENABLE_AUTO_MIXED_PRECISION has no effect.\n",
      "2024-05-24 01:49:28.521445: W tensorflow/core/grappler/optimizers/meta_optimizer.cc:163] TF_ENABLE_AUTO_MIXED_PRECISION has no effect.\n",
      "2024-05-24 01:49:28.521456: W tensorflow/core/grappler/optimizers/meta_optimizer.cc:163] TF_ENABLE_AUTO_MIXED_PRECISION has no effect.\n",
      "2024-05-24 01:49:28.521462: W tensorflow/core/grappler/optimizers/meta_optimizer.cc:163] TF_ENABLE_AUTO_MIXED_PRECISION has no effect.\n",
      "2024-05-24 01:49:28.521466: W tensorflow/core/grappler/optimizers/meta_optimizer.cc:163] TF_ENABLE_AUTO_MIXED_PRECISION has no effect.\n",
      "2024-05-24 01:49:28.521471: W tensorflow/core/grappler/optimizers/meta_optimizer.cc:163] TF_ENABLE_AUTO_MIXED_PRECISION has no effect.\n"
     ]
    },
    {
     "name": "stdout",
     "output_type": "stream",
     "text": [
      "235/235 [==============================] - 1s 4ms/step - loss: 0.0690 - val_loss: 0.0693\n",
      "Epoch 19/50\n",
      " 28/235 [==>...........................] - ETA: 0s - loss: 0.0688"
     ]
    },
    {
     "name": "stderr",
     "output_type": "stream",
     "text": [
      "2024-05-24 01:49:29.502435: W tensorflow/core/grappler/optimizers/meta_optimizer.cc:163] TF_ENABLE_AUTO_MIXED_PRECISION has no effect.\n",
      "2024-05-24 01:49:29.502468: W tensorflow/core/grappler/optimizers/meta_optimizer.cc:163] TF_ENABLE_AUTO_MIXED_PRECISION has no effect.\n",
      "2024-05-24 01:49:29.502472: W tensorflow/core/grappler/optimizers/meta_optimizer.cc:163] TF_ENABLE_AUTO_MIXED_PRECISION has no effect.\n",
      "2024-05-24 01:49:29.502476: W tensorflow/core/grappler/optimizers/meta_optimizer.cc:163] TF_ENABLE_AUTO_MIXED_PRECISION has no effect.\n",
      "2024-05-24 01:49:29.502489: W tensorflow/core/grappler/optimizers/meta_optimizer.cc:163] TF_ENABLE_AUTO_MIXED_PRECISION has no effect.\n",
      "2024-05-24 01:49:29.502494: W tensorflow/core/grappler/optimizers/meta_optimizer.cc:163] TF_ENABLE_AUTO_MIXED_PRECISION has no effect.\n",
      "2024-05-24 01:49:29.502498: W tensorflow/core/grappler/optimizers/meta_optimizer.cc:163] TF_ENABLE_AUTO_MIXED_PRECISION has no effect.\n",
      "2024-05-24 01:49:29.502503: W tensorflow/core/grappler/optimizers/meta_optimizer.cc:163] TF_ENABLE_AUTO_MIXED_PRECISION has no effect.\n",
      "2024-05-24 01:49:29.506681: W tensorflow/core/grappler/optimizers/meta_optimizer.cc:163] TF_ENABLE_AUTO_MIXED_PRECISION has no effect.\n",
      "2024-05-24 01:49:29.506705: W tensorflow/core/grappler/optimizers/meta_optimizer.cc:163] TF_ENABLE_AUTO_MIXED_PRECISION has no effect.\n",
      "2024-05-24 01:49:29.506709: W tensorflow/core/grappler/optimizers/meta_optimizer.cc:163] TF_ENABLE_AUTO_MIXED_PRECISION has no effect.\n",
      "2024-05-24 01:49:29.506713: W tensorflow/core/grappler/optimizers/meta_optimizer.cc:163] TF_ENABLE_AUTO_MIXED_PRECISION has no effect.\n",
      "2024-05-24 01:49:29.506725: W tensorflow/core/grappler/optimizers/meta_optimizer.cc:163] TF_ENABLE_AUTO_MIXED_PRECISION has no effect.\n",
      "2024-05-24 01:49:29.506732: W tensorflow/core/grappler/optimizers/meta_optimizer.cc:163] TF_ENABLE_AUTO_MIXED_PRECISION has no effect.\n",
      "2024-05-24 01:49:29.506736: W tensorflow/core/grappler/optimizers/meta_optimizer.cc:163] TF_ENABLE_AUTO_MIXED_PRECISION has no effect.\n",
      "2024-05-24 01:49:29.506740: W tensorflow/core/grappler/optimizers/meta_optimizer.cc:163] TF_ENABLE_AUTO_MIXED_PRECISION has no effect.\n",
      "2024-05-24 01:49:29.511688: W tensorflow/core/grappler/optimizers/meta_optimizer.cc:163] TF_ENABLE_AUTO_MIXED_PRECISION has no effect.\n",
      "2024-05-24 01:49:29.511707: W tensorflow/core/grappler/optimizers/meta_optimizer.cc:163] TF_ENABLE_AUTO_MIXED_PRECISION has no effect.\n",
      "2024-05-24 01:49:29.511711: W tensorflow/core/grappler/optimizers/meta_optimizer.cc:163] TF_ENABLE_AUTO_MIXED_PRECISION has no effect.\n",
      "2024-05-24 01:49:29.511715: W tensorflow/core/grappler/optimizers/meta_optimizer.cc:163] TF_ENABLE_AUTO_MIXED_PRECISION has no effect.\n",
      "2024-05-24 01:49:29.511725: W tensorflow/core/grappler/optimizers/meta_optimizer.cc:163] TF_ENABLE_AUTO_MIXED_PRECISION has no effect.\n",
      "2024-05-24 01:49:29.511731: W tensorflow/core/grappler/optimizers/meta_optimizer.cc:163] TF_ENABLE_AUTO_MIXED_PRECISION has no effect.\n",
      "2024-05-24 01:49:29.511736: W tensorflow/core/grappler/optimizers/meta_optimizer.cc:163] TF_ENABLE_AUTO_MIXED_PRECISION has no effect.\n",
      "2024-05-24 01:49:29.511740: W tensorflow/core/grappler/optimizers/meta_optimizer.cc:163] TF_ENABLE_AUTO_MIXED_PRECISION has no effect.\n"
     ]
    },
    {
     "name": "stdout",
     "output_type": "stream",
     "text": [
      "235/235 [==============================] - 1s 4ms/step - loss: 0.0689 - val_loss: 0.0691\n",
      "Epoch 20/50\n",
      " 28/235 [==>...........................] - ETA: 0s - loss: 0.0689"
     ]
    },
    {
     "name": "stderr",
     "output_type": "stream",
     "text": [
      "2024-05-24 01:49:30.493627: W tensorflow/core/grappler/optimizers/meta_optimizer.cc:163] TF_ENABLE_AUTO_MIXED_PRECISION has no effect.\n",
      "2024-05-24 01:49:30.493661: W tensorflow/core/grappler/optimizers/meta_optimizer.cc:163] TF_ENABLE_AUTO_MIXED_PRECISION has no effect.\n",
      "2024-05-24 01:49:30.493666: W tensorflow/core/grappler/optimizers/meta_optimizer.cc:163] TF_ENABLE_AUTO_MIXED_PRECISION has no effect.\n",
      "2024-05-24 01:49:30.493669: W tensorflow/core/grappler/optimizers/meta_optimizer.cc:163] TF_ENABLE_AUTO_MIXED_PRECISION has no effect.\n",
      "2024-05-24 01:49:30.493683: W tensorflow/core/grappler/optimizers/meta_optimizer.cc:163] TF_ENABLE_AUTO_MIXED_PRECISION has no effect.\n",
      "2024-05-24 01:49:30.493688: W tensorflow/core/grappler/optimizers/meta_optimizer.cc:163] TF_ENABLE_AUTO_MIXED_PRECISION has no effect.\n",
      "2024-05-24 01:49:30.493692: W tensorflow/core/grappler/optimizers/meta_optimizer.cc:163] TF_ENABLE_AUTO_MIXED_PRECISION has no effect.\n",
      "2024-05-24 01:49:30.493697: W tensorflow/core/grappler/optimizers/meta_optimizer.cc:163] TF_ENABLE_AUTO_MIXED_PRECISION has no effect.\n",
      "2024-05-24 01:49:30.499234: W tensorflow/core/grappler/optimizers/meta_optimizer.cc:163] TF_ENABLE_AUTO_MIXED_PRECISION has no effect.\n",
      "2024-05-24 01:49:30.499256: W tensorflow/core/grappler/optimizers/meta_optimizer.cc:163] TF_ENABLE_AUTO_MIXED_PRECISION has no effect.\n",
      "2024-05-24 01:49:30.499260: W tensorflow/core/grappler/optimizers/meta_optimizer.cc:163] TF_ENABLE_AUTO_MIXED_PRECISION has no effect.\n",
      "2024-05-24 01:49:30.499264: W tensorflow/core/grappler/optimizers/meta_optimizer.cc:163] TF_ENABLE_AUTO_MIXED_PRECISION has no effect.\n",
      "2024-05-24 01:49:30.499275: W tensorflow/core/grappler/optimizers/meta_optimizer.cc:163] TF_ENABLE_AUTO_MIXED_PRECISION has no effect.\n",
      "2024-05-24 01:49:30.499282: W tensorflow/core/grappler/optimizers/meta_optimizer.cc:163] TF_ENABLE_AUTO_MIXED_PRECISION has no effect.\n",
      "2024-05-24 01:49:30.499286: W tensorflow/core/grappler/optimizers/meta_optimizer.cc:163] TF_ENABLE_AUTO_MIXED_PRECISION has no effect.\n",
      "2024-05-24 01:49:30.499290: W tensorflow/core/grappler/optimizers/meta_optimizer.cc:163] TF_ENABLE_AUTO_MIXED_PRECISION has no effect.\n",
      "2024-05-24 01:49:30.504245: W tensorflow/core/grappler/optimizers/meta_optimizer.cc:163] TF_ENABLE_AUTO_MIXED_PRECISION has no effect.\n",
      "2024-05-24 01:49:30.504266: W tensorflow/core/grappler/optimizers/meta_optimizer.cc:163] TF_ENABLE_AUTO_MIXED_PRECISION has no effect.\n",
      "2024-05-24 01:49:30.504270: W tensorflow/core/grappler/optimizers/meta_optimizer.cc:163] TF_ENABLE_AUTO_MIXED_PRECISION has no effect.\n",
      "2024-05-24 01:49:30.504274: W tensorflow/core/grappler/optimizers/meta_optimizer.cc:163] TF_ENABLE_AUTO_MIXED_PRECISION has no effect.\n",
      "2024-05-24 01:49:30.504284: W tensorflow/core/grappler/optimizers/meta_optimizer.cc:163] TF_ENABLE_AUTO_MIXED_PRECISION has no effect.\n",
      "2024-05-24 01:49:30.504291: W tensorflow/core/grappler/optimizers/meta_optimizer.cc:163] TF_ENABLE_AUTO_MIXED_PRECISION has no effect.\n",
      "2024-05-24 01:49:30.504295: W tensorflow/core/grappler/optimizers/meta_optimizer.cc:163] TF_ENABLE_AUTO_MIXED_PRECISION has no effect.\n",
      "2024-05-24 01:49:30.504299: W tensorflow/core/grappler/optimizers/meta_optimizer.cc:163] TF_ENABLE_AUTO_MIXED_PRECISION has no effect.\n"
     ]
    },
    {
     "name": "stdout",
     "output_type": "stream",
     "text": [
      "235/235 [==============================] - 1s 4ms/step - loss: 0.0687 - val_loss: 0.0689\n",
      "Epoch 21/50\n",
      " 27/235 [==>...........................] - ETA: 0s - loss: 0.0686"
     ]
    },
    {
     "name": "stderr",
     "output_type": "stream",
     "text": [
      "2024-05-24 01:49:31.478737: W tensorflow/core/grappler/optimizers/meta_optimizer.cc:163] TF_ENABLE_AUTO_MIXED_PRECISION has no effect.\n",
      "2024-05-24 01:49:31.478764: W tensorflow/core/grappler/optimizers/meta_optimizer.cc:163] TF_ENABLE_AUTO_MIXED_PRECISION has no effect.\n",
      "2024-05-24 01:49:31.478769: W tensorflow/core/grappler/optimizers/meta_optimizer.cc:163] TF_ENABLE_AUTO_MIXED_PRECISION has no effect.\n",
      "2024-05-24 01:49:31.478773: W tensorflow/core/grappler/optimizers/meta_optimizer.cc:163] TF_ENABLE_AUTO_MIXED_PRECISION has no effect.\n",
      "2024-05-24 01:49:31.478786: W tensorflow/core/grappler/optimizers/meta_optimizer.cc:163] TF_ENABLE_AUTO_MIXED_PRECISION has no effect.\n",
      "2024-05-24 01:49:31.478791: W tensorflow/core/grappler/optimizers/meta_optimizer.cc:163] TF_ENABLE_AUTO_MIXED_PRECISION has no effect.\n",
      "2024-05-24 01:49:31.478795: W tensorflow/core/grappler/optimizers/meta_optimizer.cc:163] TF_ENABLE_AUTO_MIXED_PRECISION has no effect.\n",
      "2024-05-24 01:49:31.478799: W tensorflow/core/grappler/optimizers/meta_optimizer.cc:163] TF_ENABLE_AUTO_MIXED_PRECISION has no effect.\n",
      "2024-05-24 01:49:31.483273: W tensorflow/core/grappler/optimizers/meta_optimizer.cc:163] TF_ENABLE_AUTO_MIXED_PRECISION has no effect.\n",
      "2024-05-24 01:49:31.483293: W tensorflow/core/grappler/optimizers/meta_optimizer.cc:163] TF_ENABLE_AUTO_MIXED_PRECISION has no effect.\n",
      "2024-05-24 01:49:31.483298: W tensorflow/core/grappler/optimizers/meta_optimizer.cc:163] TF_ENABLE_AUTO_MIXED_PRECISION has no effect.\n",
      "2024-05-24 01:49:31.483302: W tensorflow/core/grappler/optimizers/meta_optimizer.cc:163] TF_ENABLE_AUTO_MIXED_PRECISION has no effect.\n",
      "2024-05-24 01:49:31.483313: W tensorflow/core/grappler/optimizers/meta_optimizer.cc:163] TF_ENABLE_AUTO_MIXED_PRECISION has no effect.\n",
      "2024-05-24 01:49:31.483319: W tensorflow/core/grappler/optimizers/meta_optimizer.cc:163] TF_ENABLE_AUTO_MIXED_PRECISION has no effect.\n",
      "2024-05-24 01:49:31.483324: W tensorflow/core/grappler/optimizers/meta_optimizer.cc:163] TF_ENABLE_AUTO_MIXED_PRECISION has no effect.\n",
      "2024-05-24 01:49:31.483327: W tensorflow/core/grappler/optimizers/meta_optimizer.cc:163] TF_ENABLE_AUTO_MIXED_PRECISION has no effect.\n",
      "2024-05-24 01:49:31.488038: W tensorflow/core/grappler/optimizers/meta_optimizer.cc:163] TF_ENABLE_AUTO_MIXED_PRECISION has no effect.\n",
      "2024-05-24 01:49:31.488055: W tensorflow/core/grappler/optimizers/meta_optimizer.cc:163] TF_ENABLE_AUTO_MIXED_PRECISION has no effect.\n",
      "2024-05-24 01:49:31.488059: W tensorflow/core/grappler/optimizers/meta_optimizer.cc:163] TF_ENABLE_AUTO_MIXED_PRECISION has no effect.\n",
      "2024-05-24 01:49:31.488063: W tensorflow/core/grappler/optimizers/meta_optimizer.cc:163] TF_ENABLE_AUTO_MIXED_PRECISION has no effect.\n",
      "2024-05-24 01:49:31.488073: W tensorflow/core/grappler/optimizers/meta_optimizer.cc:163] TF_ENABLE_AUTO_MIXED_PRECISION has no effect.\n",
      "2024-05-24 01:49:31.488079: W tensorflow/core/grappler/optimizers/meta_optimizer.cc:163] TF_ENABLE_AUTO_MIXED_PRECISION has no effect.\n",
      "2024-05-24 01:49:31.488083: W tensorflow/core/grappler/optimizers/meta_optimizer.cc:163] TF_ENABLE_AUTO_MIXED_PRECISION has no effect.\n",
      "2024-05-24 01:49:31.488087: W tensorflow/core/grappler/optimizers/meta_optimizer.cc:163] TF_ENABLE_AUTO_MIXED_PRECISION has no effect.\n"
     ]
    },
    {
     "name": "stdout",
     "output_type": "stream",
     "text": [
      "235/235 [==============================] - 1s 4ms/step - loss: 0.0685 - val_loss: 0.0688\n",
      "Epoch 22/50\n",
      " 27/235 [==>...........................] - ETA: 0s - loss: 0.0687"
     ]
    },
    {
     "name": "stderr",
     "output_type": "stream",
     "text": [
      "2024-05-24 01:49:32.467605: W tensorflow/core/grappler/optimizers/meta_optimizer.cc:163] TF_ENABLE_AUTO_MIXED_PRECISION has no effect.\n",
      "2024-05-24 01:49:32.467637: W tensorflow/core/grappler/optimizers/meta_optimizer.cc:163] TF_ENABLE_AUTO_MIXED_PRECISION has no effect.\n",
      "2024-05-24 01:49:32.467641: W tensorflow/core/grappler/optimizers/meta_optimizer.cc:163] TF_ENABLE_AUTO_MIXED_PRECISION has no effect.\n",
      "2024-05-24 01:49:32.467645: W tensorflow/core/grappler/optimizers/meta_optimizer.cc:163] TF_ENABLE_AUTO_MIXED_PRECISION has no effect.\n",
      "2024-05-24 01:49:32.467658: W tensorflow/core/grappler/optimizers/meta_optimizer.cc:163] TF_ENABLE_AUTO_MIXED_PRECISION has no effect.\n",
      "2024-05-24 01:49:32.467663: W tensorflow/core/grappler/optimizers/meta_optimizer.cc:163] TF_ENABLE_AUTO_MIXED_PRECISION has no effect.\n",
      "2024-05-24 01:49:32.467667: W tensorflow/core/grappler/optimizers/meta_optimizer.cc:163] TF_ENABLE_AUTO_MIXED_PRECISION has no effect.\n",
      "2024-05-24 01:49:32.467671: W tensorflow/core/grappler/optimizers/meta_optimizer.cc:163] TF_ENABLE_AUTO_MIXED_PRECISION has no effect.\n",
      "2024-05-24 01:49:32.471668: W tensorflow/core/grappler/optimizers/meta_optimizer.cc:163] TF_ENABLE_AUTO_MIXED_PRECISION has no effect.\n",
      "2024-05-24 01:49:32.471690: W tensorflow/core/grappler/optimizers/meta_optimizer.cc:163] TF_ENABLE_AUTO_MIXED_PRECISION has no effect.\n",
      "2024-05-24 01:49:32.471695: W tensorflow/core/grappler/optimizers/meta_optimizer.cc:163] TF_ENABLE_AUTO_MIXED_PRECISION has no effect.\n",
      "2024-05-24 01:49:32.471698: W tensorflow/core/grappler/optimizers/meta_optimizer.cc:163] TF_ENABLE_AUTO_MIXED_PRECISION has no effect.\n",
      "2024-05-24 01:49:32.471709: W tensorflow/core/grappler/optimizers/meta_optimizer.cc:163] TF_ENABLE_AUTO_MIXED_PRECISION has no effect.\n",
      "2024-05-24 01:49:32.471716: W tensorflow/core/grappler/optimizers/meta_optimizer.cc:163] TF_ENABLE_AUTO_MIXED_PRECISION has no effect.\n",
      "2024-05-24 01:49:32.471720: W tensorflow/core/grappler/optimizers/meta_optimizer.cc:163] TF_ENABLE_AUTO_MIXED_PRECISION has no effect.\n",
      "2024-05-24 01:49:32.471724: W tensorflow/core/grappler/optimizers/meta_optimizer.cc:163] TF_ENABLE_AUTO_MIXED_PRECISION has no effect.\n",
      "2024-05-24 01:49:32.482774: W tensorflow/core/grappler/optimizers/meta_optimizer.cc:163] TF_ENABLE_AUTO_MIXED_PRECISION has no effect.\n",
      "2024-05-24 01:49:32.482790: W tensorflow/core/grappler/optimizers/meta_optimizer.cc:163] TF_ENABLE_AUTO_MIXED_PRECISION has no effect.\n",
      "2024-05-24 01:49:32.482795: W tensorflow/core/grappler/optimizers/meta_optimizer.cc:163] TF_ENABLE_AUTO_MIXED_PRECISION has no effect.\n",
      "2024-05-24 01:49:32.482798: W tensorflow/core/grappler/optimizers/meta_optimizer.cc:163] TF_ENABLE_AUTO_MIXED_PRECISION has no effect.\n",
      "2024-05-24 01:49:32.482808: W tensorflow/core/grappler/optimizers/meta_optimizer.cc:163] TF_ENABLE_AUTO_MIXED_PRECISION has no effect.\n",
      "2024-05-24 01:49:32.482815: W tensorflow/core/grappler/optimizers/meta_optimizer.cc:163] TF_ENABLE_AUTO_MIXED_PRECISION has no effect.\n",
      "2024-05-24 01:49:32.482819: W tensorflow/core/grappler/optimizers/meta_optimizer.cc:163] TF_ENABLE_AUTO_MIXED_PRECISION has no effect.\n",
      "2024-05-24 01:49:32.482822: W tensorflow/core/grappler/optimizers/meta_optimizer.cc:163] TF_ENABLE_AUTO_MIXED_PRECISION has no effect.\n"
     ]
    },
    {
     "name": "stdout",
     "output_type": "stream",
     "text": [
      "235/235 [==============================] - 1s 4ms/step - loss: 0.0684 - val_loss: 0.0686\n",
      "Epoch 23/50\n",
      " 26/235 [==>...........................] - ETA: 0s - loss: 0.0684"
     ]
    },
    {
     "name": "stderr",
     "output_type": "stream",
     "text": [
      "2024-05-24 01:49:33.465507: W tensorflow/core/grappler/optimizers/meta_optimizer.cc:163] TF_ENABLE_AUTO_MIXED_PRECISION has no effect.\n",
      "2024-05-24 01:49:33.465537: W tensorflow/core/grappler/optimizers/meta_optimizer.cc:163] TF_ENABLE_AUTO_MIXED_PRECISION has no effect.\n",
      "2024-05-24 01:49:33.465541: W tensorflow/core/grappler/optimizers/meta_optimizer.cc:163] TF_ENABLE_AUTO_MIXED_PRECISION has no effect.\n",
      "2024-05-24 01:49:33.465545: W tensorflow/core/grappler/optimizers/meta_optimizer.cc:163] TF_ENABLE_AUTO_MIXED_PRECISION has no effect.\n",
      "2024-05-24 01:49:33.465557: W tensorflow/core/grappler/optimizers/meta_optimizer.cc:163] TF_ENABLE_AUTO_MIXED_PRECISION has no effect.\n",
      "2024-05-24 01:49:33.465562: W tensorflow/core/grappler/optimizers/meta_optimizer.cc:163] TF_ENABLE_AUTO_MIXED_PRECISION has no effect.\n",
      "2024-05-24 01:49:33.465567: W tensorflow/core/grappler/optimizers/meta_optimizer.cc:163] TF_ENABLE_AUTO_MIXED_PRECISION has no effect.\n",
      "2024-05-24 01:49:33.465571: W tensorflow/core/grappler/optimizers/meta_optimizer.cc:163] TF_ENABLE_AUTO_MIXED_PRECISION has no effect.\n",
      "2024-05-24 01:49:33.469757: W tensorflow/core/grappler/optimizers/meta_optimizer.cc:163] TF_ENABLE_AUTO_MIXED_PRECISION has no effect.\n",
      "2024-05-24 01:49:33.469782: W tensorflow/core/grappler/optimizers/meta_optimizer.cc:163] TF_ENABLE_AUTO_MIXED_PRECISION has no effect.\n",
      "2024-05-24 01:49:33.469786: W tensorflow/core/grappler/optimizers/meta_optimizer.cc:163] TF_ENABLE_AUTO_MIXED_PRECISION has no effect.\n",
      "2024-05-24 01:49:33.469790: W tensorflow/core/grappler/optimizers/meta_optimizer.cc:163] TF_ENABLE_AUTO_MIXED_PRECISION has no effect.\n",
      "2024-05-24 01:49:33.469802: W tensorflow/core/grappler/optimizers/meta_optimizer.cc:163] TF_ENABLE_AUTO_MIXED_PRECISION has no effect.\n",
      "2024-05-24 01:49:33.469806: W tensorflow/core/grappler/optimizers/meta_optimizer.cc:163] TF_ENABLE_AUTO_MIXED_PRECISION has no effect.\n",
      "2024-05-24 01:49:33.469810: W tensorflow/core/grappler/optimizers/meta_optimizer.cc:163] TF_ENABLE_AUTO_MIXED_PRECISION has no effect.\n",
      "2024-05-24 01:49:33.469814: W tensorflow/core/grappler/optimizers/meta_optimizer.cc:163] TF_ENABLE_AUTO_MIXED_PRECISION has no effect.\n",
      "2024-05-24 01:49:33.475519: W tensorflow/core/grappler/optimizers/meta_optimizer.cc:163] TF_ENABLE_AUTO_MIXED_PRECISION has no effect.\n",
      "2024-05-24 01:49:33.475539: W tensorflow/core/grappler/optimizers/meta_optimizer.cc:163] TF_ENABLE_AUTO_MIXED_PRECISION has no effect.\n",
      "2024-05-24 01:49:33.475543: W tensorflow/core/grappler/optimizers/meta_optimizer.cc:163] TF_ENABLE_AUTO_MIXED_PRECISION has no effect.\n",
      "2024-05-24 01:49:33.475547: W tensorflow/core/grappler/optimizers/meta_optimizer.cc:163] TF_ENABLE_AUTO_MIXED_PRECISION has no effect.\n",
      "2024-05-24 01:49:33.475557: W tensorflow/core/grappler/optimizers/meta_optimizer.cc:163] TF_ENABLE_AUTO_MIXED_PRECISION has no effect.\n",
      "2024-05-24 01:49:33.475562: W tensorflow/core/grappler/optimizers/meta_optimizer.cc:163] TF_ENABLE_AUTO_MIXED_PRECISION has no effect.\n",
      "2024-05-24 01:49:33.475566: W tensorflow/core/grappler/optimizers/meta_optimizer.cc:163] TF_ENABLE_AUTO_MIXED_PRECISION has no effect.\n",
      "2024-05-24 01:49:33.475570: W tensorflow/core/grappler/optimizers/meta_optimizer.cc:163] TF_ENABLE_AUTO_MIXED_PRECISION has no effect.\n"
     ]
    },
    {
     "name": "stdout",
     "output_type": "stream",
     "text": [
      "235/235 [==============================] - 1s 4ms/step - loss: 0.0683 - val_loss: 0.0687\n",
      "Epoch 24/50\n",
      " 28/235 [==>...........................] - ETA: 0s - loss: 0.0681"
     ]
    },
    {
     "name": "stderr",
     "output_type": "stream",
     "text": [
      "2024-05-24 01:49:34.461046: W tensorflow/core/grappler/optimizers/meta_optimizer.cc:163] TF_ENABLE_AUTO_MIXED_PRECISION has no effect.\n",
      "2024-05-24 01:49:34.461077: W tensorflow/core/grappler/optimizers/meta_optimizer.cc:163] TF_ENABLE_AUTO_MIXED_PRECISION has no effect.\n",
      "2024-05-24 01:49:34.461082: W tensorflow/core/grappler/optimizers/meta_optimizer.cc:163] TF_ENABLE_AUTO_MIXED_PRECISION has no effect.\n",
      "2024-05-24 01:49:34.461086: W tensorflow/core/grappler/optimizers/meta_optimizer.cc:163] TF_ENABLE_AUTO_MIXED_PRECISION has no effect.\n",
      "2024-05-24 01:49:34.461098: W tensorflow/core/grappler/optimizers/meta_optimizer.cc:163] TF_ENABLE_AUTO_MIXED_PRECISION has no effect.\n",
      "2024-05-24 01:49:34.461103: W tensorflow/core/grappler/optimizers/meta_optimizer.cc:163] TF_ENABLE_AUTO_MIXED_PRECISION has no effect.\n",
      "2024-05-24 01:49:34.461108: W tensorflow/core/grappler/optimizers/meta_optimizer.cc:163] TF_ENABLE_AUTO_MIXED_PRECISION has no effect.\n",
      "2024-05-24 01:49:34.461112: W tensorflow/core/grappler/optimizers/meta_optimizer.cc:163] TF_ENABLE_AUTO_MIXED_PRECISION has no effect.\n",
      "2024-05-24 01:49:34.465145: W tensorflow/core/grappler/optimizers/meta_optimizer.cc:163] TF_ENABLE_AUTO_MIXED_PRECISION has no effect.\n",
      "2024-05-24 01:49:34.465167: W tensorflow/core/grappler/optimizers/meta_optimizer.cc:163] TF_ENABLE_AUTO_MIXED_PRECISION has no effect.\n",
      "2024-05-24 01:49:34.465172: W tensorflow/core/grappler/optimizers/meta_optimizer.cc:163] TF_ENABLE_AUTO_MIXED_PRECISION has no effect.\n",
      "2024-05-24 01:49:34.465175: W tensorflow/core/grappler/optimizers/meta_optimizer.cc:163] TF_ENABLE_AUTO_MIXED_PRECISION has no effect.\n",
      "2024-05-24 01:49:34.465186: W tensorflow/core/grappler/optimizers/meta_optimizer.cc:163] TF_ENABLE_AUTO_MIXED_PRECISION has no effect.\n",
      "2024-05-24 01:49:34.465192: W tensorflow/core/grappler/optimizers/meta_optimizer.cc:163] TF_ENABLE_AUTO_MIXED_PRECISION has no effect.\n",
      "2024-05-24 01:49:34.465196: W tensorflow/core/grappler/optimizers/meta_optimizer.cc:163] TF_ENABLE_AUTO_MIXED_PRECISION has no effect.\n",
      "2024-05-24 01:49:34.465201: W tensorflow/core/grappler/optimizers/meta_optimizer.cc:163] TF_ENABLE_AUTO_MIXED_PRECISION has no effect.\n",
      "2024-05-24 01:49:34.469923: W tensorflow/core/grappler/optimizers/meta_optimizer.cc:163] TF_ENABLE_AUTO_MIXED_PRECISION has no effect.\n",
      "2024-05-24 01:49:34.469942: W tensorflow/core/grappler/optimizers/meta_optimizer.cc:163] TF_ENABLE_AUTO_MIXED_PRECISION has no effect.\n",
      "2024-05-24 01:49:34.469946: W tensorflow/core/grappler/optimizers/meta_optimizer.cc:163] TF_ENABLE_AUTO_MIXED_PRECISION has no effect.\n",
      "2024-05-24 01:49:34.469950: W tensorflow/core/grappler/optimizers/meta_optimizer.cc:163] TF_ENABLE_AUTO_MIXED_PRECISION has no effect.\n",
      "2024-05-24 01:49:34.469960: W tensorflow/core/grappler/optimizers/meta_optimizer.cc:163] TF_ENABLE_AUTO_MIXED_PRECISION has no effect.\n",
      "2024-05-24 01:49:34.469966: W tensorflow/core/grappler/optimizers/meta_optimizer.cc:163] TF_ENABLE_AUTO_MIXED_PRECISION has no effect.\n",
      "2024-05-24 01:49:34.469970: W tensorflow/core/grappler/optimizers/meta_optimizer.cc:163] TF_ENABLE_AUTO_MIXED_PRECISION has no effect.\n",
      "2024-05-24 01:49:34.469974: W tensorflow/core/grappler/optimizers/meta_optimizer.cc:163] TF_ENABLE_AUTO_MIXED_PRECISION has no effect.\n"
     ]
    },
    {
     "name": "stdout",
     "output_type": "stream",
     "text": [
      "235/235 [==============================] - 1s 4ms/step - loss: 0.0681 - val_loss: 0.0684\n",
      "Epoch 25/50\n",
      " 29/235 [==>...........................] - ETA: 0s - loss: 0.0678"
     ]
    },
    {
     "name": "stderr",
     "output_type": "stream",
     "text": [
      "2024-05-24 01:49:35.446778: W tensorflow/core/grappler/optimizers/meta_optimizer.cc:163] TF_ENABLE_AUTO_MIXED_PRECISION has no effect.\n",
      "2024-05-24 01:49:35.446809: W tensorflow/core/grappler/optimizers/meta_optimizer.cc:163] TF_ENABLE_AUTO_MIXED_PRECISION has no effect.\n",
      "2024-05-24 01:49:35.446814: W tensorflow/core/grappler/optimizers/meta_optimizer.cc:163] TF_ENABLE_AUTO_MIXED_PRECISION has no effect.\n",
      "2024-05-24 01:49:35.446817: W tensorflow/core/grappler/optimizers/meta_optimizer.cc:163] TF_ENABLE_AUTO_MIXED_PRECISION has no effect.\n",
      "2024-05-24 01:49:35.446830: W tensorflow/core/grappler/optimizers/meta_optimizer.cc:163] TF_ENABLE_AUTO_MIXED_PRECISION has no effect.\n",
      "2024-05-24 01:49:35.446835: W tensorflow/core/grappler/optimizers/meta_optimizer.cc:163] TF_ENABLE_AUTO_MIXED_PRECISION has no effect.\n",
      "2024-05-24 01:49:35.446846: W tensorflow/core/grappler/optimizers/meta_optimizer.cc:163] TF_ENABLE_AUTO_MIXED_PRECISION has no effect.\n",
      "2024-05-24 01:49:35.446851: W tensorflow/core/grappler/optimizers/meta_optimizer.cc:163] TF_ENABLE_AUTO_MIXED_PRECISION has no effect.\n",
      "2024-05-24 01:49:35.450857: W tensorflow/core/grappler/optimizers/meta_optimizer.cc:163] TF_ENABLE_AUTO_MIXED_PRECISION has no effect.\n",
      "2024-05-24 01:49:35.450877: W tensorflow/core/grappler/optimizers/meta_optimizer.cc:163] TF_ENABLE_AUTO_MIXED_PRECISION has no effect.\n",
      "2024-05-24 01:49:35.450882: W tensorflow/core/grappler/optimizers/meta_optimizer.cc:163] TF_ENABLE_AUTO_MIXED_PRECISION has no effect.\n",
      "2024-05-24 01:49:35.450886: W tensorflow/core/grappler/optimizers/meta_optimizer.cc:163] TF_ENABLE_AUTO_MIXED_PRECISION has no effect.\n",
      "2024-05-24 01:49:35.450896: W tensorflow/core/grappler/optimizers/meta_optimizer.cc:163] TF_ENABLE_AUTO_MIXED_PRECISION has no effect.\n",
      "2024-05-24 01:49:35.450902: W tensorflow/core/grappler/optimizers/meta_optimizer.cc:163] TF_ENABLE_AUTO_MIXED_PRECISION has no effect.\n",
      "2024-05-24 01:49:35.450907: W tensorflow/core/grappler/optimizers/meta_optimizer.cc:163] TF_ENABLE_AUTO_MIXED_PRECISION has no effect.\n",
      "2024-05-24 01:49:35.450911: W tensorflow/core/grappler/optimizers/meta_optimizer.cc:163] TF_ENABLE_AUTO_MIXED_PRECISION has no effect.\n",
      "2024-05-24 01:49:35.455972: W tensorflow/core/grappler/optimizers/meta_optimizer.cc:163] TF_ENABLE_AUTO_MIXED_PRECISION has no effect.\n",
      "2024-05-24 01:49:35.455989: W tensorflow/core/grappler/optimizers/meta_optimizer.cc:163] TF_ENABLE_AUTO_MIXED_PRECISION has no effect.\n",
      "2024-05-24 01:49:35.455994: W tensorflow/core/grappler/optimizers/meta_optimizer.cc:163] TF_ENABLE_AUTO_MIXED_PRECISION has no effect.\n",
      "2024-05-24 01:49:35.455998: W tensorflow/core/grappler/optimizers/meta_optimizer.cc:163] TF_ENABLE_AUTO_MIXED_PRECISION has no effect.\n",
      "2024-05-24 01:49:35.456007: W tensorflow/core/grappler/optimizers/meta_optimizer.cc:163] TF_ENABLE_AUTO_MIXED_PRECISION has no effect.\n",
      "2024-05-24 01:49:35.456013: W tensorflow/core/grappler/optimizers/meta_optimizer.cc:163] TF_ENABLE_AUTO_MIXED_PRECISION has no effect.\n",
      "2024-05-24 01:49:35.456018: W tensorflow/core/grappler/optimizers/meta_optimizer.cc:163] TF_ENABLE_AUTO_MIXED_PRECISION has no effect.\n",
      "2024-05-24 01:49:35.456021: W tensorflow/core/grappler/optimizers/meta_optimizer.cc:163] TF_ENABLE_AUTO_MIXED_PRECISION has no effect.\n"
     ]
    },
    {
     "name": "stdout",
     "output_type": "stream",
     "text": [
      "235/235 [==============================] - 1s 4ms/step - loss: 0.0680 - val_loss: 0.0684\n",
      "Epoch 26/50\n",
      " 28/235 [==>...........................] - ETA: 0s - loss: 0.0676"
     ]
    },
    {
     "name": "stderr",
     "output_type": "stream",
     "text": [
      "2024-05-24 01:49:36.438253: W tensorflow/core/grappler/optimizers/meta_optimizer.cc:163] TF_ENABLE_AUTO_MIXED_PRECISION has no effect.\n",
      "2024-05-24 01:49:36.438281: W tensorflow/core/grappler/optimizers/meta_optimizer.cc:163] TF_ENABLE_AUTO_MIXED_PRECISION has no effect.\n",
      "2024-05-24 01:49:36.438286: W tensorflow/core/grappler/optimizers/meta_optimizer.cc:163] TF_ENABLE_AUTO_MIXED_PRECISION has no effect.\n",
      "2024-05-24 01:49:36.438290: W tensorflow/core/grappler/optimizers/meta_optimizer.cc:163] TF_ENABLE_AUTO_MIXED_PRECISION has no effect.\n",
      "2024-05-24 01:49:36.438302: W tensorflow/core/grappler/optimizers/meta_optimizer.cc:163] TF_ENABLE_AUTO_MIXED_PRECISION has no effect.\n",
      "2024-05-24 01:49:36.438307: W tensorflow/core/grappler/optimizers/meta_optimizer.cc:163] TF_ENABLE_AUTO_MIXED_PRECISION has no effect.\n",
      "2024-05-24 01:49:36.438311: W tensorflow/core/grappler/optimizers/meta_optimizer.cc:163] TF_ENABLE_AUTO_MIXED_PRECISION has no effect.\n",
      "2024-05-24 01:49:36.438315: W tensorflow/core/grappler/optimizers/meta_optimizer.cc:163] TF_ENABLE_AUTO_MIXED_PRECISION has no effect.\n",
      "2024-05-24 01:49:36.442353: W tensorflow/core/grappler/optimizers/meta_optimizer.cc:163] TF_ENABLE_AUTO_MIXED_PRECISION has no effect.\n",
      "2024-05-24 01:49:36.442374: W tensorflow/core/grappler/optimizers/meta_optimizer.cc:163] TF_ENABLE_AUTO_MIXED_PRECISION has no effect.\n",
      "2024-05-24 01:49:36.442378: W tensorflow/core/grappler/optimizers/meta_optimizer.cc:163] TF_ENABLE_AUTO_MIXED_PRECISION has no effect.\n",
      "2024-05-24 01:49:36.442382: W tensorflow/core/grappler/optimizers/meta_optimizer.cc:163] TF_ENABLE_AUTO_MIXED_PRECISION has no effect.\n",
      "2024-05-24 01:49:36.442392: W tensorflow/core/grappler/optimizers/meta_optimizer.cc:163] TF_ENABLE_AUTO_MIXED_PRECISION has no effect.\n",
      "2024-05-24 01:49:36.442399: W tensorflow/core/grappler/optimizers/meta_optimizer.cc:163] TF_ENABLE_AUTO_MIXED_PRECISION has no effect.\n",
      "2024-05-24 01:49:36.442403: W tensorflow/core/grappler/optimizers/meta_optimizer.cc:163] TF_ENABLE_AUTO_MIXED_PRECISION has no effect.\n",
      "2024-05-24 01:49:36.442407: W tensorflow/core/grappler/optimizers/meta_optimizer.cc:163] TF_ENABLE_AUTO_MIXED_PRECISION has no effect.\n",
      "2024-05-24 01:49:36.447086: W tensorflow/core/grappler/optimizers/meta_optimizer.cc:163] TF_ENABLE_AUTO_MIXED_PRECISION has no effect.\n",
      "2024-05-24 01:49:36.447103: W tensorflow/core/grappler/optimizers/meta_optimizer.cc:163] TF_ENABLE_AUTO_MIXED_PRECISION has no effect.\n",
      "2024-05-24 01:49:36.447107: W tensorflow/core/grappler/optimizers/meta_optimizer.cc:163] TF_ENABLE_AUTO_MIXED_PRECISION has no effect.\n",
      "2024-05-24 01:49:36.447111: W tensorflow/core/grappler/optimizers/meta_optimizer.cc:163] TF_ENABLE_AUTO_MIXED_PRECISION has no effect.\n",
      "2024-05-24 01:49:36.447120: W tensorflow/core/grappler/optimizers/meta_optimizer.cc:163] TF_ENABLE_AUTO_MIXED_PRECISION has no effect.\n",
      "2024-05-24 01:49:36.447127: W tensorflow/core/grappler/optimizers/meta_optimizer.cc:163] TF_ENABLE_AUTO_MIXED_PRECISION has no effect.\n",
      "2024-05-24 01:49:36.447131: W tensorflow/core/grappler/optimizers/meta_optimizer.cc:163] TF_ENABLE_AUTO_MIXED_PRECISION has no effect.\n",
      "2024-05-24 01:49:36.447134: W tensorflow/core/grappler/optimizers/meta_optimizer.cc:163] TF_ENABLE_AUTO_MIXED_PRECISION has no effect.\n"
     ]
    },
    {
     "name": "stdout",
     "output_type": "stream",
     "text": [
      "235/235 [==============================] - 1s 4ms/step - loss: 0.0679 - val_loss: 0.0683\n",
      "Epoch 27/50\n",
      " 27/235 [==>...........................] - ETA: 0s - loss: 0.0679"
     ]
    },
    {
     "name": "stderr",
     "output_type": "stream",
     "text": [
      "2024-05-24 01:49:37.431778: W tensorflow/core/grappler/optimizers/meta_optimizer.cc:163] TF_ENABLE_AUTO_MIXED_PRECISION has no effect.\n",
      "2024-05-24 01:49:37.431810: W tensorflow/core/grappler/optimizers/meta_optimizer.cc:163] TF_ENABLE_AUTO_MIXED_PRECISION has no effect.\n",
      "2024-05-24 01:49:37.431814: W tensorflow/core/grappler/optimizers/meta_optimizer.cc:163] TF_ENABLE_AUTO_MIXED_PRECISION has no effect.\n",
      "2024-05-24 01:49:37.431818: W tensorflow/core/grappler/optimizers/meta_optimizer.cc:163] TF_ENABLE_AUTO_MIXED_PRECISION has no effect.\n",
      "2024-05-24 01:49:37.431831: W tensorflow/core/grappler/optimizers/meta_optimizer.cc:163] TF_ENABLE_AUTO_MIXED_PRECISION has no effect.\n",
      "2024-05-24 01:49:37.431836: W tensorflow/core/grappler/optimizers/meta_optimizer.cc:163] TF_ENABLE_AUTO_MIXED_PRECISION has no effect.\n",
      "2024-05-24 01:49:37.431845: W tensorflow/core/grappler/optimizers/meta_optimizer.cc:163] TF_ENABLE_AUTO_MIXED_PRECISION has no effect.\n",
      "2024-05-24 01:49:37.431849: W tensorflow/core/grappler/optimizers/meta_optimizer.cc:163] TF_ENABLE_AUTO_MIXED_PRECISION has no effect.\n",
      "2024-05-24 01:49:37.435878: W tensorflow/core/grappler/optimizers/meta_optimizer.cc:163] TF_ENABLE_AUTO_MIXED_PRECISION has no effect.\n",
      "2024-05-24 01:49:37.435901: W tensorflow/core/grappler/optimizers/meta_optimizer.cc:163] TF_ENABLE_AUTO_MIXED_PRECISION has no effect.\n",
      "2024-05-24 01:49:37.435905: W tensorflow/core/grappler/optimizers/meta_optimizer.cc:163] TF_ENABLE_AUTO_MIXED_PRECISION has no effect.\n",
      "2024-05-24 01:49:37.435909: W tensorflow/core/grappler/optimizers/meta_optimizer.cc:163] TF_ENABLE_AUTO_MIXED_PRECISION has no effect.\n",
      "2024-05-24 01:49:37.435919: W tensorflow/core/grappler/optimizers/meta_optimizer.cc:163] TF_ENABLE_AUTO_MIXED_PRECISION has no effect.\n",
      "2024-05-24 01:49:37.435924: W tensorflow/core/grappler/optimizers/meta_optimizer.cc:163] TF_ENABLE_AUTO_MIXED_PRECISION has no effect.\n",
      "2024-05-24 01:49:37.435928: W tensorflow/core/grappler/optimizers/meta_optimizer.cc:163] TF_ENABLE_AUTO_MIXED_PRECISION has no effect.\n",
      "2024-05-24 01:49:37.435932: W tensorflow/core/grappler/optimizers/meta_optimizer.cc:163] TF_ENABLE_AUTO_MIXED_PRECISION has no effect.\n",
      "2024-05-24 01:49:37.440613: W tensorflow/core/grappler/optimizers/meta_optimizer.cc:163] TF_ENABLE_AUTO_MIXED_PRECISION has no effect.\n",
      "2024-05-24 01:49:37.440631: W tensorflow/core/grappler/optimizers/meta_optimizer.cc:163] TF_ENABLE_AUTO_MIXED_PRECISION has no effect.\n",
      "2024-05-24 01:49:37.440636: W tensorflow/core/grappler/optimizers/meta_optimizer.cc:163] TF_ENABLE_AUTO_MIXED_PRECISION has no effect.\n",
      "2024-05-24 01:49:37.440639: W tensorflow/core/grappler/optimizers/meta_optimizer.cc:163] TF_ENABLE_AUTO_MIXED_PRECISION has no effect.\n",
      "2024-05-24 01:49:37.440649: W tensorflow/core/grappler/optimizers/meta_optimizer.cc:163] TF_ENABLE_AUTO_MIXED_PRECISION has no effect.\n",
      "2024-05-24 01:49:37.440655: W tensorflow/core/grappler/optimizers/meta_optimizer.cc:163] TF_ENABLE_AUTO_MIXED_PRECISION has no effect.\n",
      "2024-05-24 01:49:37.440659: W tensorflow/core/grappler/optimizers/meta_optimizer.cc:163] TF_ENABLE_AUTO_MIXED_PRECISION has no effect.\n",
      "2024-05-24 01:49:37.440663: W tensorflow/core/grappler/optimizers/meta_optimizer.cc:163] TF_ENABLE_AUTO_MIXED_PRECISION has no effect.\n"
     ]
    },
    {
     "name": "stdout",
     "output_type": "stream",
     "text": [
      "235/235 [==============================] - 1s 4ms/step - loss: 0.0678 - val_loss: 0.0681\n",
      "Epoch 28/50\n",
      " 27/235 [==>...........................] - ETA: 0s - loss: 0.0673"
     ]
    },
    {
     "name": "stderr",
     "output_type": "stream",
     "text": [
      "2024-05-24 01:49:38.433235: W tensorflow/core/grappler/optimizers/meta_optimizer.cc:163] TF_ENABLE_AUTO_MIXED_PRECISION has no effect.\n",
      "2024-05-24 01:49:38.433270: W tensorflow/core/grappler/optimizers/meta_optimizer.cc:163] TF_ENABLE_AUTO_MIXED_PRECISION has no effect.\n",
      "2024-05-24 01:49:38.433274: W tensorflow/core/grappler/optimizers/meta_optimizer.cc:163] TF_ENABLE_AUTO_MIXED_PRECISION has no effect.\n",
      "2024-05-24 01:49:38.433278: W tensorflow/core/grappler/optimizers/meta_optimizer.cc:163] TF_ENABLE_AUTO_MIXED_PRECISION has no effect.\n",
      "2024-05-24 01:49:38.433291: W tensorflow/core/grappler/optimizers/meta_optimizer.cc:163] TF_ENABLE_AUTO_MIXED_PRECISION has no effect.\n",
      "2024-05-24 01:49:38.433296: W tensorflow/core/grappler/optimizers/meta_optimizer.cc:163] TF_ENABLE_AUTO_MIXED_PRECISION has no effect.\n",
      "2024-05-24 01:49:38.433300: W tensorflow/core/grappler/optimizers/meta_optimizer.cc:163] TF_ENABLE_AUTO_MIXED_PRECISION has no effect.\n",
      "2024-05-24 01:49:38.433304: W tensorflow/core/grappler/optimizers/meta_optimizer.cc:163] TF_ENABLE_AUTO_MIXED_PRECISION has no effect.\n",
      "2024-05-24 01:49:38.437521: W tensorflow/core/grappler/optimizers/meta_optimizer.cc:163] TF_ENABLE_AUTO_MIXED_PRECISION has no effect.\n",
      "2024-05-24 01:49:38.437543: W tensorflow/core/grappler/optimizers/meta_optimizer.cc:163] TF_ENABLE_AUTO_MIXED_PRECISION has no effect.\n",
      "2024-05-24 01:49:38.437547: W tensorflow/core/grappler/optimizers/meta_optimizer.cc:163] TF_ENABLE_AUTO_MIXED_PRECISION has no effect.\n",
      "2024-05-24 01:49:38.437551: W tensorflow/core/grappler/optimizers/meta_optimizer.cc:163] TF_ENABLE_AUTO_MIXED_PRECISION has no effect.\n",
      "2024-05-24 01:49:38.437562: W tensorflow/core/grappler/optimizers/meta_optimizer.cc:163] TF_ENABLE_AUTO_MIXED_PRECISION has no effect.\n",
      "2024-05-24 01:49:38.437567: W tensorflow/core/grappler/optimizers/meta_optimizer.cc:163] TF_ENABLE_AUTO_MIXED_PRECISION has no effect.\n",
      "2024-05-24 01:49:38.437571: W tensorflow/core/grappler/optimizers/meta_optimizer.cc:163] TF_ENABLE_AUTO_MIXED_PRECISION has no effect.\n",
      "2024-05-24 01:49:38.437575: W tensorflow/core/grappler/optimizers/meta_optimizer.cc:163] TF_ENABLE_AUTO_MIXED_PRECISION has no effect.\n",
      "2024-05-24 01:49:38.442539: W tensorflow/core/grappler/optimizers/meta_optimizer.cc:163] TF_ENABLE_AUTO_MIXED_PRECISION has no effect.\n",
      "2024-05-24 01:49:38.442558: W tensorflow/core/grappler/optimizers/meta_optimizer.cc:163] TF_ENABLE_AUTO_MIXED_PRECISION has no effect.\n",
      "2024-05-24 01:49:38.442562: W tensorflow/core/grappler/optimizers/meta_optimizer.cc:163] TF_ENABLE_AUTO_MIXED_PRECISION has no effect.\n",
      "2024-05-24 01:49:38.442566: W tensorflow/core/grappler/optimizers/meta_optimizer.cc:163] TF_ENABLE_AUTO_MIXED_PRECISION has no effect.\n",
      "2024-05-24 01:49:38.442576: W tensorflow/core/grappler/optimizers/meta_optimizer.cc:163] TF_ENABLE_AUTO_MIXED_PRECISION has no effect.\n",
      "2024-05-24 01:49:38.442581: W tensorflow/core/grappler/optimizers/meta_optimizer.cc:163] TF_ENABLE_AUTO_MIXED_PRECISION has no effect.\n",
      "2024-05-24 01:49:38.442585: W tensorflow/core/grappler/optimizers/meta_optimizer.cc:163] TF_ENABLE_AUTO_MIXED_PRECISION has no effect.\n",
      "2024-05-24 01:49:38.442589: W tensorflow/core/grappler/optimizers/meta_optimizer.cc:163] TF_ENABLE_AUTO_MIXED_PRECISION has no effect.\n"
     ]
    },
    {
     "name": "stdout",
     "output_type": "stream",
     "text": [
      "235/235 [==============================] - 1s 4ms/step - loss: 0.0677 - val_loss: 0.0686\n",
      "Epoch 29/50\n",
      " 27/235 [==>...........................] - ETA: 0s - loss: 0.0678"
     ]
    },
    {
     "name": "stderr",
     "output_type": "stream",
     "text": [
      "2024-05-24 01:49:39.426423: W tensorflow/core/grappler/optimizers/meta_optimizer.cc:163] TF_ENABLE_AUTO_MIXED_PRECISION has no effect.\n",
      "2024-05-24 01:49:39.426456: W tensorflow/core/grappler/optimizers/meta_optimizer.cc:163] TF_ENABLE_AUTO_MIXED_PRECISION has no effect.\n",
      "2024-05-24 01:49:39.426460: W tensorflow/core/grappler/optimizers/meta_optimizer.cc:163] TF_ENABLE_AUTO_MIXED_PRECISION has no effect.\n",
      "2024-05-24 01:49:39.426464: W tensorflow/core/grappler/optimizers/meta_optimizer.cc:163] TF_ENABLE_AUTO_MIXED_PRECISION has no effect.\n",
      "2024-05-24 01:49:39.426477: W tensorflow/core/grappler/optimizers/meta_optimizer.cc:163] TF_ENABLE_AUTO_MIXED_PRECISION has no effect.\n",
      "2024-05-24 01:49:39.426482: W tensorflow/core/grappler/optimizers/meta_optimizer.cc:163] TF_ENABLE_AUTO_MIXED_PRECISION has no effect.\n",
      "2024-05-24 01:49:39.426486: W tensorflow/core/grappler/optimizers/meta_optimizer.cc:163] TF_ENABLE_AUTO_MIXED_PRECISION has no effect.\n",
      "2024-05-24 01:49:39.426490: W tensorflow/core/grappler/optimizers/meta_optimizer.cc:163] TF_ENABLE_AUTO_MIXED_PRECISION has no effect.\n",
      "2024-05-24 01:49:39.430483: W tensorflow/core/grappler/optimizers/meta_optimizer.cc:163] TF_ENABLE_AUTO_MIXED_PRECISION has no effect.\n",
      "2024-05-24 01:49:39.430504: W tensorflow/core/grappler/optimizers/meta_optimizer.cc:163] TF_ENABLE_AUTO_MIXED_PRECISION has no effect.\n",
      "2024-05-24 01:49:39.430509: W tensorflow/core/grappler/optimizers/meta_optimizer.cc:163] TF_ENABLE_AUTO_MIXED_PRECISION has no effect.\n",
      "2024-05-24 01:49:39.430513: W tensorflow/core/grappler/optimizers/meta_optimizer.cc:163] TF_ENABLE_AUTO_MIXED_PRECISION has no effect.\n",
      "2024-05-24 01:49:39.430523: W tensorflow/core/grappler/optimizers/meta_optimizer.cc:163] TF_ENABLE_AUTO_MIXED_PRECISION has no effect.\n",
      "2024-05-24 01:49:39.430528: W tensorflow/core/grappler/optimizers/meta_optimizer.cc:163] TF_ENABLE_AUTO_MIXED_PRECISION has no effect.\n",
      "2024-05-24 01:49:39.430532: W tensorflow/core/grappler/optimizers/meta_optimizer.cc:163] TF_ENABLE_AUTO_MIXED_PRECISION has no effect.\n",
      "2024-05-24 01:49:39.430536: W tensorflow/core/grappler/optimizers/meta_optimizer.cc:163] TF_ENABLE_AUTO_MIXED_PRECISION has no effect.\n",
      "2024-05-24 01:49:39.435236: W tensorflow/core/grappler/optimizers/meta_optimizer.cc:163] TF_ENABLE_AUTO_MIXED_PRECISION has no effect.\n",
      "2024-05-24 01:49:39.435254: W tensorflow/core/grappler/optimizers/meta_optimizer.cc:163] TF_ENABLE_AUTO_MIXED_PRECISION has no effect.\n",
      "2024-05-24 01:49:39.435259: W tensorflow/core/grappler/optimizers/meta_optimizer.cc:163] TF_ENABLE_AUTO_MIXED_PRECISION has no effect.\n",
      "2024-05-24 01:49:39.435262: W tensorflow/core/grappler/optimizers/meta_optimizer.cc:163] TF_ENABLE_AUTO_MIXED_PRECISION has no effect.\n",
      "2024-05-24 01:49:39.435272: W tensorflow/core/grappler/optimizers/meta_optimizer.cc:163] TF_ENABLE_AUTO_MIXED_PRECISION has no effect.\n",
      "2024-05-24 01:49:39.435278: W tensorflow/core/grappler/optimizers/meta_optimizer.cc:163] TF_ENABLE_AUTO_MIXED_PRECISION has no effect.\n",
      "2024-05-24 01:49:39.435282: W tensorflow/core/grappler/optimizers/meta_optimizer.cc:163] TF_ENABLE_AUTO_MIXED_PRECISION has no effect.\n",
      "2024-05-24 01:49:39.435286: W tensorflow/core/grappler/optimizers/meta_optimizer.cc:163] TF_ENABLE_AUTO_MIXED_PRECISION has no effect.\n"
     ]
    },
    {
     "name": "stdout",
     "output_type": "stream",
     "text": [
      "235/235 [==============================] - 1s 4ms/step - loss: 0.0676 - val_loss: 0.0679\n",
      "Epoch 30/50\n",
      " 28/235 [==>...........................] - ETA: 0s - loss: 0.0677"
     ]
    },
    {
     "name": "stderr",
     "output_type": "stream",
     "text": [
      "2024-05-24 01:49:40.416732: W tensorflow/core/grappler/optimizers/meta_optimizer.cc:163] TF_ENABLE_AUTO_MIXED_PRECISION has no effect.\n",
      "2024-05-24 01:49:40.416762: W tensorflow/core/grappler/optimizers/meta_optimizer.cc:163] TF_ENABLE_AUTO_MIXED_PRECISION has no effect.\n",
      "2024-05-24 01:49:40.416767: W tensorflow/core/grappler/optimizers/meta_optimizer.cc:163] TF_ENABLE_AUTO_MIXED_PRECISION has no effect.\n",
      "2024-05-24 01:49:40.416770: W tensorflow/core/grappler/optimizers/meta_optimizer.cc:163] TF_ENABLE_AUTO_MIXED_PRECISION has no effect.\n",
      "2024-05-24 01:49:40.416783: W tensorflow/core/grappler/optimizers/meta_optimizer.cc:163] TF_ENABLE_AUTO_MIXED_PRECISION has no effect.\n",
      "2024-05-24 01:49:40.416788: W tensorflow/core/grappler/optimizers/meta_optimizer.cc:163] TF_ENABLE_AUTO_MIXED_PRECISION has no effect.\n",
      "2024-05-24 01:49:40.416792: W tensorflow/core/grappler/optimizers/meta_optimizer.cc:163] TF_ENABLE_AUTO_MIXED_PRECISION has no effect.\n",
      "2024-05-24 01:49:40.416796: W tensorflow/core/grappler/optimizers/meta_optimizer.cc:163] TF_ENABLE_AUTO_MIXED_PRECISION has no effect.\n",
      "2024-05-24 01:49:40.421508: W tensorflow/core/grappler/optimizers/meta_optimizer.cc:163] TF_ENABLE_AUTO_MIXED_PRECISION has no effect.\n",
      "2024-05-24 01:49:40.421528: W tensorflow/core/grappler/optimizers/meta_optimizer.cc:163] TF_ENABLE_AUTO_MIXED_PRECISION has no effect.\n",
      "2024-05-24 01:49:40.421532: W tensorflow/core/grappler/optimizers/meta_optimizer.cc:163] TF_ENABLE_AUTO_MIXED_PRECISION has no effect.\n",
      "2024-05-24 01:49:40.421536: W tensorflow/core/grappler/optimizers/meta_optimizer.cc:163] TF_ENABLE_AUTO_MIXED_PRECISION has no effect.\n",
      "2024-05-24 01:49:40.421546: W tensorflow/core/grappler/optimizers/meta_optimizer.cc:163] TF_ENABLE_AUTO_MIXED_PRECISION has no effect.\n",
      "2024-05-24 01:49:40.421550: W tensorflow/core/grappler/optimizers/meta_optimizer.cc:163] TF_ENABLE_AUTO_MIXED_PRECISION has no effect.\n",
      "2024-05-24 01:49:40.421554: W tensorflow/core/grappler/optimizers/meta_optimizer.cc:163] TF_ENABLE_AUTO_MIXED_PRECISION has no effect.\n",
      "2024-05-24 01:49:40.421558: W tensorflow/core/grappler/optimizers/meta_optimizer.cc:163] TF_ENABLE_AUTO_MIXED_PRECISION has no effect.\n",
      "2024-05-24 01:49:40.426285: W tensorflow/core/grappler/optimizers/meta_optimizer.cc:163] TF_ENABLE_AUTO_MIXED_PRECISION has no effect.\n",
      "2024-05-24 01:49:40.426303: W tensorflow/core/grappler/optimizers/meta_optimizer.cc:163] TF_ENABLE_AUTO_MIXED_PRECISION has no effect.\n",
      "2024-05-24 01:49:40.426308: W tensorflow/core/grappler/optimizers/meta_optimizer.cc:163] TF_ENABLE_AUTO_MIXED_PRECISION has no effect.\n",
      "2024-05-24 01:49:40.426312: W tensorflow/core/grappler/optimizers/meta_optimizer.cc:163] TF_ENABLE_AUTO_MIXED_PRECISION has no effect.\n",
      "2024-05-24 01:49:40.426321: W tensorflow/core/grappler/optimizers/meta_optimizer.cc:163] TF_ENABLE_AUTO_MIXED_PRECISION has no effect.\n",
      "2024-05-24 01:49:40.426326: W tensorflow/core/grappler/optimizers/meta_optimizer.cc:163] TF_ENABLE_AUTO_MIXED_PRECISION has no effect.\n",
      "2024-05-24 01:49:40.426330: W tensorflow/core/grappler/optimizers/meta_optimizer.cc:163] TF_ENABLE_AUTO_MIXED_PRECISION has no effect.\n",
      "2024-05-24 01:49:40.426334: W tensorflow/core/grappler/optimizers/meta_optimizer.cc:163] TF_ENABLE_AUTO_MIXED_PRECISION has no effect.\n"
     ]
    },
    {
     "name": "stdout",
     "output_type": "stream",
     "text": [
      "235/235 [==============================] - 1s 4ms/step - loss: 0.0675 - val_loss: 0.0680\n",
      "Epoch 31/50\n",
      " 29/235 [==>...........................] - ETA: 0s - loss: 0.0673"
     ]
    },
    {
     "name": "stderr",
     "output_type": "stream",
     "text": [
      "2024-05-24 01:49:41.402904: W tensorflow/core/grappler/optimizers/meta_optimizer.cc:163] TF_ENABLE_AUTO_MIXED_PRECISION has no effect.\n",
      "2024-05-24 01:49:41.402937: W tensorflow/core/grappler/optimizers/meta_optimizer.cc:163] TF_ENABLE_AUTO_MIXED_PRECISION has no effect.\n",
      "2024-05-24 01:49:41.402941: W tensorflow/core/grappler/optimizers/meta_optimizer.cc:163] TF_ENABLE_AUTO_MIXED_PRECISION has no effect.\n",
      "2024-05-24 01:49:41.402945: W tensorflow/core/grappler/optimizers/meta_optimizer.cc:163] TF_ENABLE_AUTO_MIXED_PRECISION has no effect.\n",
      "2024-05-24 01:49:41.402958: W tensorflow/core/grappler/optimizers/meta_optimizer.cc:163] TF_ENABLE_AUTO_MIXED_PRECISION has no effect.\n",
      "2024-05-24 01:49:41.402963: W tensorflow/core/grappler/optimizers/meta_optimizer.cc:163] TF_ENABLE_AUTO_MIXED_PRECISION has no effect.\n",
      "2024-05-24 01:49:41.402967: W tensorflow/core/grappler/optimizers/meta_optimizer.cc:163] TF_ENABLE_AUTO_MIXED_PRECISION has no effect.\n",
      "2024-05-24 01:49:41.402972: W tensorflow/core/grappler/optimizers/meta_optimizer.cc:163] TF_ENABLE_AUTO_MIXED_PRECISION has no effect.\n",
      "2024-05-24 01:49:41.406978: W tensorflow/core/grappler/optimizers/meta_optimizer.cc:163] TF_ENABLE_AUTO_MIXED_PRECISION has no effect.\n",
      "2024-05-24 01:49:41.406999: W tensorflow/core/grappler/optimizers/meta_optimizer.cc:163] TF_ENABLE_AUTO_MIXED_PRECISION has no effect.\n",
      "2024-05-24 01:49:41.407004: W tensorflow/core/grappler/optimizers/meta_optimizer.cc:163] TF_ENABLE_AUTO_MIXED_PRECISION has no effect.\n",
      "2024-05-24 01:49:41.407008: W tensorflow/core/grappler/optimizers/meta_optimizer.cc:163] TF_ENABLE_AUTO_MIXED_PRECISION has no effect.\n",
      "2024-05-24 01:49:41.407019: W tensorflow/core/grappler/optimizers/meta_optimizer.cc:163] TF_ENABLE_AUTO_MIXED_PRECISION has no effect.\n",
      "2024-05-24 01:49:41.407025: W tensorflow/core/grappler/optimizers/meta_optimizer.cc:163] TF_ENABLE_AUTO_MIXED_PRECISION has no effect.\n",
      "2024-05-24 01:49:41.407029: W tensorflow/core/grappler/optimizers/meta_optimizer.cc:163] TF_ENABLE_AUTO_MIXED_PRECISION has no effect.\n",
      "2024-05-24 01:49:41.407033: W tensorflow/core/grappler/optimizers/meta_optimizer.cc:163] TF_ENABLE_AUTO_MIXED_PRECISION has no effect.\n",
      "2024-05-24 01:49:41.411729: W tensorflow/core/grappler/optimizers/meta_optimizer.cc:163] TF_ENABLE_AUTO_MIXED_PRECISION has no effect.\n",
      "2024-05-24 01:49:41.411747: W tensorflow/core/grappler/optimizers/meta_optimizer.cc:163] TF_ENABLE_AUTO_MIXED_PRECISION has no effect.\n",
      "2024-05-24 01:49:41.411751: W tensorflow/core/grappler/optimizers/meta_optimizer.cc:163] TF_ENABLE_AUTO_MIXED_PRECISION has no effect.\n",
      "2024-05-24 01:49:41.411755: W tensorflow/core/grappler/optimizers/meta_optimizer.cc:163] TF_ENABLE_AUTO_MIXED_PRECISION has no effect.\n",
      "2024-05-24 01:49:41.411765: W tensorflow/core/grappler/optimizers/meta_optimizer.cc:163] TF_ENABLE_AUTO_MIXED_PRECISION has no effect.\n",
      "2024-05-24 01:49:41.411769: W tensorflow/core/grappler/optimizers/meta_optimizer.cc:163] TF_ENABLE_AUTO_MIXED_PRECISION has no effect.\n",
      "2024-05-24 01:49:41.411773: W tensorflow/core/grappler/optimizers/meta_optimizer.cc:163] TF_ENABLE_AUTO_MIXED_PRECISION has no effect.\n",
      "2024-05-24 01:49:41.411777: W tensorflow/core/grappler/optimizers/meta_optimizer.cc:163] TF_ENABLE_AUTO_MIXED_PRECISION has no effect.\n"
     ]
    },
    {
     "name": "stdout",
     "output_type": "stream",
     "text": [
      "235/235 [==============================] - 1s 4ms/step - loss: 0.0674 - val_loss: 0.0677\n",
      "Epoch 32/50\n",
      " 27/235 [==>...........................] - ETA: 0s - loss: 0.0677"
     ]
    },
    {
     "name": "stderr",
     "output_type": "stream",
     "text": [
      "2024-05-24 01:49:42.393141: W tensorflow/core/grappler/optimizers/meta_optimizer.cc:163] TF_ENABLE_AUTO_MIXED_PRECISION has no effect.\n",
      "2024-05-24 01:49:42.393174: W tensorflow/core/grappler/optimizers/meta_optimizer.cc:163] TF_ENABLE_AUTO_MIXED_PRECISION has no effect.\n",
      "2024-05-24 01:49:42.393178: W tensorflow/core/grappler/optimizers/meta_optimizer.cc:163] TF_ENABLE_AUTO_MIXED_PRECISION has no effect.\n",
      "2024-05-24 01:49:42.393182: W tensorflow/core/grappler/optimizers/meta_optimizer.cc:163] TF_ENABLE_AUTO_MIXED_PRECISION has no effect.\n",
      "2024-05-24 01:49:42.393194: W tensorflow/core/grappler/optimizers/meta_optimizer.cc:163] TF_ENABLE_AUTO_MIXED_PRECISION has no effect.\n",
      "2024-05-24 01:49:42.393199: W tensorflow/core/grappler/optimizers/meta_optimizer.cc:163] TF_ENABLE_AUTO_MIXED_PRECISION has no effect.\n",
      "2024-05-24 01:49:42.393203: W tensorflow/core/grappler/optimizers/meta_optimizer.cc:163] TF_ENABLE_AUTO_MIXED_PRECISION has no effect.\n",
      "2024-05-24 01:49:42.393207: W tensorflow/core/grappler/optimizers/meta_optimizer.cc:163] TF_ENABLE_AUTO_MIXED_PRECISION has no effect.\n",
      "2024-05-24 01:49:42.397188: W tensorflow/core/grappler/optimizers/meta_optimizer.cc:163] TF_ENABLE_AUTO_MIXED_PRECISION has no effect.\n",
      "2024-05-24 01:49:42.397209: W tensorflow/core/grappler/optimizers/meta_optimizer.cc:163] TF_ENABLE_AUTO_MIXED_PRECISION has no effect.\n",
      "2024-05-24 01:49:42.397214: W tensorflow/core/grappler/optimizers/meta_optimizer.cc:163] TF_ENABLE_AUTO_MIXED_PRECISION has no effect.\n",
      "2024-05-24 01:49:42.397217: W tensorflow/core/grappler/optimizers/meta_optimizer.cc:163] TF_ENABLE_AUTO_MIXED_PRECISION has no effect.\n",
      "2024-05-24 01:49:42.397228: W tensorflow/core/grappler/optimizers/meta_optimizer.cc:163] TF_ENABLE_AUTO_MIXED_PRECISION has no effect.\n",
      "2024-05-24 01:49:42.397235: W tensorflow/core/grappler/optimizers/meta_optimizer.cc:163] TF_ENABLE_AUTO_MIXED_PRECISION has no effect.\n",
      "2024-05-24 01:49:42.397239: W tensorflow/core/grappler/optimizers/meta_optimizer.cc:163] TF_ENABLE_AUTO_MIXED_PRECISION has no effect.\n",
      "2024-05-24 01:49:42.397243: W tensorflow/core/grappler/optimizers/meta_optimizer.cc:163] TF_ENABLE_AUTO_MIXED_PRECISION has no effect.\n",
      "2024-05-24 01:49:42.401953: W tensorflow/core/grappler/optimizers/meta_optimizer.cc:163] TF_ENABLE_AUTO_MIXED_PRECISION has no effect.\n",
      "2024-05-24 01:49:42.401971: W tensorflow/core/grappler/optimizers/meta_optimizer.cc:163] TF_ENABLE_AUTO_MIXED_PRECISION has no effect.\n",
      "2024-05-24 01:49:42.401975: W tensorflow/core/grappler/optimizers/meta_optimizer.cc:163] TF_ENABLE_AUTO_MIXED_PRECISION has no effect.\n",
      "2024-05-24 01:49:42.401979: W tensorflow/core/grappler/optimizers/meta_optimizer.cc:163] TF_ENABLE_AUTO_MIXED_PRECISION has no effect.\n",
      "2024-05-24 01:49:42.401988: W tensorflow/core/grappler/optimizers/meta_optimizer.cc:163] TF_ENABLE_AUTO_MIXED_PRECISION has no effect.\n",
      "2024-05-24 01:49:42.401995: W tensorflow/core/grappler/optimizers/meta_optimizer.cc:163] TF_ENABLE_AUTO_MIXED_PRECISION has no effect.\n",
      "2024-05-24 01:49:42.401999: W tensorflow/core/grappler/optimizers/meta_optimizer.cc:163] TF_ENABLE_AUTO_MIXED_PRECISION has no effect.\n",
      "2024-05-24 01:49:42.402003: W tensorflow/core/grappler/optimizers/meta_optimizer.cc:163] TF_ENABLE_AUTO_MIXED_PRECISION has no effect.\n"
     ]
    },
    {
     "name": "stdout",
     "output_type": "stream",
     "text": [
      "235/235 [==============================] - 1s 4ms/step - loss: 0.0673 - val_loss: 0.0676\n",
      "Epoch 33/50\n",
      " 27/235 [==>...........................] - ETA: 0s - loss: 0.0672"
     ]
    },
    {
     "name": "stderr",
     "output_type": "stream",
     "text": [
      "2024-05-24 01:49:43.381759: W tensorflow/core/grappler/optimizers/meta_optimizer.cc:163] TF_ENABLE_AUTO_MIXED_PRECISION has no effect.\n",
      "2024-05-24 01:49:43.381789: W tensorflow/core/grappler/optimizers/meta_optimizer.cc:163] TF_ENABLE_AUTO_MIXED_PRECISION has no effect.\n",
      "2024-05-24 01:49:43.381794: W tensorflow/core/grappler/optimizers/meta_optimizer.cc:163] TF_ENABLE_AUTO_MIXED_PRECISION has no effect.\n",
      "2024-05-24 01:49:43.381798: W tensorflow/core/grappler/optimizers/meta_optimizer.cc:163] TF_ENABLE_AUTO_MIXED_PRECISION has no effect.\n",
      "2024-05-24 01:49:43.381810: W tensorflow/core/grappler/optimizers/meta_optimizer.cc:163] TF_ENABLE_AUTO_MIXED_PRECISION has no effect.\n",
      "2024-05-24 01:49:43.381815: W tensorflow/core/grappler/optimizers/meta_optimizer.cc:163] TF_ENABLE_AUTO_MIXED_PRECISION has no effect.\n",
      "2024-05-24 01:49:43.381819: W tensorflow/core/grappler/optimizers/meta_optimizer.cc:163] TF_ENABLE_AUTO_MIXED_PRECISION has no effect.\n",
      "2024-05-24 01:49:43.381823: W tensorflow/core/grappler/optimizers/meta_optimizer.cc:163] TF_ENABLE_AUTO_MIXED_PRECISION has no effect.\n",
      "2024-05-24 01:49:43.385833: W tensorflow/core/grappler/optimizers/meta_optimizer.cc:163] TF_ENABLE_AUTO_MIXED_PRECISION has no effect.\n",
      "2024-05-24 01:49:43.385864: W tensorflow/core/grappler/optimizers/meta_optimizer.cc:163] TF_ENABLE_AUTO_MIXED_PRECISION has no effect.\n",
      "2024-05-24 01:49:43.385868: W tensorflow/core/grappler/optimizers/meta_optimizer.cc:163] TF_ENABLE_AUTO_MIXED_PRECISION has no effect.\n",
      "2024-05-24 01:49:43.385872: W tensorflow/core/grappler/optimizers/meta_optimizer.cc:163] TF_ENABLE_AUTO_MIXED_PRECISION has no effect.\n",
      "2024-05-24 01:49:43.385882: W tensorflow/core/grappler/optimizers/meta_optimizer.cc:163] TF_ENABLE_AUTO_MIXED_PRECISION has no effect.\n",
      "2024-05-24 01:49:43.385889: W tensorflow/core/grappler/optimizers/meta_optimizer.cc:163] TF_ENABLE_AUTO_MIXED_PRECISION has no effect.\n",
      "2024-05-24 01:49:43.385893: W tensorflow/core/grappler/optimizers/meta_optimizer.cc:163] TF_ENABLE_AUTO_MIXED_PRECISION has no effect.\n",
      "2024-05-24 01:49:43.385897: W tensorflow/core/grappler/optimizers/meta_optimizer.cc:163] TF_ENABLE_AUTO_MIXED_PRECISION has no effect.\n",
      "2024-05-24 01:49:43.391795: W tensorflow/core/grappler/optimizers/meta_optimizer.cc:163] TF_ENABLE_AUTO_MIXED_PRECISION has no effect.\n",
      "2024-05-24 01:49:43.391813: W tensorflow/core/grappler/optimizers/meta_optimizer.cc:163] TF_ENABLE_AUTO_MIXED_PRECISION has no effect.\n",
      "2024-05-24 01:49:43.391817: W tensorflow/core/grappler/optimizers/meta_optimizer.cc:163] TF_ENABLE_AUTO_MIXED_PRECISION has no effect.\n",
      "2024-05-24 01:49:43.391821: W tensorflow/core/grappler/optimizers/meta_optimizer.cc:163] TF_ENABLE_AUTO_MIXED_PRECISION has no effect.\n",
      "2024-05-24 01:49:43.391830: W tensorflow/core/grappler/optimizers/meta_optimizer.cc:163] TF_ENABLE_AUTO_MIXED_PRECISION has no effect.\n",
      "2024-05-24 01:49:43.391837: W tensorflow/core/grappler/optimizers/meta_optimizer.cc:163] TF_ENABLE_AUTO_MIXED_PRECISION has no effect.\n",
      "2024-05-24 01:49:43.391846: W tensorflow/core/grappler/optimizers/meta_optimizer.cc:163] TF_ENABLE_AUTO_MIXED_PRECISION has no effect.\n",
      "2024-05-24 01:49:43.391850: W tensorflow/core/grappler/optimizers/meta_optimizer.cc:163] TF_ENABLE_AUTO_MIXED_PRECISION has no effect.\n"
     ]
    },
    {
     "name": "stdout",
     "output_type": "stream",
     "text": [
      "235/235 [==============================] - 1s 4ms/step - loss: 0.0672 - val_loss: 0.0676\n",
      "Epoch 34/50\n",
      " 27/235 [==>...........................] - ETA: 0s - loss: 0.0673"
     ]
    },
    {
     "name": "stderr",
     "output_type": "stream",
     "text": [
      "2024-05-24 01:49:44.378207: W tensorflow/core/grappler/optimizers/meta_optimizer.cc:163] TF_ENABLE_AUTO_MIXED_PRECISION has no effect.\n",
      "2024-05-24 01:49:44.378239: W tensorflow/core/grappler/optimizers/meta_optimizer.cc:163] TF_ENABLE_AUTO_MIXED_PRECISION has no effect.\n",
      "2024-05-24 01:49:44.378243: W tensorflow/core/grappler/optimizers/meta_optimizer.cc:163] TF_ENABLE_AUTO_MIXED_PRECISION has no effect.\n",
      "2024-05-24 01:49:44.378247: W tensorflow/core/grappler/optimizers/meta_optimizer.cc:163] TF_ENABLE_AUTO_MIXED_PRECISION has no effect.\n",
      "2024-05-24 01:49:44.378260: W tensorflow/core/grappler/optimizers/meta_optimizer.cc:163] TF_ENABLE_AUTO_MIXED_PRECISION has no effect.\n",
      "2024-05-24 01:49:44.378265: W tensorflow/core/grappler/optimizers/meta_optimizer.cc:163] TF_ENABLE_AUTO_MIXED_PRECISION has no effect.\n",
      "2024-05-24 01:49:44.378269: W tensorflow/core/grappler/optimizers/meta_optimizer.cc:163] TF_ENABLE_AUTO_MIXED_PRECISION has no effect.\n",
      "2024-05-24 01:49:44.378273: W tensorflow/core/grappler/optimizers/meta_optimizer.cc:163] TF_ENABLE_AUTO_MIXED_PRECISION has no effect.\n",
      "2024-05-24 01:49:44.382288: W tensorflow/core/grappler/optimizers/meta_optimizer.cc:163] TF_ENABLE_AUTO_MIXED_PRECISION has no effect.\n",
      "2024-05-24 01:49:44.382309: W tensorflow/core/grappler/optimizers/meta_optimizer.cc:163] TF_ENABLE_AUTO_MIXED_PRECISION has no effect.\n",
      "2024-05-24 01:49:44.382313: W tensorflow/core/grappler/optimizers/meta_optimizer.cc:163] TF_ENABLE_AUTO_MIXED_PRECISION has no effect.\n",
      "2024-05-24 01:49:44.382317: W tensorflow/core/grappler/optimizers/meta_optimizer.cc:163] TF_ENABLE_AUTO_MIXED_PRECISION has no effect.\n",
      "2024-05-24 01:49:44.382328: W tensorflow/core/grappler/optimizers/meta_optimizer.cc:163] TF_ENABLE_AUTO_MIXED_PRECISION has no effect.\n",
      "2024-05-24 01:49:44.382335: W tensorflow/core/grappler/optimizers/meta_optimizer.cc:163] TF_ENABLE_AUTO_MIXED_PRECISION has no effect.\n",
      "2024-05-24 01:49:44.382339: W tensorflow/core/grappler/optimizers/meta_optimizer.cc:163] TF_ENABLE_AUTO_MIXED_PRECISION has no effect.\n",
      "2024-05-24 01:49:44.382343: W tensorflow/core/grappler/optimizers/meta_optimizer.cc:163] TF_ENABLE_AUTO_MIXED_PRECISION has no effect.\n",
      "2024-05-24 01:49:44.387040: W tensorflow/core/grappler/optimizers/meta_optimizer.cc:163] TF_ENABLE_AUTO_MIXED_PRECISION has no effect.\n",
      "2024-05-24 01:49:44.387058: W tensorflow/core/grappler/optimizers/meta_optimizer.cc:163] TF_ENABLE_AUTO_MIXED_PRECISION has no effect.\n",
      "2024-05-24 01:49:44.387062: W tensorflow/core/grappler/optimizers/meta_optimizer.cc:163] TF_ENABLE_AUTO_MIXED_PRECISION has no effect.\n",
      "2024-05-24 01:49:44.387066: W tensorflow/core/grappler/optimizers/meta_optimizer.cc:163] TF_ENABLE_AUTO_MIXED_PRECISION has no effect.\n",
      "2024-05-24 01:49:44.387075: W tensorflow/core/grappler/optimizers/meta_optimizer.cc:163] TF_ENABLE_AUTO_MIXED_PRECISION has no effect.\n",
      "2024-05-24 01:49:44.387082: W tensorflow/core/grappler/optimizers/meta_optimizer.cc:163] TF_ENABLE_AUTO_MIXED_PRECISION has no effect.\n",
      "2024-05-24 01:49:44.387086: W tensorflow/core/grappler/optimizers/meta_optimizer.cc:163] TF_ENABLE_AUTO_MIXED_PRECISION has no effect.\n",
      "2024-05-24 01:49:44.387090: W tensorflow/core/grappler/optimizers/meta_optimizer.cc:163] TF_ENABLE_AUTO_MIXED_PRECISION has no effect.\n"
     ]
    },
    {
     "name": "stdout",
     "output_type": "stream",
     "text": [
      "235/235 [==============================] - 1s 4ms/step - loss: 0.0672 - val_loss: 0.0675\n",
      "Epoch 35/50\n",
      " 29/235 [==>...........................] - ETA: 0s - loss: 0.0669"
     ]
    },
    {
     "name": "stderr",
     "output_type": "stream",
     "text": [
      "2024-05-24 01:49:45.375382: W tensorflow/core/grappler/optimizers/meta_optimizer.cc:163] TF_ENABLE_AUTO_MIXED_PRECISION has no effect.\n",
      "2024-05-24 01:49:45.375414: W tensorflow/core/grappler/optimizers/meta_optimizer.cc:163] TF_ENABLE_AUTO_MIXED_PRECISION has no effect.\n",
      "2024-05-24 01:49:45.375419: W tensorflow/core/grappler/optimizers/meta_optimizer.cc:163] TF_ENABLE_AUTO_MIXED_PRECISION has no effect.\n",
      "2024-05-24 01:49:45.375423: W tensorflow/core/grappler/optimizers/meta_optimizer.cc:163] TF_ENABLE_AUTO_MIXED_PRECISION has no effect.\n",
      "2024-05-24 01:49:45.375435: W tensorflow/core/grappler/optimizers/meta_optimizer.cc:163] TF_ENABLE_AUTO_MIXED_PRECISION has no effect.\n",
      "2024-05-24 01:49:45.375440: W tensorflow/core/grappler/optimizers/meta_optimizer.cc:163] TF_ENABLE_AUTO_MIXED_PRECISION has no effect.\n",
      "2024-05-24 01:49:45.375445: W tensorflow/core/grappler/optimizers/meta_optimizer.cc:163] TF_ENABLE_AUTO_MIXED_PRECISION has no effect.\n",
      "2024-05-24 01:49:45.375449: W tensorflow/core/grappler/optimizers/meta_optimizer.cc:163] TF_ENABLE_AUTO_MIXED_PRECISION has no effect.\n",
      "2024-05-24 01:49:45.379506: W tensorflow/core/grappler/optimizers/meta_optimizer.cc:163] TF_ENABLE_AUTO_MIXED_PRECISION has no effect.\n",
      "2024-05-24 01:49:45.379529: W tensorflow/core/grappler/optimizers/meta_optimizer.cc:163] TF_ENABLE_AUTO_MIXED_PRECISION has no effect.\n",
      "2024-05-24 01:49:45.379534: W tensorflow/core/grappler/optimizers/meta_optimizer.cc:163] TF_ENABLE_AUTO_MIXED_PRECISION has no effect.\n",
      "2024-05-24 01:49:45.379538: W tensorflow/core/grappler/optimizers/meta_optimizer.cc:163] TF_ENABLE_AUTO_MIXED_PRECISION has no effect.\n",
      "2024-05-24 01:49:45.379549: W tensorflow/core/grappler/optimizers/meta_optimizer.cc:163] TF_ENABLE_AUTO_MIXED_PRECISION has no effect.\n",
      "2024-05-24 01:49:45.379556: W tensorflow/core/grappler/optimizers/meta_optimizer.cc:163] TF_ENABLE_AUTO_MIXED_PRECISION has no effect.\n",
      "2024-05-24 01:49:45.379560: W tensorflow/core/grappler/optimizers/meta_optimizer.cc:163] TF_ENABLE_AUTO_MIXED_PRECISION has no effect.\n",
      "2024-05-24 01:49:45.379564: W tensorflow/core/grappler/optimizers/meta_optimizer.cc:163] TF_ENABLE_AUTO_MIXED_PRECISION has no effect.\n",
      "2024-05-24 01:49:45.385745: W tensorflow/core/grappler/optimizers/meta_optimizer.cc:163] TF_ENABLE_AUTO_MIXED_PRECISION has no effect.\n",
      "2024-05-24 01:49:45.385772: W tensorflow/core/grappler/optimizers/meta_optimizer.cc:163] TF_ENABLE_AUTO_MIXED_PRECISION has no effect.\n",
      "2024-05-24 01:49:45.385777: W tensorflow/core/grappler/optimizers/meta_optimizer.cc:163] TF_ENABLE_AUTO_MIXED_PRECISION has no effect.\n",
      "2024-05-24 01:49:45.385780: W tensorflow/core/grappler/optimizers/meta_optimizer.cc:163] TF_ENABLE_AUTO_MIXED_PRECISION has no effect.\n",
      "2024-05-24 01:49:45.385791: W tensorflow/core/grappler/optimizers/meta_optimizer.cc:163] TF_ENABLE_AUTO_MIXED_PRECISION has no effect.\n",
      "2024-05-24 01:49:45.385796: W tensorflow/core/grappler/optimizers/meta_optimizer.cc:163] TF_ENABLE_AUTO_MIXED_PRECISION has no effect.\n",
      "2024-05-24 01:49:45.385800: W tensorflow/core/grappler/optimizers/meta_optimizer.cc:163] TF_ENABLE_AUTO_MIXED_PRECISION has no effect.\n",
      "2024-05-24 01:49:45.385804: W tensorflow/core/grappler/optimizers/meta_optimizer.cc:163] TF_ENABLE_AUTO_MIXED_PRECISION has no effect.\n"
     ]
    },
    {
     "name": "stdout",
     "output_type": "stream",
     "text": [
      "235/235 [==============================] - 1s 4ms/step - loss: 0.0671 - val_loss: 0.0675\n",
      "Epoch 36/50\n",
      " 29/235 [==>...........................] - ETA: 0s - loss: 0.0676"
     ]
    },
    {
     "name": "stderr",
     "output_type": "stream",
     "text": [
      "2024-05-24 01:49:46.407887: W tensorflow/core/grappler/optimizers/meta_optimizer.cc:163] TF_ENABLE_AUTO_MIXED_PRECISION has no effect.\n",
      "2024-05-24 01:49:46.407920: W tensorflow/core/grappler/optimizers/meta_optimizer.cc:163] TF_ENABLE_AUTO_MIXED_PRECISION has no effect.\n",
      "2024-05-24 01:49:46.407925: W tensorflow/core/grappler/optimizers/meta_optimizer.cc:163] TF_ENABLE_AUTO_MIXED_PRECISION has no effect.\n",
      "2024-05-24 01:49:46.407928: W tensorflow/core/grappler/optimizers/meta_optimizer.cc:163] TF_ENABLE_AUTO_MIXED_PRECISION has no effect.\n",
      "2024-05-24 01:49:46.407941: W tensorflow/core/grappler/optimizers/meta_optimizer.cc:163] TF_ENABLE_AUTO_MIXED_PRECISION has no effect.\n",
      "2024-05-24 01:49:46.407947: W tensorflow/core/grappler/optimizers/meta_optimizer.cc:163] TF_ENABLE_AUTO_MIXED_PRECISION has no effect.\n",
      "2024-05-24 01:49:46.407951: W tensorflow/core/grappler/optimizers/meta_optimizer.cc:163] TF_ENABLE_AUTO_MIXED_PRECISION has no effect.\n",
      "2024-05-24 01:49:46.407955: W tensorflow/core/grappler/optimizers/meta_optimizer.cc:163] TF_ENABLE_AUTO_MIXED_PRECISION has no effect.\n",
      "2024-05-24 01:49:46.412226: W tensorflow/core/grappler/optimizers/meta_optimizer.cc:163] TF_ENABLE_AUTO_MIXED_PRECISION has no effect.\n",
      "2024-05-24 01:49:46.412255: W tensorflow/core/grappler/optimizers/meta_optimizer.cc:163] TF_ENABLE_AUTO_MIXED_PRECISION has no effect.\n",
      "2024-05-24 01:49:46.412260: W tensorflow/core/grappler/optimizers/meta_optimizer.cc:163] TF_ENABLE_AUTO_MIXED_PRECISION has no effect.\n",
      "2024-05-24 01:49:46.412264: W tensorflow/core/grappler/optimizers/meta_optimizer.cc:163] TF_ENABLE_AUTO_MIXED_PRECISION has no effect.\n",
      "2024-05-24 01:49:46.412276: W tensorflow/core/grappler/optimizers/meta_optimizer.cc:163] TF_ENABLE_AUTO_MIXED_PRECISION has no effect.\n",
      "2024-05-24 01:49:46.412283: W tensorflow/core/grappler/optimizers/meta_optimizer.cc:163] TF_ENABLE_AUTO_MIXED_PRECISION has no effect.\n",
      "2024-05-24 01:49:46.412288: W tensorflow/core/grappler/optimizers/meta_optimizer.cc:163] TF_ENABLE_AUTO_MIXED_PRECISION has no effect.\n",
      "2024-05-24 01:49:46.412292: W tensorflow/core/grappler/optimizers/meta_optimizer.cc:163] TF_ENABLE_AUTO_MIXED_PRECISION has no effect.\n",
      "2024-05-24 01:49:46.417608: W tensorflow/core/grappler/optimizers/meta_optimizer.cc:163] TF_ENABLE_AUTO_MIXED_PRECISION has no effect.\n",
      "2024-05-24 01:49:46.417633: W tensorflow/core/grappler/optimizers/meta_optimizer.cc:163] TF_ENABLE_AUTO_MIXED_PRECISION has no effect.\n",
      "2024-05-24 01:49:46.417638: W tensorflow/core/grappler/optimizers/meta_optimizer.cc:163] TF_ENABLE_AUTO_MIXED_PRECISION has no effect.\n",
      "2024-05-24 01:49:46.417642: W tensorflow/core/grappler/optimizers/meta_optimizer.cc:163] TF_ENABLE_AUTO_MIXED_PRECISION has no effect.\n",
      "2024-05-24 01:49:46.417652: W tensorflow/core/grappler/optimizers/meta_optimizer.cc:163] TF_ENABLE_AUTO_MIXED_PRECISION has no effect.\n",
      "2024-05-24 01:49:46.417660: W tensorflow/core/grappler/optimizers/meta_optimizer.cc:163] TF_ENABLE_AUTO_MIXED_PRECISION has no effect.\n",
      "2024-05-24 01:49:46.417664: W tensorflow/core/grappler/optimizers/meta_optimizer.cc:163] TF_ENABLE_AUTO_MIXED_PRECISION has no effect.\n",
      "2024-05-24 01:49:46.417668: W tensorflow/core/grappler/optimizers/meta_optimizer.cc:163] TF_ENABLE_AUTO_MIXED_PRECISION has no effect.\n"
     ]
    },
    {
     "name": "stdout",
     "output_type": "stream",
     "text": [
      "235/235 [==============================] - 1s 4ms/step - loss: 0.0670 - val_loss: 0.0675\n",
      "Epoch 37/50\n",
      " 29/235 [==>...........................] - ETA: 0s - loss: 0.0669"
     ]
    },
    {
     "name": "stderr",
     "output_type": "stream",
     "text": [
      "2024-05-24 01:49:47.397537: W tensorflow/core/grappler/optimizers/meta_optimizer.cc:163] TF_ENABLE_AUTO_MIXED_PRECISION has no effect.\n",
      "2024-05-24 01:49:47.397570: W tensorflow/core/grappler/optimizers/meta_optimizer.cc:163] TF_ENABLE_AUTO_MIXED_PRECISION has no effect.\n",
      "2024-05-24 01:49:47.397574: W tensorflow/core/grappler/optimizers/meta_optimizer.cc:163] TF_ENABLE_AUTO_MIXED_PRECISION has no effect.\n",
      "2024-05-24 01:49:47.397578: W tensorflow/core/grappler/optimizers/meta_optimizer.cc:163] TF_ENABLE_AUTO_MIXED_PRECISION has no effect.\n",
      "2024-05-24 01:49:47.397591: W tensorflow/core/grappler/optimizers/meta_optimizer.cc:163] TF_ENABLE_AUTO_MIXED_PRECISION has no effect.\n",
      "2024-05-24 01:49:47.397596: W tensorflow/core/grappler/optimizers/meta_optimizer.cc:163] TF_ENABLE_AUTO_MIXED_PRECISION has no effect.\n",
      "2024-05-24 01:49:47.397600: W tensorflow/core/grappler/optimizers/meta_optimizer.cc:163] TF_ENABLE_AUTO_MIXED_PRECISION has no effect.\n",
      "2024-05-24 01:49:47.397604: W tensorflow/core/grappler/optimizers/meta_optimizer.cc:163] TF_ENABLE_AUTO_MIXED_PRECISION has no effect.\n",
      "2024-05-24 01:49:47.401638: W tensorflow/core/grappler/optimizers/meta_optimizer.cc:163] TF_ENABLE_AUTO_MIXED_PRECISION has no effect.\n",
      "2024-05-24 01:49:47.401661: W tensorflow/core/grappler/optimizers/meta_optimizer.cc:163] TF_ENABLE_AUTO_MIXED_PRECISION has no effect.\n",
      "2024-05-24 01:49:47.401665: W tensorflow/core/grappler/optimizers/meta_optimizer.cc:163] TF_ENABLE_AUTO_MIXED_PRECISION has no effect.\n",
      "2024-05-24 01:49:47.401669: W tensorflow/core/grappler/optimizers/meta_optimizer.cc:163] TF_ENABLE_AUTO_MIXED_PRECISION has no effect.\n",
      "2024-05-24 01:49:47.401680: W tensorflow/core/grappler/optimizers/meta_optimizer.cc:163] TF_ENABLE_AUTO_MIXED_PRECISION has no effect.\n",
      "2024-05-24 01:49:47.401685: W tensorflow/core/grappler/optimizers/meta_optimizer.cc:163] TF_ENABLE_AUTO_MIXED_PRECISION has no effect.\n",
      "2024-05-24 01:49:47.401689: W tensorflow/core/grappler/optimizers/meta_optimizer.cc:163] TF_ENABLE_AUTO_MIXED_PRECISION has no effect.\n",
      "2024-05-24 01:49:47.401693: W tensorflow/core/grappler/optimizers/meta_optimizer.cc:163] TF_ENABLE_AUTO_MIXED_PRECISION has no effect.\n",
      "2024-05-24 01:49:47.406448: W tensorflow/core/grappler/optimizers/meta_optimizer.cc:163] TF_ENABLE_AUTO_MIXED_PRECISION has no effect.\n",
      "2024-05-24 01:49:47.406466: W tensorflow/core/grappler/optimizers/meta_optimizer.cc:163] TF_ENABLE_AUTO_MIXED_PRECISION has no effect.\n",
      "2024-05-24 01:49:47.406470: W tensorflow/core/grappler/optimizers/meta_optimizer.cc:163] TF_ENABLE_AUTO_MIXED_PRECISION has no effect.\n",
      "2024-05-24 01:49:47.406474: W tensorflow/core/grappler/optimizers/meta_optimizer.cc:163] TF_ENABLE_AUTO_MIXED_PRECISION has no effect.\n",
      "2024-05-24 01:49:47.406484: W tensorflow/core/grappler/optimizers/meta_optimizer.cc:163] TF_ENABLE_AUTO_MIXED_PRECISION has no effect.\n",
      "2024-05-24 01:49:47.406490: W tensorflow/core/grappler/optimizers/meta_optimizer.cc:163] TF_ENABLE_AUTO_MIXED_PRECISION has no effect.\n",
      "2024-05-24 01:49:47.406494: W tensorflow/core/grappler/optimizers/meta_optimizer.cc:163] TF_ENABLE_AUTO_MIXED_PRECISION has no effect.\n",
      "2024-05-24 01:49:47.406498: W tensorflow/core/grappler/optimizers/meta_optimizer.cc:163] TF_ENABLE_AUTO_MIXED_PRECISION has no effect.\n"
     ]
    },
    {
     "name": "stdout",
     "output_type": "stream",
     "text": [
      "235/235 [==============================] - 1s 4ms/step - loss: 0.0670 - val_loss: 0.0673\n",
      "Epoch 38/50\n",
      " 24/235 [==>...........................] - ETA: 0s - loss: 0.0668"
     ]
    },
    {
     "name": "stderr",
     "output_type": "stream",
     "text": [
      "2024-05-24 01:49:48.392874: W tensorflow/core/grappler/optimizers/meta_optimizer.cc:163] TF_ENABLE_AUTO_MIXED_PRECISION has no effect.\n",
      "2024-05-24 01:49:48.392909: W tensorflow/core/grappler/optimizers/meta_optimizer.cc:163] TF_ENABLE_AUTO_MIXED_PRECISION has no effect.\n",
      "2024-05-24 01:49:48.392914: W tensorflow/core/grappler/optimizers/meta_optimizer.cc:163] TF_ENABLE_AUTO_MIXED_PRECISION has no effect.\n",
      "2024-05-24 01:49:48.392918: W tensorflow/core/grappler/optimizers/meta_optimizer.cc:163] TF_ENABLE_AUTO_MIXED_PRECISION has no effect.\n",
      "2024-05-24 01:49:48.392931: W tensorflow/core/grappler/optimizers/meta_optimizer.cc:163] TF_ENABLE_AUTO_MIXED_PRECISION has no effect.\n",
      "2024-05-24 01:49:48.392936: W tensorflow/core/grappler/optimizers/meta_optimizer.cc:163] TF_ENABLE_AUTO_MIXED_PRECISION has no effect.\n",
      "2024-05-24 01:49:48.392941: W tensorflow/core/grappler/optimizers/meta_optimizer.cc:163] TF_ENABLE_AUTO_MIXED_PRECISION has no effect.\n",
      "2024-05-24 01:49:48.392945: W tensorflow/core/grappler/optimizers/meta_optimizer.cc:163] TF_ENABLE_AUTO_MIXED_PRECISION has no effect.\n",
      "2024-05-24 01:49:48.397160: W tensorflow/core/grappler/optimizers/meta_optimizer.cc:163] TF_ENABLE_AUTO_MIXED_PRECISION has no effect.\n",
      "2024-05-24 01:49:48.397184: W tensorflow/core/grappler/optimizers/meta_optimizer.cc:163] TF_ENABLE_AUTO_MIXED_PRECISION has no effect.\n",
      "2024-05-24 01:49:48.397189: W tensorflow/core/grappler/optimizers/meta_optimizer.cc:163] TF_ENABLE_AUTO_MIXED_PRECISION has no effect.\n",
      "2024-05-24 01:49:48.397193: W tensorflow/core/grappler/optimizers/meta_optimizer.cc:163] TF_ENABLE_AUTO_MIXED_PRECISION has no effect.\n",
      "2024-05-24 01:49:48.397204: W tensorflow/core/grappler/optimizers/meta_optimizer.cc:163] TF_ENABLE_AUTO_MIXED_PRECISION has no effect.\n",
      "2024-05-24 01:49:48.397211: W tensorflow/core/grappler/optimizers/meta_optimizer.cc:163] TF_ENABLE_AUTO_MIXED_PRECISION has no effect.\n",
      "2024-05-24 01:49:48.397216: W tensorflow/core/grappler/optimizers/meta_optimizer.cc:163] TF_ENABLE_AUTO_MIXED_PRECISION has no effect.\n",
      "2024-05-24 01:49:48.397220: W tensorflow/core/grappler/optimizers/meta_optimizer.cc:163] TF_ENABLE_AUTO_MIXED_PRECISION has no effect.\n",
      "2024-05-24 01:49:48.402237: W tensorflow/core/grappler/optimizers/meta_optimizer.cc:163] TF_ENABLE_AUTO_MIXED_PRECISION has no effect.\n",
      "2024-05-24 01:49:48.402257: W tensorflow/core/grappler/optimizers/meta_optimizer.cc:163] TF_ENABLE_AUTO_MIXED_PRECISION has no effect.\n",
      "2024-05-24 01:49:48.402261: W tensorflow/core/grappler/optimizers/meta_optimizer.cc:163] TF_ENABLE_AUTO_MIXED_PRECISION has no effect.\n",
      "2024-05-24 01:49:48.402265: W tensorflow/core/grappler/optimizers/meta_optimizer.cc:163] TF_ENABLE_AUTO_MIXED_PRECISION has no effect.\n",
      "2024-05-24 01:49:48.402275: W tensorflow/core/grappler/optimizers/meta_optimizer.cc:163] TF_ENABLE_AUTO_MIXED_PRECISION has no effect.\n",
      "2024-05-24 01:49:48.402281: W tensorflow/core/grappler/optimizers/meta_optimizer.cc:163] TF_ENABLE_AUTO_MIXED_PRECISION has no effect.\n",
      "2024-05-24 01:49:48.402286: W tensorflow/core/grappler/optimizers/meta_optimizer.cc:163] TF_ENABLE_AUTO_MIXED_PRECISION has no effect.\n",
      "2024-05-24 01:49:48.402290: W tensorflow/core/grappler/optimizers/meta_optimizer.cc:163] TF_ENABLE_AUTO_MIXED_PRECISION has no effect.\n"
     ]
    },
    {
     "name": "stdout",
     "output_type": "stream",
     "text": [
      "235/235 [==============================] - 1s 4ms/step - loss: 0.0669 - val_loss: 0.0675\n",
      "Epoch 39/50\n",
      " 27/235 [==>...........................] - ETA: 0s - loss: 0.0669"
     ]
    },
    {
     "name": "stderr",
     "output_type": "stream",
     "text": [
      "2024-05-24 01:49:49.408385: W tensorflow/core/grappler/optimizers/meta_optimizer.cc:163] TF_ENABLE_AUTO_MIXED_PRECISION has no effect.\n",
      "2024-05-24 01:49:49.408419: W tensorflow/core/grappler/optimizers/meta_optimizer.cc:163] TF_ENABLE_AUTO_MIXED_PRECISION has no effect.\n",
      "2024-05-24 01:49:49.408423: W tensorflow/core/grappler/optimizers/meta_optimizer.cc:163] TF_ENABLE_AUTO_MIXED_PRECISION has no effect.\n",
      "2024-05-24 01:49:49.408427: W tensorflow/core/grappler/optimizers/meta_optimizer.cc:163] TF_ENABLE_AUTO_MIXED_PRECISION has no effect.\n",
      "2024-05-24 01:49:49.408439: W tensorflow/core/grappler/optimizers/meta_optimizer.cc:163] TF_ENABLE_AUTO_MIXED_PRECISION has no effect.\n",
      "2024-05-24 01:49:49.408445: W tensorflow/core/grappler/optimizers/meta_optimizer.cc:163] TF_ENABLE_AUTO_MIXED_PRECISION has no effect.\n",
      "2024-05-24 01:49:49.408449: W tensorflow/core/grappler/optimizers/meta_optimizer.cc:163] TF_ENABLE_AUTO_MIXED_PRECISION has no effect.\n",
      "2024-05-24 01:49:49.408453: W tensorflow/core/grappler/optimizers/meta_optimizer.cc:163] TF_ENABLE_AUTO_MIXED_PRECISION has no effect.\n",
      "2024-05-24 01:49:49.412489: W tensorflow/core/grappler/optimizers/meta_optimizer.cc:163] TF_ENABLE_AUTO_MIXED_PRECISION has no effect.\n",
      "2024-05-24 01:49:49.412511: W tensorflow/core/grappler/optimizers/meta_optimizer.cc:163] TF_ENABLE_AUTO_MIXED_PRECISION has no effect.\n",
      "2024-05-24 01:49:49.412515: W tensorflow/core/grappler/optimizers/meta_optimizer.cc:163] TF_ENABLE_AUTO_MIXED_PRECISION has no effect.\n",
      "2024-05-24 01:49:49.412519: W tensorflow/core/grappler/optimizers/meta_optimizer.cc:163] TF_ENABLE_AUTO_MIXED_PRECISION has no effect.\n",
      "2024-05-24 01:49:49.412530: W tensorflow/core/grappler/optimizers/meta_optimizer.cc:163] TF_ENABLE_AUTO_MIXED_PRECISION has no effect.\n",
      "2024-05-24 01:49:49.412536: W tensorflow/core/grappler/optimizers/meta_optimizer.cc:163] TF_ENABLE_AUTO_MIXED_PRECISION has no effect.\n",
      "2024-05-24 01:49:49.412541: W tensorflow/core/grappler/optimizers/meta_optimizer.cc:163] TF_ENABLE_AUTO_MIXED_PRECISION has no effect.\n",
      "2024-05-24 01:49:49.412545: W tensorflow/core/grappler/optimizers/meta_optimizer.cc:163] TF_ENABLE_AUTO_MIXED_PRECISION has no effect.\n",
      "2024-05-24 01:49:49.417635: W tensorflow/core/grappler/optimizers/meta_optimizer.cc:163] TF_ENABLE_AUTO_MIXED_PRECISION has no effect.\n",
      "2024-05-24 01:49:49.417653: W tensorflow/core/grappler/optimizers/meta_optimizer.cc:163] TF_ENABLE_AUTO_MIXED_PRECISION has no effect.\n",
      "2024-05-24 01:49:49.417658: W tensorflow/core/grappler/optimizers/meta_optimizer.cc:163] TF_ENABLE_AUTO_MIXED_PRECISION has no effect.\n",
      "2024-05-24 01:49:49.417661: W tensorflow/core/grappler/optimizers/meta_optimizer.cc:163] TF_ENABLE_AUTO_MIXED_PRECISION has no effect.\n",
      "2024-05-24 01:49:49.417671: W tensorflow/core/grappler/optimizers/meta_optimizer.cc:163] TF_ENABLE_AUTO_MIXED_PRECISION has no effect.\n",
      "2024-05-24 01:49:49.417676: W tensorflow/core/grappler/optimizers/meta_optimizer.cc:163] TF_ENABLE_AUTO_MIXED_PRECISION has no effect.\n",
      "2024-05-24 01:49:49.417680: W tensorflow/core/grappler/optimizers/meta_optimizer.cc:163] TF_ENABLE_AUTO_MIXED_PRECISION has no effect.\n",
      "2024-05-24 01:49:49.417684: W tensorflow/core/grappler/optimizers/meta_optimizer.cc:163] TF_ENABLE_AUTO_MIXED_PRECISION has no effect.\n"
     ]
    },
    {
     "name": "stdout",
     "output_type": "stream",
     "text": [
      "235/235 [==============================] - 1s 4ms/step - loss: 0.0668 - val_loss: 0.0672\n",
      "Epoch 40/50\n",
      " 27/235 [==>...........................] - ETA: 0s - loss: 0.0669"
     ]
    },
    {
     "name": "stderr",
     "output_type": "stream",
     "text": [
      "2024-05-24 01:49:50.429410: W tensorflow/core/grappler/optimizers/meta_optimizer.cc:163] TF_ENABLE_AUTO_MIXED_PRECISION has no effect.\n",
      "2024-05-24 01:49:50.429452: W tensorflow/core/grappler/optimizers/meta_optimizer.cc:163] TF_ENABLE_AUTO_MIXED_PRECISION has no effect.\n",
      "2024-05-24 01:49:50.429460: W tensorflow/core/grappler/optimizers/meta_optimizer.cc:163] TF_ENABLE_AUTO_MIXED_PRECISION has no effect.\n",
      "2024-05-24 01:49:50.429467: W tensorflow/core/grappler/optimizers/meta_optimizer.cc:163] TF_ENABLE_AUTO_MIXED_PRECISION has no effect.\n",
      "2024-05-24 01:49:50.429487: W tensorflow/core/grappler/optimizers/meta_optimizer.cc:163] TF_ENABLE_AUTO_MIXED_PRECISION has no effect.\n",
      "2024-05-24 01:49:50.429496: W tensorflow/core/grappler/optimizers/meta_optimizer.cc:163] TF_ENABLE_AUTO_MIXED_PRECISION has no effect.\n",
      "2024-05-24 01:49:50.429504: W tensorflow/core/grappler/optimizers/meta_optimizer.cc:163] TF_ENABLE_AUTO_MIXED_PRECISION has no effect.\n",
      "2024-05-24 01:49:50.429511: W tensorflow/core/grappler/optimizers/meta_optimizer.cc:163] TF_ENABLE_AUTO_MIXED_PRECISION has no effect.\n",
      "2024-05-24 01:49:50.439405: W tensorflow/core/grappler/optimizers/meta_optimizer.cc:163] TF_ENABLE_AUTO_MIXED_PRECISION has no effect.\n",
      "2024-05-24 01:49:50.439427: W tensorflow/core/grappler/optimizers/meta_optimizer.cc:163] TF_ENABLE_AUTO_MIXED_PRECISION has no effect.\n",
      "2024-05-24 01:49:50.439431: W tensorflow/core/grappler/optimizers/meta_optimizer.cc:163] TF_ENABLE_AUTO_MIXED_PRECISION has no effect.\n",
      "2024-05-24 01:49:50.439435: W tensorflow/core/grappler/optimizers/meta_optimizer.cc:163] TF_ENABLE_AUTO_MIXED_PRECISION has no effect.\n",
      "2024-05-24 01:49:50.439446: W tensorflow/core/grappler/optimizers/meta_optimizer.cc:163] TF_ENABLE_AUTO_MIXED_PRECISION has no effect.\n",
      "2024-05-24 01:49:50.439451: W tensorflow/core/grappler/optimizers/meta_optimizer.cc:163] TF_ENABLE_AUTO_MIXED_PRECISION has no effect.\n",
      "2024-05-24 01:49:50.439456: W tensorflow/core/grappler/optimizers/meta_optimizer.cc:163] TF_ENABLE_AUTO_MIXED_PRECISION has no effect.\n",
      "2024-05-24 01:49:50.439460: W tensorflow/core/grappler/optimizers/meta_optimizer.cc:163] TF_ENABLE_AUTO_MIXED_PRECISION has no effect.\n",
      "2024-05-24 01:49:50.444421: W tensorflow/core/grappler/optimizers/meta_optimizer.cc:163] TF_ENABLE_AUTO_MIXED_PRECISION has no effect.\n",
      "2024-05-24 01:49:50.444440: W tensorflow/core/grappler/optimizers/meta_optimizer.cc:163] TF_ENABLE_AUTO_MIXED_PRECISION has no effect.\n",
      "2024-05-24 01:49:50.444444: W tensorflow/core/grappler/optimizers/meta_optimizer.cc:163] TF_ENABLE_AUTO_MIXED_PRECISION has no effect.\n",
      "2024-05-24 01:49:50.444448: W tensorflow/core/grappler/optimizers/meta_optimizer.cc:163] TF_ENABLE_AUTO_MIXED_PRECISION has no effect.\n",
      "2024-05-24 01:49:50.444458: W tensorflow/core/grappler/optimizers/meta_optimizer.cc:163] TF_ENABLE_AUTO_MIXED_PRECISION has no effect.\n",
      "2024-05-24 01:49:50.444463: W tensorflow/core/grappler/optimizers/meta_optimizer.cc:163] TF_ENABLE_AUTO_MIXED_PRECISION has no effect.\n",
      "2024-05-24 01:49:50.444467: W tensorflow/core/grappler/optimizers/meta_optimizer.cc:163] TF_ENABLE_AUTO_MIXED_PRECISION has no effect.\n",
      "2024-05-24 01:49:50.444471: W tensorflow/core/grappler/optimizers/meta_optimizer.cc:163] TF_ENABLE_AUTO_MIXED_PRECISION has no effect.\n"
     ]
    },
    {
     "name": "stdout",
     "output_type": "stream",
     "text": [
      "235/235 [==============================] - 1s 4ms/step - loss: 0.0668 - val_loss: 0.0671\n",
      "Epoch 41/50\n",
      " 27/235 [==>...........................] - ETA: 0s - loss: 0.0667"
     ]
    },
    {
     "name": "stderr",
     "output_type": "stream",
     "text": [
      "2024-05-24 01:49:51.450425: W tensorflow/core/grappler/optimizers/meta_optimizer.cc:163] TF_ENABLE_AUTO_MIXED_PRECISION has no effect.\n",
      "2024-05-24 01:49:51.450457: W tensorflow/core/grappler/optimizers/meta_optimizer.cc:163] TF_ENABLE_AUTO_MIXED_PRECISION has no effect.\n",
      "2024-05-24 01:49:51.450462: W tensorflow/core/grappler/optimizers/meta_optimizer.cc:163] TF_ENABLE_AUTO_MIXED_PRECISION has no effect.\n",
      "2024-05-24 01:49:51.450466: W tensorflow/core/grappler/optimizers/meta_optimizer.cc:163] TF_ENABLE_AUTO_MIXED_PRECISION has no effect.\n",
      "2024-05-24 01:49:51.450478: W tensorflow/core/grappler/optimizers/meta_optimizer.cc:163] TF_ENABLE_AUTO_MIXED_PRECISION has no effect.\n",
      "2024-05-24 01:49:51.450484: W tensorflow/core/grappler/optimizers/meta_optimizer.cc:163] TF_ENABLE_AUTO_MIXED_PRECISION has no effect.\n",
      "2024-05-24 01:49:51.450488: W tensorflow/core/grappler/optimizers/meta_optimizer.cc:163] TF_ENABLE_AUTO_MIXED_PRECISION has no effect.\n",
      "2024-05-24 01:49:51.450492: W tensorflow/core/grappler/optimizers/meta_optimizer.cc:163] TF_ENABLE_AUTO_MIXED_PRECISION has no effect.\n",
      "2024-05-24 01:49:51.454743: W tensorflow/core/grappler/optimizers/meta_optimizer.cc:163] TF_ENABLE_AUTO_MIXED_PRECISION has no effect.\n",
      "2024-05-24 01:49:51.454767: W tensorflow/core/grappler/optimizers/meta_optimizer.cc:163] TF_ENABLE_AUTO_MIXED_PRECISION has no effect.\n",
      "2024-05-24 01:49:51.454772: W tensorflow/core/grappler/optimizers/meta_optimizer.cc:163] TF_ENABLE_AUTO_MIXED_PRECISION has no effect.\n",
      "2024-05-24 01:49:51.454776: W tensorflow/core/grappler/optimizers/meta_optimizer.cc:163] TF_ENABLE_AUTO_MIXED_PRECISION has no effect.\n",
      "2024-05-24 01:49:51.454788: W tensorflow/core/grappler/optimizers/meta_optimizer.cc:163] TF_ENABLE_AUTO_MIXED_PRECISION has no effect.\n",
      "2024-05-24 01:49:51.454794: W tensorflow/core/grappler/optimizers/meta_optimizer.cc:163] TF_ENABLE_AUTO_MIXED_PRECISION has no effect.\n",
      "2024-05-24 01:49:51.454799: W tensorflow/core/grappler/optimizers/meta_optimizer.cc:163] TF_ENABLE_AUTO_MIXED_PRECISION has no effect.\n",
      "2024-05-24 01:49:51.454803: W tensorflow/core/grappler/optimizers/meta_optimizer.cc:163] TF_ENABLE_AUTO_MIXED_PRECISION has no effect.\n",
      "2024-05-24 01:49:51.459799: W tensorflow/core/grappler/optimizers/meta_optimizer.cc:163] TF_ENABLE_AUTO_MIXED_PRECISION has no effect.\n",
      "2024-05-24 01:49:51.459818: W tensorflow/core/grappler/optimizers/meta_optimizer.cc:163] TF_ENABLE_AUTO_MIXED_PRECISION has no effect.\n",
      "2024-05-24 01:49:51.459823: W tensorflow/core/grappler/optimizers/meta_optimizer.cc:163] TF_ENABLE_AUTO_MIXED_PRECISION has no effect.\n",
      "2024-05-24 01:49:51.459826: W tensorflow/core/grappler/optimizers/meta_optimizer.cc:163] TF_ENABLE_AUTO_MIXED_PRECISION has no effect.\n",
      "2024-05-24 01:49:51.459836: W tensorflow/core/grappler/optimizers/meta_optimizer.cc:163] TF_ENABLE_AUTO_MIXED_PRECISION has no effect.\n",
      "2024-05-24 01:49:51.459847: W tensorflow/core/grappler/optimizers/meta_optimizer.cc:163] TF_ENABLE_AUTO_MIXED_PRECISION has no effect.\n",
      "2024-05-24 01:49:51.459851: W tensorflow/core/grappler/optimizers/meta_optimizer.cc:163] TF_ENABLE_AUTO_MIXED_PRECISION has no effect.\n",
      "2024-05-24 01:49:51.459855: W tensorflow/core/grappler/optimizers/meta_optimizer.cc:163] TF_ENABLE_AUTO_MIXED_PRECISION has no effect.\n"
     ]
    },
    {
     "name": "stdout",
     "output_type": "stream",
     "text": [
      "235/235 [==============================] - 1s 4ms/step - loss: 0.0667 - val_loss: 0.0674\n",
      "Epoch 42/50\n",
      " 28/235 [==>...........................] - ETA: 0s - loss: 0.0671"
     ]
    },
    {
     "name": "stderr",
     "output_type": "stream",
     "text": [
      "2024-05-24 01:49:52.442511: W tensorflow/core/grappler/optimizers/meta_optimizer.cc:163] TF_ENABLE_AUTO_MIXED_PRECISION has no effect.\n",
      "2024-05-24 01:49:52.442545: W tensorflow/core/grappler/optimizers/meta_optimizer.cc:163] TF_ENABLE_AUTO_MIXED_PRECISION has no effect.\n",
      "2024-05-24 01:49:52.442549: W tensorflow/core/grappler/optimizers/meta_optimizer.cc:163] TF_ENABLE_AUTO_MIXED_PRECISION has no effect.\n",
      "2024-05-24 01:49:52.442553: W tensorflow/core/grappler/optimizers/meta_optimizer.cc:163] TF_ENABLE_AUTO_MIXED_PRECISION has no effect.\n",
      "2024-05-24 01:49:52.442565: W tensorflow/core/grappler/optimizers/meta_optimizer.cc:163] TF_ENABLE_AUTO_MIXED_PRECISION has no effect.\n",
      "2024-05-24 01:49:52.442570: W tensorflow/core/grappler/optimizers/meta_optimizer.cc:163] TF_ENABLE_AUTO_MIXED_PRECISION has no effect.\n",
      "2024-05-24 01:49:52.442575: W tensorflow/core/grappler/optimizers/meta_optimizer.cc:163] TF_ENABLE_AUTO_MIXED_PRECISION has no effect.\n",
      "2024-05-24 01:49:52.442579: W tensorflow/core/grappler/optimizers/meta_optimizer.cc:163] TF_ENABLE_AUTO_MIXED_PRECISION has no effect.\n",
      "2024-05-24 01:49:52.446593: W tensorflow/core/grappler/optimizers/meta_optimizer.cc:163] TF_ENABLE_AUTO_MIXED_PRECISION has no effect.\n",
      "2024-05-24 01:49:52.446614: W tensorflow/core/grappler/optimizers/meta_optimizer.cc:163] TF_ENABLE_AUTO_MIXED_PRECISION has no effect.\n",
      "2024-05-24 01:49:52.446618: W tensorflow/core/grappler/optimizers/meta_optimizer.cc:163] TF_ENABLE_AUTO_MIXED_PRECISION has no effect.\n",
      "2024-05-24 01:49:52.446622: W tensorflow/core/grappler/optimizers/meta_optimizer.cc:163] TF_ENABLE_AUTO_MIXED_PRECISION has no effect.\n",
      "2024-05-24 01:49:52.446633: W tensorflow/core/grappler/optimizers/meta_optimizer.cc:163] TF_ENABLE_AUTO_MIXED_PRECISION has no effect.\n",
      "2024-05-24 01:49:52.446638: W tensorflow/core/grappler/optimizers/meta_optimizer.cc:163] TF_ENABLE_AUTO_MIXED_PRECISION has no effect.\n",
      "2024-05-24 01:49:52.446642: W tensorflow/core/grappler/optimizers/meta_optimizer.cc:163] TF_ENABLE_AUTO_MIXED_PRECISION has no effect.\n",
      "2024-05-24 01:49:52.446646: W tensorflow/core/grappler/optimizers/meta_optimizer.cc:163] TF_ENABLE_AUTO_MIXED_PRECISION has no effect.\n",
      "2024-05-24 01:49:52.451359: W tensorflow/core/grappler/optimizers/meta_optimizer.cc:163] TF_ENABLE_AUTO_MIXED_PRECISION has no effect.\n",
      "2024-05-24 01:49:52.451377: W tensorflow/core/grappler/optimizers/meta_optimizer.cc:163] TF_ENABLE_AUTO_MIXED_PRECISION has no effect.\n",
      "2024-05-24 01:49:52.451382: W tensorflow/core/grappler/optimizers/meta_optimizer.cc:163] TF_ENABLE_AUTO_MIXED_PRECISION has no effect.\n",
      "2024-05-24 01:49:52.451385: W tensorflow/core/grappler/optimizers/meta_optimizer.cc:163] TF_ENABLE_AUTO_MIXED_PRECISION has no effect.\n",
      "2024-05-24 01:49:52.451395: W tensorflow/core/grappler/optimizers/meta_optimizer.cc:163] TF_ENABLE_AUTO_MIXED_PRECISION has no effect.\n",
      "2024-05-24 01:49:52.451399: W tensorflow/core/grappler/optimizers/meta_optimizer.cc:163] TF_ENABLE_AUTO_MIXED_PRECISION has no effect.\n",
      "2024-05-24 01:49:52.451404: W tensorflow/core/grappler/optimizers/meta_optimizer.cc:163] TF_ENABLE_AUTO_MIXED_PRECISION has no effect.\n",
      "2024-05-24 01:49:52.451408: W tensorflow/core/grappler/optimizers/meta_optimizer.cc:163] TF_ENABLE_AUTO_MIXED_PRECISION has no effect.\n"
     ]
    },
    {
     "name": "stdout",
     "output_type": "stream",
     "text": [
      "235/235 [==============================] - 1s 4ms/step - loss: 0.0667 - val_loss: 0.0670\n",
      "Epoch 43/50\n",
      " 28/235 [==>...........................] - ETA: 0s - loss: 0.0668"
     ]
    },
    {
     "name": "stderr",
     "output_type": "stream",
     "text": [
      "2024-05-24 01:49:53.430533: W tensorflow/core/grappler/optimizers/meta_optimizer.cc:163] TF_ENABLE_AUTO_MIXED_PRECISION has no effect.\n",
      "2024-05-24 01:49:53.430565: W tensorflow/core/grappler/optimizers/meta_optimizer.cc:163] TF_ENABLE_AUTO_MIXED_PRECISION has no effect.\n",
      "2024-05-24 01:49:53.430570: W tensorflow/core/grappler/optimizers/meta_optimizer.cc:163] TF_ENABLE_AUTO_MIXED_PRECISION has no effect.\n",
      "2024-05-24 01:49:53.430574: W tensorflow/core/grappler/optimizers/meta_optimizer.cc:163] TF_ENABLE_AUTO_MIXED_PRECISION has no effect.\n",
      "2024-05-24 01:49:53.430586: W tensorflow/core/grappler/optimizers/meta_optimizer.cc:163] TF_ENABLE_AUTO_MIXED_PRECISION has no effect.\n",
      "2024-05-24 01:49:53.430591: W tensorflow/core/grappler/optimizers/meta_optimizer.cc:163] TF_ENABLE_AUTO_MIXED_PRECISION has no effect.\n",
      "2024-05-24 01:49:53.430595: W tensorflow/core/grappler/optimizers/meta_optimizer.cc:163] TF_ENABLE_AUTO_MIXED_PRECISION has no effect.\n",
      "2024-05-24 01:49:53.430599: W tensorflow/core/grappler/optimizers/meta_optimizer.cc:163] TF_ENABLE_AUTO_MIXED_PRECISION has no effect.\n",
      "2024-05-24 01:49:53.434613: W tensorflow/core/grappler/optimizers/meta_optimizer.cc:163] TF_ENABLE_AUTO_MIXED_PRECISION has no effect.\n",
      "2024-05-24 01:49:53.434636: W tensorflow/core/grappler/optimizers/meta_optimizer.cc:163] TF_ENABLE_AUTO_MIXED_PRECISION has no effect.\n",
      "2024-05-24 01:49:53.434640: W tensorflow/core/grappler/optimizers/meta_optimizer.cc:163] TF_ENABLE_AUTO_MIXED_PRECISION has no effect.\n",
      "2024-05-24 01:49:53.434644: W tensorflow/core/grappler/optimizers/meta_optimizer.cc:163] TF_ENABLE_AUTO_MIXED_PRECISION has no effect.\n",
      "2024-05-24 01:49:53.434655: W tensorflow/core/grappler/optimizers/meta_optimizer.cc:163] TF_ENABLE_AUTO_MIXED_PRECISION has no effect.\n",
      "2024-05-24 01:49:53.434661: W tensorflow/core/grappler/optimizers/meta_optimizer.cc:163] TF_ENABLE_AUTO_MIXED_PRECISION has no effect.\n",
      "2024-05-24 01:49:53.434665: W tensorflow/core/grappler/optimizers/meta_optimizer.cc:163] TF_ENABLE_AUTO_MIXED_PRECISION has no effect.\n",
      "2024-05-24 01:49:53.434669: W tensorflow/core/grappler/optimizers/meta_optimizer.cc:163] TF_ENABLE_AUTO_MIXED_PRECISION has no effect.\n",
      "2024-05-24 01:49:53.439404: W tensorflow/core/grappler/optimizers/meta_optimizer.cc:163] TF_ENABLE_AUTO_MIXED_PRECISION has no effect.\n",
      "2024-05-24 01:49:53.439421: W tensorflow/core/grappler/optimizers/meta_optimizer.cc:163] TF_ENABLE_AUTO_MIXED_PRECISION has no effect.\n",
      "2024-05-24 01:49:53.439426: W tensorflow/core/grappler/optimizers/meta_optimizer.cc:163] TF_ENABLE_AUTO_MIXED_PRECISION has no effect.\n",
      "2024-05-24 01:49:53.439429: W tensorflow/core/grappler/optimizers/meta_optimizer.cc:163] TF_ENABLE_AUTO_MIXED_PRECISION has no effect.\n",
      "2024-05-24 01:49:53.439439: W tensorflow/core/grappler/optimizers/meta_optimizer.cc:163] TF_ENABLE_AUTO_MIXED_PRECISION has no effect.\n",
      "2024-05-24 01:49:53.439444: W tensorflow/core/grappler/optimizers/meta_optimizer.cc:163] TF_ENABLE_AUTO_MIXED_PRECISION has no effect.\n",
      "2024-05-24 01:49:53.439448: W tensorflow/core/grappler/optimizers/meta_optimizer.cc:163] TF_ENABLE_AUTO_MIXED_PRECISION has no effect.\n",
      "2024-05-24 01:49:53.439452: W tensorflow/core/grappler/optimizers/meta_optimizer.cc:163] TF_ENABLE_AUTO_MIXED_PRECISION has no effect.\n"
     ]
    },
    {
     "name": "stdout",
     "output_type": "stream",
     "text": [
      "235/235 [==============================] - 1s 4ms/step - loss: 0.0666 - val_loss: 0.0670\n",
      "Epoch 44/50\n",
      " 29/235 [==>...........................] - ETA: 0s - loss: 0.0668"
     ]
    },
    {
     "name": "stderr",
     "output_type": "stream",
     "text": [
      "2024-05-24 01:49:54.419633: W tensorflow/core/grappler/optimizers/meta_optimizer.cc:163] TF_ENABLE_AUTO_MIXED_PRECISION has no effect.\n",
      "2024-05-24 01:49:54.419665: W tensorflow/core/grappler/optimizers/meta_optimizer.cc:163] TF_ENABLE_AUTO_MIXED_PRECISION has no effect.\n",
      "2024-05-24 01:49:54.419670: W tensorflow/core/grappler/optimizers/meta_optimizer.cc:163] TF_ENABLE_AUTO_MIXED_PRECISION has no effect.\n",
      "2024-05-24 01:49:54.419673: W tensorflow/core/grappler/optimizers/meta_optimizer.cc:163] TF_ENABLE_AUTO_MIXED_PRECISION has no effect.\n",
      "2024-05-24 01:49:54.419686: W tensorflow/core/grappler/optimizers/meta_optimizer.cc:163] TF_ENABLE_AUTO_MIXED_PRECISION has no effect.\n",
      "2024-05-24 01:49:54.419691: W tensorflow/core/grappler/optimizers/meta_optimizer.cc:163] TF_ENABLE_AUTO_MIXED_PRECISION has no effect.\n",
      "2024-05-24 01:49:54.419696: W tensorflow/core/grappler/optimizers/meta_optimizer.cc:163] TF_ENABLE_AUTO_MIXED_PRECISION has no effect.\n",
      "2024-05-24 01:49:54.419700: W tensorflow/core/grappler/optimizers/meta_optimizer.cc:163] TF_ENABLE_AUTO_MIXED_PRECISION has no effect.\n",
      "2024-05-24 01:49:54.425260: W tensorflow/core/grappler/optimizers/meta_optimizer.cc:163] TF_ENABLE_AUTO_MIXED_PRECISION has no effect.\n",
      "2024-05-24 01:49:54.425283: W tensorflow/core/grappler/optimizers/meta_optimizer.cc:163] TF_ENABLE_AUTO_MIXED_PRECISION has no effect.\n",
      "2024-05-24 01:49:54.425287: W tensorflow/core/grappler/optimizers/meta_optimizer.cc:163] TF_ENABLE_AUTO_MIXED_PRECISION has no effect.\n",
      "2024-05-24 01:49:54.425291: W tensorflow/core/grappler/optimizers/meta_optimizer.cc:163] TF_ENABLE_AUTO_MIXED_PRECISION has no effect.\n",
      "2024-05-24 01:49:54.425303: W tensorflow/core/grappler/optimizers/meta_optimizer.cc:163] TF_ENABLE_AUTO_MIXED_PRECISION has no effect.\n",
      "2024-05-24 01:49:54.425309: W tensorflow/core/grappler/optimizers/meta_optimizer.cc:163] TF_ENABLE_AUTO_MIXED_PRECISION has no effect.\n",
      "2024-05-24 01:49:54.425313: W tensorflow/core/grappler/optimizers/meta_optimizer.cc:163] TF_ENABLE_AUTO_MIXED_PRECISION has no effect.\n",
      "2024-05-24 01:49:54.425318: W tensorflow/core/grappler/optimizers/meta_optimizer.cc:163] TF_ENABLE_AUTO_MIXED_PRECISION has no effect.\n",
      "2024-05-24 01:49:54.430054: W tensorflow/core/grappler/optimizers/meta_optimizer.cc:163] TF_ENABLE_AUTO_MIXED_PRECISION has no effect.\n",
      "2024-05-24 01:49:54.430072: W tensorflow/core/grappler/optimizers/meta_optimizer.cc:163] TF_ENABLE_AUTO_MIXED_PRECISION has no effect.\n",
      "2024-05-24 01:49:54.430076: W tensorflow/core/grappler/optimizers/meta_optimizer.cc:163] TF_ENABLE_AUTO_MIXED_PRECISION has no effect.\n",
      "2024-05-24 01:49:54.430080: W tensorflow/core/grappler/optimizers/meta_optimizer.cc:163] TF_ENABLE_AUTO_MIXED_PRECISION has no effect.\n",
      "2024-05-24 01:49:54.430089: W tensorflow/core/grappler/optimizers/meta_optimizer.cc:163] TF_ENABLE_AUTO_MIXED_PRECISION has no effect.\n",
      "2024-05-24 01:49:54.430094: W tensorflow/core/grappler/optimizers/meta_optimizer.cc:163] TF_ENABLE_AUTO_MIXED_PRECISION has no effect.\n",
      "2024-05-24 01:49:54.430098: W tensorflow/core/grappler/optimizers/meta_optimizer.cc:163] TF_ENABLE_AUTO_MIXED_PRECISION has no effect.\n",
      "2024-05-24 01:49:54.430102: W tensorflow/core/grappler/optimizers/meta_optimizer.cc:163] TF_ENABLE_AUTO_MIXED_PRECISION has no effect.\n"
     ]
    },
    {
     "name": "stdout",
     "output_type": "stream",
     "text": [
      "235/235 [==============================] - 1s 4ms/step - loss: 0.0665 - val_loss: 0.0669\n",
      "Epoch 45/50\n",
      " 28/235 [==>...........................] - ETA: 0s - loss: 0.0667"
     ]
    },
    {
     "name": "stderr",
     "output_type": "stream",
     "text": [
      "2024-05-24 01:49:55.411655: W tensorflow/core/grappler/optimizers/meta_optimizer.cc:163] TF_ENABLE_AUTO_MIXED_PRECISION has no effect.\n",
      "2024-05-24 01:49:55.411686: W tensorflow/core/grappler/optimizers/meta_optimizer.cc:163] TF_ENABLE_AUTO_MIXED_PRECISION has no effect.\n",
      "2024-05-24 01:49:55.411691: W tensorflow/core/grappler/optimizers/meta_optimizer.cc:163] TF_ENABLE_AUTO_MIXED_PRECISION has no effect.\n",
      "2024-05-24 01:49:55.411695: W tensorflow/core/grappler/optimizers/meta_optimizer.cc:163] TF_ENABLE_AUTO_MIXED_PRECISION has no effect.\n",
      "2024-05-24 01:49:55.411707: W tensorflow/core/grappler/optimizers/meta_optimizer.cc:163] TF_ENABLE_AUTO_MIXED_PRECISION has no effect.\n",
      "2024-05-24 01:49:55.411712: W tensorflow/core/grappler/optimizers/meta_optimizer.cc:163] TF_ENABLE_AUTO_MIXED_PRECISION has no effect.\n",
      "2024-05-24 01:49:55.411716: W tensorflow/core/grappler/optimizers/meta_optimizer.cc:163] TF_ENABLE_AUTO_MIXED_PRECISION has no effect.\n",
      "2024-05-24 01:49:55.411720: W tensorflow/core/grappler/optimizers/meta_optimizer.cc:163] TF_ENABLE_AUTO_MIXED_PRECISION has no effect.\n",
      "2024-05-24 01:49:55.418237: W tensorflow/core/grappler/optimizers/meta_optimizer.cc:163] TF_ENABLE_AUTO_MIXED_PRECISION has no effect.\n",
      "2024-05-24 01:49:55.418258: W tensorflow/core/grappler/optimizers/meta_optimizer.cc:163] TF_ENABLE_AUTO_MIXED_PRECISION has no effect.\n",
      "2024-05-24 01:49:55.418262: W tensorflow/core/grappler/optimizers/meta_optimizer.cc:163] TF_ENABLE_AUTO_MIXED_PRECISION has no effect.\n",
      "2024-05-24 01:49:55.418266: W tensorflow/core/grappler/optimizers/meta_optimizer.cc:163] TF_ENABLE_AUTO_MIXED_PRECISION has no effect.\n",
      "2024-05-24 01:49:55.418276: W tensorflow/core/grappler/optimizers/meta_optimizer.cc:163] TF_ENABLE_AUTO_MIXED_PRECISION has no effect.\n",
      "2024-05-24 01:49:55.418281: W tensorflow/core/grappler/optimizers/meta_optimizer.cc:163] TF_ENABLE_AUTO_MIXED_PRECISION has no effect.\n",
      "2024-05-24 01:49:55.418285: W tensorflow/core/grappler/optimizers/meta_optimizer.cc:163] TF_ENABLE_AUTO_MIXED_PRECISION has no effect.\n",
      "2024-05-24 01:49:55.418289: W tensorflow/core/grappler/optimizers/meta_optimizer.cc:163] TF_ENABLE_AUTO_MIXED_PRECISION has no effect.\n",
      "2024-05-24 01:49:55.423120: W tensorflow/core/grappler/optimizers/meta_optimizer.cc:163] TF_ENABLE_AUTO_MIXED_PRECISION has no effect.\n",
      "2024-05-24 01:49:55.423137: W tensorflow/core/grappler/optimizers/meta_optimizer.cc:163] TF_ENABLE_AUTO_MIXED_PRECISION has no effect.\n",
      "2024-05-24 01:49:55.423142: W tensorflow/core/grappler/optimizers/meta_optimizer.cc:163] TF_ENABLE_AUTO_MIXED_PRECISION has no effect.\n",
      "2024-05-24 01:49:55.423146: W tensorflow/core/grappler/optimizers/meta_optimizer.cc:163] TF_ENABLE_AUTO_MIXED_PRECISION has no effect.\n",
      "2024-05-24 01:49:55.423155: W tensorflow/core/grappler/optimizers/meta_optimizer.cc:163] TF_ENABLE_AUTO_MIXED_PRECISION has no effect.\n",
      "2024-05-24 01:49:55.423160: W tensorflow/core/grappler/optimizers/meta_optimizer.cc:163] TF_ENABLE_AUTO_MIXED_PRECISION has no effect.\n",
      "2024-05-24 01:49:55.423164: W tensorflow/core/grappler/optimizers/meta_optimizer.cc:163] TF_ENABLE_AUTO_MIXED_PRECISION has no effect.\n",
      "2024-05-24 01:49:55.423168: W tensorflow/core/grappler/optimizers/meta_optimizer.cc:163] TF_ENABLE_AUTO_MIXED_PRECISION has no effect.\n"
     ]
    },
    {
     "name": "stdout",
     "output_type": "stream",
     "text": [
      "235/235 [==============================] - 1s 4ms/step - loss: 0.0665 - val_loss: 0.0671\n",
      "Epoch 46/50\n",
      " 27/235 [==>...........................] - ETA: 0s - loss: 0.0663"
     ]
    },
    {
     "name": "stderr",
     "output_type": "stream",
     "text": [
      "2024-05-24 01:49:56.401786: W tensorflow/core/grappler/optimizers/meta_optimizer.cc:163] TF_ENABLE_AUTO_MIXED_PRECISION has no effect.\n",
      "2024-05-24 01:49:56.401818: W tensorflow/core/grappler/optimizers/meta_optimizer.cc:163] TF_ENABLE_AUTO_MIXED_PRECISION has no effect.\n",
      "2024-05-24 01:49:56.401823: W tensorflow/core/grappler/optimizers/meta_optimizer.cc:163] TF_ENABLE_AUTO_MIXED_PRECISION has no effect.\n",
      "2024-05-24 01:49:56.401827: W tensorflow/core/grappler/optimizers/meta_optimizer.cc:163] TF_ENABLE_AUTO_MIXED_PRECISION has no effect.\n",
      "2024-05-24 01:49:56.401845: W tensorflow/core/grappler/optimizers/meta_optimizer.cc:163] TF_ENABLE_AUTO_MIXED_PRECISION has no effect.\n",
      "2024-05-24 01:49:56.401850: W tensorflow/core/grappler/optimizers/meta_optimizer.cc:163] TF_ENABLE_AUTO_MIXED_PRECISION has no effect.\n",
      "2024-05-24 01:49:56.401854: W tensorflow/core/grappler/optimizers/meta_optimizer.cc:163] TF_ENABLE_AUTO_MIXED_PRECISION has no effect.\n",
      "2024-05-24 01:49:56.401858: W tensorflow/core/grappler/optimizers/meta_optimizer.cc:163] TF_ENABLE_AUTO_MIXED_PRECISION has no effect.\n",
      "2024-05-24 01:49:56.409341: W tensorflow/core/grappler/optimizers/meta_optimizer.cc:163] TF_ENABLE_AUTO_MIXED_PRECISION has no effect.\n",
      "2024-05-24 01:49:56.409361: W tensorflow/core/grappler/optimizers/meta_optimizer.cc:163] TF_ENABLE_AUTO_MIXED_PRECISION has no effect.\n",
      "2024-05-24 01:49:56.409366: W tensorflow/core/grappler/optimizers/meta_optimizer.cc:163] TF_ENABLE_AUTO_MIXED_PRECISION has no effect.\n",
      "2024-05-24 01:49:56.409369: W tensorflow/core/grappler/optimizers/meta_optimizer.cc:163] TF_ENABLE_AUTO_MIXED_PRECISION has no effect.\n",
      "2024-05-24 01:49:56.409379: W tensorflow/core/grappler/optimizers/meta_optimizer.cc:163] TF_ENABLE_AUTO_MIXED_PRECISION has no effect.\n",
      "2024-05-24 01:49:56.409386: W tensorflow/core/grappler/optimizers/meta_optimizer.cc:163] TF_ENABLE_AUTO_MIXED_PRECISION has no effect.\n",
      "2024-05-24 01:49:56.409390: W tensorflow/core/grappler/optimizers/meta_optimizer.cc:163] TF_ENABLE_AUTO_MIXED_PRECISION has no effect.\n",
      "2024-05-24 01:49:56.409394: W tensorflow/core/grappler/optimizers/meta_optimizer.cc:163] TF_ENABLE_AUTO_MIXED_PRECISION has no effect.\n",
      "2024-05-24 01:49:56.414113: W tensorflow/core/grappler/optimizers/meta_optimizer.cc:163] TF_ENABLE_AUTO_MIXED_PRECISION has no effect.\n",
      "2024-05-24 01:49:56.414130: W tensorflow/core/grappler/optimizers/meta_optimizer.cc:163] TF_ENABLE_AUTO_MIXED_PRECISION has no effect.\n",
      "2024-05-24 01:49:56.414135: W tensorflow/core/grappler/optimizers/meta_optimizer.cc:163] TF_ENABLE_AUTO_MIXED_PRECISION has no effect.\n",
      "2024-05-24 01:49:56.414139: W tensorflow/core/grappler/optimizers/meta_optimizer.cc:163] TF_ENABLE_AUTO_MIXED_PRECISION has no effect.\n",
      "2024-05-24 01:49:56.414148: W tensorflow/core/grappler/optimizers/meta_optimizer.cc:163] TF_ENABLE_AUTO_MIXED_PRECISION has no effect.\n",
      "2024-05-24 01:49:56.414153: W tensorflow/core/grappler/optimizers/meta_optimizer.cc:163] TF_ENABLE_AUTO_MIXED_PRECISION has no effect.\n",
      "2024-05-24 01:49:56.414157: W tensorflow/core/grappler/optimizers/meta_optimizer.cc:163] TF_ENABLE_AUTO_MIXED_PRECISION has no effect.\n",
      "2024-05-24 01:49:56.414161: W tensorflow/core/grappler/optimizers/meta_optimizer.cc:163] TF_ENABLE_AUTO_MIXED_PRECISION has no effect.\n"
     ]
    },
    {
     "name": "stdout",
     "output_type": "stream",
     "text": [
      "235/235 [==============================] - 1s 4ms/step - loss: 0.0665 - val_loss: 0.0669\n",
      "Epoch 47/50\n",
      " 28/235 [==>...........................] - ETA: 0s - loss: 0.0665"
     ]
    },
    {
     "name": "stderr",
     "output_type": "stream",
     "text": [
      "2024-05-24 01:49:57.396657: W tensorflow/core/grappler/optimizers/meta_optimizer.cc:163] TF_ENABLE_AUTO_MIXED_PRECISION has no effect.\n",
      "2024-05-24 01:49:57.396692: W tensorflow/core/grappler/optimizers/meta_optimizer.cc:163] TF_ENABLE_AUTO_MIXED_PRECISION has no effect.\n",
      "2024-05-24 01:49:57.396697: W tensorflow/core/grappler/optimizers/meta_optimizer.cc:163] TF_ENABLE_AUTO_MIXED_PRECISION has no effect.\n",
      "2024-05-24 01:49:57.396700: W tensorflow/core/grappler/optimizers/meta_optimizer.cc:163] TF_ENABLE_AUTO_MIXED_PRECISION has no effect.\n",
      "2024-05-24 01:49:57.396714: W tensorflow/core/grappler/optimizers/meta_optimizer.cc:163] TF_ENABLE_AUTO_MIXED_PRECISION has no effect.\n",
      "2024-05-24 01:49:57.396719: W tensorflow/core/grappler/optimizers/meta_optimizer.cc:163] TF_ENABLE_AUTO_MIXED_PRECISION has no effect.\n",
      "2024-05-24 01:49:57.396724: W tensorflow/core/grappler/optimizers/meta_optimizer.cc:163] TF_ENABLE_AUTO_MIXED_PRECISION has no effect.\n",
      "2024-05-24 01:49:57.396727: W tensorflow/core/grappler/optimizers/meta_optimizer.cc:163] TF_ENABLE_AUTO_MIXED_PRECISION has no effect.\n",
      "2024-05-24 01:49:57.400794: W tensorflow/core/grappler/optimizers/meta_optimizer.cc:163] TF_ENABLE_AUTO_MIXED_PRECISION has no effect.\n",
      "2024-05-24 01:49:57.400816: W tensorflow/core/grappler/optimizers/meta_optimizer.cc:163] TF_ENABLE_AUTO_MIXED_PRECISION has no effect.\n",
      "2024-05-24 01:49:57.400820: W tensorflow/core/grappler/optimizers/meta_optimizer.cc:163] TF_ENABLE_AUTO_MIXED_PRECISION has no effect.\n",
      "2024-05-24 01:49:57.400824: W tensorflow/core/grappler/optimizers/meta_optimizer.cc:163] TF_ENABLE_AUTO_MIXED_PRECISION has no effect.\n",
      "2024-05-24 01:49:57.400834: W tensorflow/core/grappler/optimizers/meta_optimizer.cc:163] TF_ENABLE_AUTO_MIXED_PRECISION has no effect.\n",
      "2024-05-24 01:49:57.400847: W tensorflow/core/grappler/optimizers/meta_optimizer.cc:163] TF_ENABLE_AUTO_MIXED_PRECISION has no effect.\n",
      "2024-05-24 01:49:57.400852: W tensorflow/core/grappler/optimizers/meta_optimizer.cc:163] TF_ENABLE_AUTO_MIXED_PRECISION has no effect.\n",
      "2024-05-24 01:49:57.400856: W tensorflow/core/grappler/optimizers/meta_optimizer.cc:163] TF_ENABLE_AUTO_MIXED_PRECISION has no effect.\n",
      "2024-05-24 01:49:57.405606: W tensorflow/core/grappler/optimizers/meta_optimizer.cc:163] TF_ENABLE_AUTO_MIXED_PRECISION has no effect.\n",
      "2024-05-24 01:49:57.405624: W tensorflow/core/grappler/optimizers/meta_optimizer.cc:163] TF_ENABLE_AUTO_MIXED_PRECISION has no effect.\n",
      "2024-05-24 01:49:57.405628: W tensorflow/core/grappler/optimizers/meta_optimizer.cc:163] TF_ENABLE_AUTO_MIXED_PRECISION has no effect.\n",
      "2024-05-24 01:49:57.405632: W tensorflow/core/grappler/optimizers/meta_optimizer.cc:163] TF_ENABLE_AUTO_MIXED_PRECISION has no effect.\n",
      "2024-05-24 01:49:57.405641: W tensorflow/core/grappler/optimizers/meta_optimizer.cc:163] TF_ENABLE_AUTO_MIXED_PRECISION has no effect.\n",
      "2024-05-24 01:49:57.405655: W tensorflow/core/grappler/optimizers/meta_optimizer.cc:163] TF_ENABLE_AUTO_MIXED_PRECISION has no effect.\n",
      "2024-05-24 01:49:57.405660: W tensorflow/core/grappler/optimizers/meta_optimizer.cc:163] TF_ENABLE_AUTO_MIXED_PRECISION has no effect.\n",
      "2024-05-24 01:49:57.405664: W tensorflow/core/grappler/optimizers/meta_optimizer.cc:163] TF_ENABLE_AUTO_MIXED_PRECISION has no effect.\n"
     ]
    },
    {
     "name": "stdout",
     "output_type": "stream",
     "text": [
      "235/235 [==============================] - 1s 4ms/step - loss: 0.0664 - val_loss: 0.0668\n",
      "Epoch 48/50\n",
      " 28/235 [==>...........................] - ETA: 0s - loss: 0.0662"
     ]
    },
    {
     "name": "stderr",
     "output_type": "stream",
     "text": [
      "2024-05-24 01:49:58.383599: W tensorflow/core/grappler/optimizers/meta_optimizer.cc:163] TF_ENABLE_AUTO_MIXED_PRECISION has no effect.\n",
      "2024-05-24 01:49:58.383629: W tensorflow/core/grappler/optimizers/meta_optimizer.cc:163] TF_ENABLE_AUTO_MIXED_PRECISION has no effect.\n",
      "2024-05-24 01:49:58.383634: W tensorflow/core/grappler/optimizers/meta_optimizer.cc:163] TF_ENABLE_AUTO_MIXED_PRECISION has no effect.\n",
      "2024-05-24 01:49:58.383638: W tensorflow/core/grappler/optimizers/meta_optimizer.cc:163] TF_ENABLE_AUTO_MIXED_PRECISION has no effect.\n",
      "2024-05-24 01:49:58.383650: W tensorflow/core/grappler/optimizers/meta_optimizer.cc:163] TF_ENABLE_AUTO_MIXED_PRECISION has no effect.\n",
      "2024-05-24 01:49:58.383656: W tensorflow/core/grappler/optimizers/meta_optimizer.cc:163] TF_ENABLE_AUTO_MIXED_PRECISION has no effect.\n",
      "2024-05-24 01:49:58.383660: W tensorflow/core/grappler/optimizers/meta_optimizer.cc:163] TF_ENABLE_AUTO_MIXED_PRECISION has no effect.\n",
      "2024-05-24 01:49:58.383664: W tensorflow/core/grappler/optimizers/meta_optimizer.cc:163] TF_ENABLE_AUTO_MIXED_PRECISION has no effect.\n",
      "2024-05-24 01:49:58.387656: W tensorflow/core/grappler/optimizers/meta_optimizer.cc:163] TF_ENABLE_AUTO_MIXED_PRECISION has no effect.\n",
      "2024-05-24 01:49:58.387676: W tensorflow/core/grappler/optimizers/meta_optimizer.cc:163] TF_ENABLE_AUTO_MIXED_PRECISION has no effect.\n",
      "2024-05-24 01:49:58.387681: W tensorflow/core/grappler/optimizers/meta_optimizer.cc:163] TF_ENABLE_AUTO_MIXED_PRECISION has no effect.\n",
      "2024-05-24 01:49:58.387685: W tensorflow/core/grappler/optimizers/meta_optimizer.cc:163] TF_ENABLE_AUTO_MIXED_PRECISION has no effect.\n",
      "2024-05-24 01:49:58.387695: W tensorflow/core/grappler/optimizers/meta_optimizer.cc:163] TF_ENABLE_AUTO_MIXED_PRECISION has no effect.\n",
      "2024-05-24 01:49:58.387702: W tensorflow/core/grappler/optimizers/meta_optimizer.cc:163] TF_ENABLE_AUTO_MIXED_PRECISION has no effect.\n",
      "2024-05-24 01:49:58.387706: W tensorflow/core/grappler/optimizers/meta_optimizer.cc:163] TF_ENABLE_AUTO_MIXED_PRECISION has no effect.\n",
      "2024-05-24 01:49:58.387710: W tensorflow/core/grappler/optimizers/meta_optimizer.cc:163] TF_ENABLE_AUTO_MIXED_PRECISION has no effect.\n",
      "2024-05-24 01:49:58.392377: W tensorflow/core/grappler/optimizers/meta_optimizer.cc:163] TF_ENABLE_AUTO_MIXED_PRECISION has no effect.\n",
      "2024-05-24 01:49:58.392394: W tensorflow/core/grappler/optimizers/meta_optimizer.cc:163] TF_ENABLE_AUTO_MIXED_PRECISION has no effect.\n",
      "2024-05-24 01:49:58.392398: W tensorflow/core/grappler/optimizers/meta_optimizer.cc:163] TF_ENABLE_AUTO_MIXED_PRECISION has no effect.\n",
      "2024-05-24 01:49:58.392402: W tensorflow/core/grappler/optimizers/meta_optimizer.cc:163] TF_ENABLE_AUTO_MIXED_PRECISION has no effect.\n",
      "2024-05-24 01:49:58.392411: W tensorflow/core/grappler/optimizers/meta_optimizer.cc:163] TF_ENABLE_AUTO_MIXED_PRECISION has no effect.\n",
      "2024-05-24 01:49:58.392418: W tensorflow/core/grappler/optimizers/meta_optimizer.cc:163] TF_ENABLE_AUTO_MIXED_PRECISION has no effect.\n",
      "2024-05-24 01:49:58.392422: W tensorflow/core/grappler/optimizers/meta_optimizer.cc:163] TF_ENABLE_AUTO_MIXED_PRECISION has no effect.\n",
      "2024-05-24 01:49:58.392426: W tensorflow/core/grappler/optimizers/meta_optimizer.cc:163] TF_ENABLE_AUTO_MIXED_PRECISION has no effect.\n"
     ]
    },
    {
     "name": "stdout",
     "output_type": "stream",
     "text": [
      "235/235 [==============================] - 1s 4ms/step - loss: 0.0664 - val_loss: 0.0668\n",
      "Epoch 49/50\n",
      " 28/235 [==>...........................] - ETA: 0s - loss: 0.0663"
     ]
    },
    {
     "name": "stderr",
     "output_type": "stream",
     "text": [
      "2024-05-24 01:49:59.379024: W tensorflow/core/grappler/optimizers/meta_optimizer.cc:163] TF_ENABLE_AUTO_MIXED_PRECISION has no effect.\n",
      "2024-05-24 01:49:59.379054: W tensorflow/core/grappler/optimizers/meta_optimizer.cc:163] TF_ENABLE_AUTO_MIXED_PRECISION has no effect.\n",
      "2024-05-24 01:49:59.379059: W tensorflow/core/grappler/optimizers/meta_optimizer.cc:163] TF_ENABLE_AUTO_MIXED_PRECISION has no effect.\n",
      "2024-05-24 01:49:59.379062: W tensorflow/core/grappler/optimizers/meta_optimizer.cc:163] TF_ENABLE_AUTO_MIXED_PRECISION has no effect.\n",
      "2024-05-24 01:49:59.379074: W tensorflow/core/grappler/optimizers/meta_optimizer.cc:163] TF_ENABLE_AUTO_MIXED_PRECISION has no effect.\n",
      "2024-05-24 01:49:59.379079: W tensorflow/core/grappler/optimizers/meta_optimizer.cc:163] TF_ENABLE_AUTO_MIXED_PRECISION has no effect.\n",
      "2024-05-24 01:49:59.379083: W tensorflow/core/grappler/optimizers/meta_optimizer.cc:163] TF_ENABLE_AUTO_MIXED_PRECISION has no effect.\n",
      "2024-05-24 01:49:59.379087: W tensorflow/core/grappler/optimizers/meta_optimizer.cc:163] TF_ENABLE_AUTO_MIXED_PRECISION has no effect.\n",
      "2024-05-24 01:49:59.383200: W tensorflow/core/grappler/optimizers/meta_optimizer.cc:163] TF_ENABLE_AUTO_MIXED_PRECISION has no effect.\n",
      "2024-05-24 01:49:59.383222: W tensorflow/core/grappler/optimizers/meta_optimizer.cc:163] TF_ENABLE_AUTO_MIXED_PRECISION has no effect.\n",
      "2024-05-24 01:49:59.383227: W tensorflow/core/grappler/optimizers/meta_optimizer.cc:163] TF_ENABLE_AUTO_MIXED_PRECISION has no effect.\n",
      "2024-05-24 01:49:59.383230: W tensorflow/core/grappler/optimizers/meta_optimizer.cc:163] TF_ENABLE_AUTO_MIXED_PRECISION has no effect.\n",
      "2024-05-24 01:49:59.383241: W tensorflow/core/grappler/optimizers/meta_optimizer.cc:163] TF_ENABLE_AUTO_MIXED_PRECISION has no effect.\n",
      "2024-05-24 01:49:59.383247: W tensorflow/core/grappler/optimizers/meta_optimizer.cc:163] TF_ENABLE_AUTO_MIXED_PRECISION has no effect.\n",
      "2024-05-24 01:49:59.383251: W tensorflow/core/grappler/optimizers/meta_optimizer.cc:163] TF_ENABLE_AUTO_MIXED_PRECISION has no effect.\n",
      "2024-05-24 01:49:59.383255: W tensorflow/core/grappler/optimizers/meta_optimizer.cc:163] TF_ENABLE_AUTO_MIXED_PRECISION has no effect.\n",
      "2024-05-24 01:49:59.387945: W tensorflow/core/grappler/optimizers/meta_optimizer.cc:163] TF_ENABLE_AUTO_MIXED_PRECISION has no effect.\n",
      "2024-05-24 01:49:59.387964: W tensorflow/core/grappler/optimizers/meta_optimizer.cc:163] TF_ENABLE_AUTO_MIXED_PRECISION has no effect.\n",
      "2024-05-24 01:49:59.387969: W tensorflow/core/grappler/optimizers/meta_optimizer.cc:163] TF_ENABLE_AUTO_MIXED_PRECISION has no effect.\n",
      "2024-05-24 01:49:59.387972: W tensorflow/core/grappler/optimizers/meta_optimizer.cc:163] TF_ENABLE_AUTO_MIXED_PRECISION has no effect.\n",
      "2024-05-24 01:49:59.387982: W tensorflow/core/grappler/optimizers/meta_optimizer.cc:163] TF_ENABLE_AUTO_MIXED_PRECISION has no effect.\n",
      "2024-05-24 01:49:59.387989: W tensorflow/core/grappler/optimizers/meta_optimizer.cc:163] TF_ENABLE_AUTO_MIXED_PRECISION has no effect.\n",
      "2024-05-24 01:49:59.387993: W tensorflow/core/grappler/optimizers/meta_optimizer.cc:163] TF_ENABLE_AUTO_MIXED_PRECISION has no effect.\n",
      "2024-05-24 01:49:59.387996: W tensorflow/core/grappler/optimizers/meta_optimizer.cc:163] TF_ENABLE_AUTO_MIXED_PRECISION has no effect.\n"
     ]
    },
    {
     "name": "stdout",
     "output_type": "stream",
     "text": [
      "235/235 [==============================] - 1s 4ms/step - loss: 0.0663 - val_loss: 0.0667\n",
      "Epoch 50/50\n",
      " 29/235 [==>...........................] - ETA: 0s - loss: 0.0664"
     ]
    },
    {
     "name": "stderr",
     "output_type": "stream",
     "text": [
      "2024-05-24 01:50:00.378139: W tensorflow/core/grappler/optimizers/meta_optimizer.cc:163] TF_ENABLE_AUTO_MIXED_PRECISION has no effect.\n",
      "2024-05-24 01:50:00.378171: W tensorflow/core/grappler/optimizers/meta_optimizer.cc:163] TF_ENABLE_AUTO_MIXED_PRECISION has no effect.\n",
      "2024-05-24 01:50:00.378177: W tensorflow/core/grappler/optimizers/meta_optimizer.cc:163] TF_ENABLE_AUTO_MIXED_PRECISION has no effect.\n",
      "2024-05-24 01:50:00.378182: W tensorflow/core/grappler/optimizers/meta_optimizer.cc:163] TF_ENABLE_AUTO_MIXED_PRECISION has no effect.\n",
      "2024-05-24 01:50:00.378198: W tensorflow/core/grappler/optimizers/meta_optimizer.cc:163] TF_ENABLE_AUTO_MIXED_PRECISION has no effect.\n",
      "2024-05-24 01:50:00.378204: W tensorflow/core/grappler/optimizers/meta_optimizer.cc:163] TF_ENABLE_AUTO_MIXED_PRECISION has no effect.\n",
      "2024-05-24 01:50:00.378210: W tensorflow/core/grappler/optimizers/meta_optimizer.cc:163] TF_ENABLE_AUTO_MIXED_PRECISION has no effect.\n",
      "2024-05-24 01:50:00.378215: W tensorflow/core/grappler/optimizers/meta_optimizer.cc:163] TF_ENABLE_AUTO_MIXED_PRECISION has no effect.\n",
      "2024-05-24 01:50:00.384480: W tensorflow/core/grappler/optimizers/meta_optimizer.cc:163] TF_ENABLE_AUTO_MIXED_PRECISION has no effect.\n",
      "2024-05-24 01:50:00.384500: W tensorflow/core/grappler/optimizers/meta_optimizer.cc:163] TF_ENABLE_AUTO_MIXED_PRECISION has no effect.\n",
      "2024-05-24 01:50:00.384504: W tensorflow/core/grappler/optimizers/meta_optimizer.cc:163] TF_ENABLE_AUTO_MIXED_PRECISION has no effect.\n",
      "2024-05-24 01:50:00.384508: W tensorflow/core/grappler/optimizers/meta_optimizer.cc:163] TF_ENABLE_AUTO_MIXED_PRECISION has no effect.\n",
      "2024-05-24 01:50:00.384519: W tensorflow/core/grappler/optimizers/meta_optimizer.cc:163] TF_ENABLE_AUTO_MIXED_PRECISION has no effect.\n",
      "2024-05-24 01:50:00.384524: W tensorflow/core/grappler/optimizers/meta_optimizer.cc:163] TF_ENABLE_AUTO_MIXED_PRECISION has no effect.\n",
      "2024-05-24 01:50:00.384528: W tensorflow/core/grappler/optimizers/meta_optimizer.cc:163] TF_ENABLE_AUTO_MIXED_PRECISION has no effect.\n",
      "2024-05-24 01:50:00.384532: W tensorflow/core/grappler/optimizers/meta_optimizer.cc:163] TF_ENABLE_AUTO_MIXED_PRECISION has no effect.\n",
      "2024-05-24 01:50:00.389282: W tensorflow/core/grappler/optimizers/meta_optimizer.cc:163] TF_ENABLE_AUTO_MIXED_PRECISION has no effect.\n",
      "2024-05-24 01:50:00.389300: W tensorflow/core/grappler/optimizers/meta_optimizer.cc:163] TF_ENABLE_AUTO_MIXED_PRECISION has no effect.\n",
      "2024-05-24 01:50:00.389304: W tensorflow/core/grappler/optimizers/meta_optimizer.cc:163] TF_ENABLE_AUTO_MIXED_PRECISION has no effect.\n",
      "2024-05-24 01:50:00.389308: W tensorflow/core/grappler/optimizers/meta_optimizer.cc:163] TF_ENABLE_AUTO_MIXED_PRECISION has no effect.\n",
      "2024-05-24 01:50:00.389317: W tensorflow/core/grappler/optimizers/meta_optimizer.cc:163] TF_ENABLE_AUTO_MIXED_PRECISION has no effect.\n",
      "2024-05-24 01:50:00.389322: W tensorflow/core/grappler/optimizers/meta_optimizer.cc:163] TF_ENABLE_AUTO_MIXED_PRECISION has no effect.\n",
      "2024-05-24 01:50:00.389326: W tensorflow/core/grappler/optimizers/meta_optimizer.cc:163] TF_ENABLE_AUTO_MIXED_PRECISION has no effect.\n",
      "2024-05-24 01:50:00.389330: W tensorflow/core/grappler/optimizers/meta_optimizer.cc:163] TF_ENABLE_AUTO_MIXED_PRECISION has no effect.\n"
     ]
    },
    {
     "name": "stdout",
     "output_type": "stream",
     "text": [
      "235/235 [==============================] - 1s 4ms/step - loss: 0.0663 - val_loss: 0.0667\n"
     ]
    },
    {
     "name": "stderr",
     "output_type": "stream",
     "text": [
      "2024-05-24 01:50:01.365944: W tensorflow/core/grappler/optimizers/meta_optimizer.cc:163] TF_ENABLE_AUTO_MIXED_PRECISION has no effect.\n",
      "2024-05-24 01:50:01.365975: W tensorflow/core/grappler/optimizers/meta_optimizer.cc:163] TF_ENABLE_AUTO_MIXED_PRECISION has no effect.\n",
      "2024-05-24 01:50:01.365980: W tensorflow/core/grappler/optimizers/meta_optimizer.cc:163] TF_ENABLE_AUTO_MIXED_PRECISION has no effect.\n",
      "2024-05-24 01:50:01.365984: W tensorflow/core/grappler/optimizers/meta_optimizer.cc:163] TF_ENABLE_AUTO_MIXED_PRECISION has no effect.\n",
      "2024-05-24 01:50:01.365996: W tensorflow/core/grappler/optimizers/meta_optimizer.cc:163] TF_ENABLE_AUTO_MIXED_PRECISION has no effect.\n",
      "2024-05-24 01:50:01.366001: W tensorflow/core/grappler/optimizers/meta_optimizer.cc:163] TF_ENABLE_AUTO_MIXED_PRECISION has no effect.\n",
      "2024-05-24 01:50:01.366005: W tensorflow/core/grappler/optimizers/meta_optimizer.cc:163] TF_ENABLE_AUTO_MIXED_PRECISION has no effect.\n",
      "2024-05-24 01:50:01.366009: W tensorflow/core/grappler/optimizers/meta_optimizer.cc:163] TF_ENABLE_AUTO_MIXED_PRECISION has no effect.\n",
      "2024-05-24 01:50:01.370020: W tensorflow/core/grappler/optimizers/meta_optimizer.cc:163] TF_ENABLE_AUTO_MIXED_PRECISION has no effect.\n",
      "2024-05-24 01:50:01.370041: W tensorflow/core/grappler/optimizers/meta_optimizer.cc:163] TF_ENABLE_AUTO_MIXED_PRECISION has no effect.\n",
      "2024-05-24 01:50:01.370046: W tensorflow/core/grappler/optimizers/meta_optimizer.cc:163] TF_ENABLE_AUTO_MIXED_PRECISION has no effect.\n",
      "2024-05-24 01:50:01.370050: W tensorflow/core/grappler/optimizers/meta_optimizer.cc:163] TF_ENABLE_AUTO_MIXED_PRECISION has no effect.\n",
      "2024-05-24 01:50:01.370060: W tensorflow/core/grappler/optimizers/meta_optimizer.cc:163] TF_ENABLE_AUTO_MIXED_PRECISION has no effect.\n",
      "2024-05-24 01:50:01.370067: W tensorflow/core/grappler/optimizers/meta_optimizer.cc:163] TF_ENABLE_AUTO_MIXED_PRECISION has no effect.\n",
      "2024-05-24 01:50:01.370071: W tensorflow/core/grappler/optimizers/meta_optimizer.cc:163] TF_ENABLE_AUTO_MIXED_PRECISION has no effect.\n",
      "2024-05-24 01:50:01.370075: W tensorflow/core/grappler/optimizers/meta_optimizer.cc:163] TF_ENABLE_AUTO_MIXED_PRECISION has no effect.\n",
      "2024-05-24 01:50:01.379027: W tensorflow/core/grappler/optimizers/meta_optimizer.cc:163] TF_ENABLE_AUTO_MIXED_PRECISION has no effect.\n",
      "2024-05-24 01:50:01.379045: W tensorflow/core/grappler/optimizers/meta_optimizer.cc:163] TF_ENABLE_AUTO_MIXED_PRECISION has no effect.\n",
      "2024-05-24 01:50:01.379049: W tensorflow/core/grappler/optimizers/meta_optimizer.cc:163] TF_ENABLE_AUTO_MIXED_PRECISION has no effect.\n",
      "2024-05-24 01:50:01.379053: W tensorflow/core/grappler/optimizers/meta_optimizer.cc:163] TF_ENABLE_AUTO_MIXED_PRECISION has no effect.\n",
      "2024-05-24 01:50:01.379063: W tensorflow/core/grappler/optimizers/meta_optimizer.cc:163] TF_ENABLE_AUTO_MIXED_PRECISION has no effect.\n",
      "2024-05-24 01:50:01.379069: W tensorflow/core/grappler/optimizers/meta_optimizer.cc:163] TF_ENABLE_AUTO_MIXED_PRECISION has no effect.\n",
      "2024-05-24 01:50:01.379073: W tensorflow/core/grappler/optimizers/meta_optimizer.cc:163] TF_ENABLE_AUTO_MIXED_PRECISION has no effect.\n",
      "2024-05-24 01:50:01.379077: W tensorflow/core/grappler/optimizers/meta_optimizer.cc:163] TF_ENABLE_AUTO_MIXED_PRECISION has no effect.\n"
     ]
    },
    {
     "data": {
      "text/plain": [
       "<keras.src.callbacks.History at 0x7fc272d29c30>"
      ]
     },
     "execution_count": 4,
     "metadata": {},
     "output_type": "execute_result"
    }
   ],
   "source": [
    "autoencoder.fit(x_train, x_train,\n",
    "                epochs=50,\n",
    "                batch_size=256,\n",
    "                shuffle=True,\n",
    "                validation_data=(x_test, x_test))\n"
   ]
  },
  {
   "cell_type": "code",
   "execution_count": 5,
   "id": "376ea040",
   "metadata": {},
   "outputs": [
    {
     "name": "stderr",
     "output_type": "stream",
     "text": [
      "2024-05-24 01:50:01.529018: W tensorflow/core/grappler/optimizers/meta_optimizer.cc:163] TF_ENABLE_AUTO_MIXED_PRECISION has no effect.\n",
      "2024-05-24 01:50:01.529050: W tensorflow/core/grappler/optimizers/meta_optimizer.cc:163] TF_ENABLE_AUTO_MIXED_PRECISION has no effect.\n",
      "2024-05-24 01:50:01.529056: W tensorflow/core/grappler/optimizers/meta_optimizer.cc:163] TF_ENABLE_AUTO_MIXED_PRECISION has no effect.\n",
      "2024-05-24 01:50:01.529059: W tensorflow/core/grappler/optimizers/meta_optimizer.cc:163] TF_ENABLE_AUTO_MIXED_PRECISION has no effect.\n",
      "2024-05-24 01:50:01.529071: W tensorflow/core/grappler/optimizers/meta_optimizer.cc:163] TF_ENABLE_AUTO_MIXED_PRECISION has no effect.\n",
      "2024-05-24 01:50:01.529076: W tensorflow/core/grappler/optimizers/meta_optimizer.cc:163] TF_ENABLE_AUTO_MIXED_PRECISION has no effect.\n",
      "2024-05-24 01:50:01.529080: W tensorflow/core/grappler/optimizers/meta_optimizer.cc:163] TF_ENABLE_AUTO_MIXED_PRECISION has no effect.\n",
      "2024-05-24 01:50:01.529084: W tensorflow/core/grappler/optimizers/meta_optimizer.cc:163] TF_ENABLE_AUTO_MIXED_PRECISION has no effect.\n",
      "2024-05-24 01:50:01.532822: W tensorflow/core/grappler/optimizers/meta_optimizer.cc:163] TF_ENABLE_AUTO_MIXED_PRECISION has no effect.\n",
      "2024-05-24 01:50:01.532853: W tensorflow/core/grappler/optimizers/meta_optimizer.cc:163] TF_ENABLE_AUTO_MIXED_PRECISION has no effect.\n",
      "2024-05-24 01:50:01.532857: W tensorflow/core/grappler/optimizers/meta_optimizer.cc:163] TF_ENABLE_AUTO_MIXED_PRECISION has no effect.\n",
      "2024-05-24 01:50:01.532861: W tensorflow/core/grappler/optimizers/meta_optimizer.cc:163] TF_ENABLE_AUTO_MIXED_PRECISION has no effect.\n",
      "2024-05-24 01:50:01.532872: W tensorflow/core/grappler/optimizers/meta_optimizer.cc:163] TF_ENABLE_AUTO_MIXED_PRECISION has no effect.\n",
      "2024-05-24 01:50:01.532876: W tensorflow/core/grappler/optimizers/meta_optimizer.cc:163] TF_ENABLE_AUTO_MIXED_PRECISION has no effect.\n",
      "2024-05-24 01:50:01.532880: W tensorflow/core/grappler/optimizers/meta_optimizer.cc:163] TF_ENABLE_AUTO_MIXED_PRECISION has no effect.\n",
      "2024-05-24 01:50:01.532885: W tensorflow/core/grappler/optimizers/meta_optimizer.cc:163] TF_ENABLE_AUTO_MIXED_PRECISION has no effect.\n",
      "2024-05-24 01:50:01.537436: W tensorflow/core/grappler/optimizers/meta_optimizer.cc:163] TF_ENABLE_AUTO_MIXED_PRECISION has no effect.\n",
      "2024-05-24 01:50:01.537454: W tensorflow/core/grappler/optimizers/meta_optimizer.cc:163] TF_ENABLE_AUTO_MIXED_PRECISION has no effect.\n",
      "2024-05-24 01:50:01.537458: W tensorflow/core/grappler/optimizers/meta_optimizer.cc:163] TF_ENABLE_AUTO_MIXED_PRECISION has no effect.\n",
      "2024-05-24 01:50:01.537462: W tensorflow/core/grappler/optimizers/meta_optimizer.cc:163] TF_ENABLE_AUTO_MIXED_PRECISION has no effect.\n",
      "2024-05-24 01:50:01.537472: W tensorflow/core/grappler/optimizers/meta_optimizer.cc:163] TF_ENABLE_AUTO_MIXED_PRECISION has no effect.\n",
      "2024-05-24 01:50:01.537477: W tensorflow/core/grappler/optimizers/meta_optimizer.cc:163] TF_ENABLE_AUTO_MIXED_PRECISION has no effect.\n",
      "2024-05-24 01:50:01.537481: W tensorflow/core/grappler/optimizers/meta_optimizer.cc:163] TF_ENABLE_AUTO_MIXED_PRECISION has no effect.\n",
      "2024-05-24 01:50:01.537485: W tensorflow/core/grappler/optimizers/meta_optimizer.cc:163] TF_ENABLE_AUTO_MIXED_PRECISION has no effect.\n",
      "2024-05-24 01:50:01.587055: W tensorflow/core/grappler/optimizers/meta_optimizer.cc:163] TF_ENABLE_AUTO_MIXED_PRECISION has no effect.\n",
      "2024-05-24 01:50:01.587076: W tensorflow/core/grappler/optimizers/meta_optimizer.cc:163] TF_ENABLE_AUTO_MIXED_PRECISION has no effect.\n",
      "2024-05-24 01:50:01.587082: W tensorflow/core/grappler/optimizers/meta_optimizer.cc:163] TF_ENABLE_AUTO_MIXED_PRECISION has no effect.\n",
      "2024-05-24 01:50:01.587086: W tensorflow/core/grappler/optimizers/meta_optimizer.cc:163] TF_ENABLE_AUTO_MIXED_PRECISION has no effect.\n",
      "2024-05-24 01:50:01.587096: W tensorflow/core/grappler/optimizers/meta_optimizer.cc:163] TF_ENABLE_AUTO_MIXED_PRECISION has no effect.\n",
      "2024-05-24 01:50:01.587101: W tensorflow/core/grappler/optimizers/meta_optimizer.cc:163] TF_ENABLE_AUTO_MIXED_PRECISION has no effect.\n",
      "2024-05-24 01:50:01.587105: W tensorflow/core/grappler/optimizers/meta_optimizer.cc:163] TF_ENABLE_AUTO_MIXED_PRECISION has no effect.\n",
      "2024-05-24 01:50:01.587108: W tensorflow/core/grappler/optimizers/meta_optimizer.cc:163] TF_ENABLE_AUTO_MIXED_PRECISION has no effect.\n"
     ]
    },
    {
     "name": "stdout",
     "output_type": "stream",
     "text": [
      "313/313 [==============================] - 1s 1ms/step\n"
     ]
    },
    {
     "name": "stderr",
     "output_type": "stream",
     "text": [
      "2024-05-24 01:50:02.166262: W tensorflow/core/grappler/optimizers/meta_optimizer.cc:163] TF_ENABLE_AUTO_MIXED_PRECISION has no effect.\n",
      "2024-05-24 01:50:02.166294: W tensorflow/core/grappler/optimizers/meta_optimizer.cc:163] TF_ENABLE_AUTO_MIXED_PRECISION has no effect.\n",
      "2024-05-24 01:50:02.166299: W tensorflow/core/grappler/optimizers/meta_optimizer.cc:163] TF_ENABLE_AUTO_MIXED_PRECISION has no effect.\n",
      "2024-05-24 01:50:02.166303: W tensorflow/core/grappler/optimizers/meta_optimizer.cc:163] TF_ENABLE_AUTO_MIXED_PRECISION has no effect.\n",
      "2024-05-24 01:50:02.166314: W tensorflow/core/grappler/optimizers/meta_optimizer.cc:163] TF_ENABLE_AUTO_MIXED_PRECISION has no effect.\n",
      "2024-05-24 01:50:02.166319: W tensorflow/core/grappler/optimizers/meta_optimizer.cc:163] TF_ENABLE_AUTO_MIXED_PRECISION has no effect.\n",
      "2024-05-24 01:50:02.166323: W tensorflow/core/grappler/optimizers/meta_optimizer.cc:163] TF_ENABLE_AUTO_MIXED_PRECISION has no effect.\n",
      "2024-05-24 01:50:02.166327: W tensorflow/core/grappler/optimizers/meta_optimizer.cc:163] TF_ENABLE_AUTO_MIXED_PRECISION has no effect.\n"
     ]
    },
    {
     "data": {
      "image/png": "[encoded data removed]",
      "text/plain": [
       "<Figure size 2000x400 with 20 Axes>"
      ]
     },
     "metadata": {},
     "output_type": "display_data"
    }
   ],
   "source": [
    "decoded_imgs = autoencoder.predict(x_test)\n",
    "\n",
    "n = 10  # 展示的图像数量\n",
    "plt.figure(figsize=(20, 4))\n",
    "for i in range(n):\n",
    "    # 显示原始图像\n",
    "    ax = plt.subplot(2, n, i + 1)\n",
    "    plt.imshow(x_test[i].reshape(28, 28, 1))\n",
    "    plt.axis('off')\n",
    "\n",
    "    # 显示重建图像\n",
    "    ax = plt.subplot(2, n, i + 1 + n)\n",
    "    plt.imshow(decoded_imgs[i].reshape(28, 28, 1))\n",
    "    plt.axis('off')\n",
    "plt.show()\n"
   ]
  },
  {
   "cell_type": "code",
   "execution_count": null,
   "id": "2880bf6a",
   "metadata": {},
   "outputs": [],
   "source": []
  },
  {
   "cell_type": "code",
   "execution_count": null,
   "id": "281893ee",
   "metadata": {},
   "outputs": [],
   "source": []
  }
 ],
 "metadata": {
  "kernelspec": {
   "display_name": "asr",
   "language": "python",
   "name": "asr"
  },
  "language_info": {
   "codemirror_mode": {
    "name": "ipython",
    "version": 3
   },
   "file_extension": ".py",
   "mimetype": "text/x-python",
   "name": "python",
   "nbconvert_exporter": "python",
   "pygments_lexer": "ipython3",
   "version": "3.10.12"
  }
 },
 "nbformat": 4,
 "nbformat_minor": 5
}
