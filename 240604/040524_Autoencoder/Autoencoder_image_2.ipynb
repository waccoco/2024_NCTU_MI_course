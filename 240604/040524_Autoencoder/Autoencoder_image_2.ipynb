{
 "cells": [
  {
   "cell_type": "code",
   "execution_count": 1,
   "id": "9ac16c37",
   "metadata": {},
   "outputs": [],
   "source": [
    "import numpy as np\n",
    "import matplotlib.pyplot as plt\n",
    "from keras.datasets import mnist\n",
    "from keras.models import Model\n",
    "from keras.layers import Input, Dense\n",
    "from keras.optimizers import Adam"
   ]
  },
  {
   "cell_type": "code",
   "execution_count": 2,
   "id": "507b9aa2",
   "metadata": {},
   "outputs": [
    {
     "name": "stdout",
     "output_type": "stream",
     "text": [
      "(5000, 784)\n",
      "(100, 784)\n"
     ]
    }
   ],
   "source": [
    "# 加載 MNIST 數據\n",
    "(x_train1, y_train1), (x_test1, y_test1) = mnist.load_data()\n",
    "\n",
    "# 正規化並重塑數據\n",
    "# x_train = x_train1[0:100].astype('float32') / 255.\n",
    "y_test = y_test1 [0:100]\n",
    "x_test = x_test1[0:100].astype('float32') / 255.\n",
    "x_train = x_train1[0:5000].astype('float32') / 255.\n",
    "# x_test = x_test1.astype('float32') / 255.\n",
    "\n",
    "x_train = x_train.reshape((len(x_train), np.prod(x_train.shape[1:])))\n",
    "x_test = x_test.reshape((len(x_test), np.prod(x_test.shape[1:])))\n",
    "# x_train = x_train.reshape(x_train.shape[0], 28, 28, 1)\n",
    "# x_test = x_test.reshape(x_test.shape[0], 28, 28, 1)\n",
    "print(x_train.shape)\n",
    "print(x_test.shape)"
   ]
  },
  {
   "cell_type": "code",
   "execution_count": 3,
   "id": "bffdff9a",
   "metadata": {},
   "outputs": [],
   "source": [
    "# n = 10  # 顯示幾個數字\n",
    "# plt.figure(figsize=(20, 4))\n",
    "# for i in range(n):\n",
    "#     # 顯示原始數據\n",
    "#     ax = plt.subplot(2, n, i + 1)\n",
    "#     plt.imshow(x_test[i].reshape(28, 28))\n",
    "#     plt.gray()\n",
    "#     ax.get_xaxis().set_visible(False)\n",
    "#     ax.get_yaxis().set_visible(False)\n",
    "\n",
    "# plt.show()"
   ]
  },
  {
   "cell_type": "code",
   "execution_count": 4,
   "id": "436c8f39-c5d9-45f1-9ded-b3e0730c1642",
   "metadata": {},
   "outputs": [],
   "source": [
    "from keras.models import Model\n",
    "from keras.layers import Input, Dense\n",
    "from tensorflow.keras.models import Sequential\n",
    "\n",
    "# 定義輸入層的維度\n",
    "input_dim = x_train.shape[1]  # 784\n",
    "\n",
    "# 創建輸入層\n",
    "input_layer = Input(shape=(784,))\n",
    "\n",
    "\n",
    "# 使用 Sequential 建立編碼器\n",
    "encoder = Sequential([\n",
    "    Dense(32, activation='relu'),\n",
    "    Dense(16, activation='relu'),  # 使用整數除法確保單元數為整數\n",
    "    Dense(8, activation='linear')\n",
    "    # Dense(2, activation='linear')\n",
    "])\n",
    "# 編碼層\n",
    "# encoder = Dense(encoding_dim, activation='relu')(input_layer)\n",
    "\n",
    "# 將 input_layer 作為輸入到編碼器\n",
    "encoded_output = encoder(input_layer)\n",
    "\n",
    "# 使用 Sequential 建立解碼器\n",
    "decoder = Sequential([\n",
    "    # Dense(8, activation='relu'),\n",
    "    Dense(16, activation='relu'),\n",
    "    Dense(32, activation='relu'),\n",
    "    Dense(input_dim, activation='sigmoid')\n",
    "])\n",
    "# 解碼層\n",
    "# decoder = Dense(input_dim, activation='relu')(encoder)\n",
    "\n",
    "\n",
    "# 將編碼器的輸出作為輸入到解碼器\n",
    "decoded_output = decoder(encoded_output)\n",
    "\n",
    "# autoencoder = Model(input_layer, decoder)\n",
    "autoencoder = Model(inputs=input_layer, outputs=decoded_output)\n",
    "\n",
    "# 自編碼器模型\n",
    "# autoencoder = Model(input_layer, decoded)\n",
    "# autoencoder.compile(optimizer='adam', loss='mean_squared_error')\n"
   ]
  },
  {
   "cell_type": "code",
   "execution_count": 5,
   "id": "f112ca3e",
   "metadata": {},
   "outputs": [],
   "source": [
    "# # 定義輸入層的維度\n",
    "# input_dim = x_train.shape[1]  # 784\n",
    "\n",
    "# # 創建輸入層\n",
    "# input_layer = Input(shape=(784,))\n",
    "\n",
    "# # 創建編碼層\n",
    "# encoded = Dense(128, activation='relu')(input_layer)\n",
    "# encoded = Dense(64, activation='relu')(encoded)\n",
    "# encoded = Dense(32, activation='relu')(encoded)  # 編碼後的特徵\n",
    "\n",
    "# # 創建解碼層\n",
    "# decoded = Dense(64, activation='relu')(encoded)\n",
    "# decoded = Dense(128, activation='relu')(decoded)\n",
    "# decoded = Dense(input_dim, activation='sigmoid')(decoded)  # 重建的輸出\n",
    "\n",
    "# # 定義 autoencoder 模型\n",
    "# autoencoder = Model(input_layer, decoded)\n",
    "\n",
    "# # 定義編碼器模型\n",
    "# encoder = Model(input_layer, encoded)\n",
    "\n",
    "# # 定義解碼器模型\n",
    "# encoded_input = Input(shape=(32,))\n",
    "# decoder_layer = autoencoder.layers[-3](encoded_input)\n",
    "# decoder_layer = autoencoder.layers[-2](decoder_layer)\n",
    "# decoder_layer = autoencoder.layers[-1](decoder_layer)\n",
    "# decoder = Model(encoded_input, decoder_layer)\n"
   ]
  },
  {
   "cell_type": "code",
   "execution_count": 6,
   "id": "e6c6ae73",
   "metadata": {
    "scrolled": true
   },
   "outputs": [
    {
     "name": "stdout",
     "output_type": "stream",
     "text": [
      "Epoch 1/20\n",
      "40/40 [==============================] - ETA: 0s - loss: 0.5132\n",
      "Epoch 1: loss improved from inf to 0.51319, saving model to UNet_Membrane.hdf5\n",
      "40/40 [==============================] - 3s 24ms/step - loss: 0.5132 - val_loss: 0.2949\n",
      "Epoch 2/20\n",
      "38/40 [===========================>..] - ETA: 0s - loss: 0.2823\n",
      "Epoch 2: loss improved from 0.51319 to 0.28190, saving model to UNet_Membrane.hdf5\n",
      "40/40 [==============================] - 0s 11ms/step - loss: 0.2819 - val_loss: 0.2685\n",
      "Epoch 3/20\n",
      "38/40 [===========================>..] - ETA: 0s - loss: 0.2679\n",
      "Epoch 3: loss improved from 0.28190 to 0.26784, saving model to UNet_Membrane.hdf5\n",
      "40/40 [==============================] - 0s 11ms/step - loss: 0.2678 - val_loss: 0.2590\n",
      "Epoch 4/20\n",
      "39/40 [============================>.] - ETA: 0s - loss: 0.2560\n",
      "Epoch 4: loss improved from 0.26784 to 0.25591, saving model to UNet_Membrane.hdf5\n",
      "40/40 [==============================] - 0s 10ms/step - loss: 0.2559 - val_loss: 0.2449\n",
      "Epoch 5/20\n",
      "34/40 [========================>.....] - ETA: 0s - loss: 0.2450\n",
      "Epoch 5: loss improved from 0.25591 to 0.24394, saving model to UNet_Membrane.hdf5\n",
      "40/40 [==============================] - 0s 10ms/step - loss: 0.2439 - val_loss: 0.2375\n",
      "Epoch 6/20\n",
      "40/40 [==============================] - ETA: 0s - loss: 0.2331\n",
      "Epoch 6: loss improved from 0.24394 to 0.23313, saving model to UNet_Membrane.hdf5\n",
      "40/40 [==============================] - 0s 12ms/step - loss: 0.2331 - val_loss: 0.2277\n",
      "Epoch 7/20\n",
      "35/40 [=========================>....] - ETA: 0s - loss: 0.2261\n",
      "Epoch 7: loss improved from 0.23313 to 0.22601, saving model to UNet_Membrane.hdf5\n",
      "40/40 [==============================] - 0s 12ms/step - loss: 0.2260 - val_loss: 0.2232\n",
      "Epoch 8/20\n",
      "37/40 [==========================>...] - ETA: 0s - loss: 0.2222\n",
      "Epoch 8: loss improved from 0.22601 to 0.22232, saving model to UNet_Membrane.hdf5\n",
      "40/40 [==============================] - 0s 11ms/step - loss: 0.2223 - val_loss: 0.2206\n",
      "Epoch 9/20\n",
      "37/40 [==========================>...] - ETA: 0s - loss: 0.2193\n",
      "Epoch 9: loss improved from 0.22232 to 0.21943, saving model to UNet_Membrane.hdf5\n",
      "40/40 [==============================] - 0s 11ms/step - loss: 0.2194 - val_loss: 0.2170\n",
      "Epoch 10/20\n",
      "33/40 [=======================>......] - ETA: 0s - loss: 0.2170\n",
      "Epoch 10: loss improved from 0.21943 to 0.21688, saving model to UNet_Membrane.hdf5\n",
      "40/40 [==============================] - 0s 10ms/step - loss: 0.2169 - val_loss: 0.2144\n",
      "Epoch 11/20\n",
      "39/40 [============================>.] - ETA: 0s - loss: 0.2145\n",
      "Epoch 11: loss improved from 0.21688 to 0.21455, saving model to UNet_Membrane.hdf5\n",
      "40/40 [==============================] - 0s 11ms/step - loss: 0.2145 - val_loss: 0.2114\n",
      "Epoch 12/20\n",
      "33/40 [=======================>......] - ETA: 0s - loss: 0.2115\n",
      "Epoch 12: loss improved from 0.21455 to 0.21098, saving model to UNet_Membrane.hdf5\n",
      "40/40 [==============================] - 0s 10ms/step - loss: 0.2110 - val_loss: 0.2086\n",
      "Epoch 13/20\n",
      "40/40 [==============================] - ETA: 0s - loss: 0.2058\n",
      "Epoch 13: loss improved from 0.21098 to 0.20579, saving model to UNet_Membrane.hdf5\n",
      "40/40 [==============================] - 0s 11ms/step - loss: 0.2058 - val_loss: 0.2039\n",
      "Epoch 14/20\n",
      "36/40 [==========================>...] - ETA: 0s - loss: 0.2021\n",
      "Epoch 14: loss improved from 0.20579 to 0.20180, saving model to UNet_Membrane.hdf5\n",
      "40/40 [==============================] - 0s 11ms/step - loss: 0.2018 - val_loss: 0.2011\n",
      "Epoch 15/20\n",
      "33/40 [=======================>......] - ETA: 0s - loss: 0.1990\n",
      "Epoch 15: loss improved from 0.20180 to 0.19921, saving model to UNet_Membrane.hdf5\n",
      "40/40 [==============================] - 0s 10ms/step - loss: 0.1992 - val_loss: 0.1983\n",
      "Epoch 16/20\n",
      "39/40 [============================>.] - ETA: 0s - loss: 0.1973\n",
      "Epoch 16: loss improved from 0.19921 to 0.19728, saving model to UNet_Membrane.hdf5\n",
      "40/40 [==============================] - 0s 10ms/step - loss: 0.1973 - val_loss: 0.1966\n",
      "Epoch 17/20\n",
      "39/40 [============================>.] - ETA: 0s - loss: 0.1954\n",
      "Epoch 17: loss improved from 0.19728 to 0.19546, saving model to UNet_Membrane.hdf5\n",
      "40/40 [==============================] - 0s 10ms/step - loss: 0.1955 - val_loss: 0.1948\n",
      "Epoch 18/20\n",
      "40/40 [==============================] - ETA: 0s - loss: 0.1938\n",
      "Epoch 18: loss improved from 0.19546 to 0.19377, saving model to UNet_Membrane.hdf5\n",
      "40/40 [==============================] - 0s 10ms/step - loss: 0.1938 - val_loss: 0.1927\n",
      "Epoch 19/20\n",
      "40/40 [==============================] - ETA: 0s - loss: 0.1918\n",
      "Epoch 19: loss improved from 0.19377 to 0.19181, saving model to UNet_Membrane.hdf5\n",
      "40/40 [==============================] - 0s 10ms/step - loss: 0.1918 - val_loss: 0.1911\n",
      "Epoch 20/20\n",
      "33/40 [=======================>......] - ETA: 0s - loss: 0.1897\n",
      "Epoch 20: loss improved from 0.19181 to 0.18962, saving model to UNet_Membrane.hdf5\n",
      "40/40 [==============================] - 0s 10ms/step - loss: 0.1896 - val_loss: 0.1890\n"
     ]
    }
   ],
   "source": [
    "from tensorflow.keras.callbacks import ModelCheckpoint\n",
    "autoencoder.compile(optimizer=Adam(learning_rate=1e-3), loss='binary_crossentropy')\n",
    "model_checkpoint = ModelCheckpoint('UNet_Membrane.hdf5', monitor='loss',verbose=1, save_best_only=True)\n",
    "history = autoencoder.fit(x_train, x_train, \n",
    "                epochs=20, \n",
    "                batch_size=128, \n",
    "                shuffle=True, \n",
    "                callbacks=[model_checkpoint],\n",
    "                validation_data=(x_test, x_test))\n"
   ]
  },
  {
   "cell_type": "code",
   "execution_count": 7,
   "id": "9a5268e9",
   "metadata": {},
   "outputs": [],
   "source": [
    "# autoencoder.compile(optimizer=Adam(), loss='binary_crossentropy')\n",
    "# history = autoencoder.fit(x_train, x_train, \n",
    "#                 epochs=200, \n",
    "#                 batch_size=256, \n",
    "#                 shuffle=True, \n",
    "#                 validation_data=(x_test, x_test))\n"
   ]
  },
  {
   "cell_type": "code",
   "execution_count": 8,
   "id": "dfeb9390",
   "metadata": {
    "scrolled": true
   },
   "outputs": [
    {
     "name": "stdout",
     "output_type": "stream",
     "text": [
      "4/4 [==============================] - 0s 5ms/step\n",
      "4/4 [==============================] - 0s 4ms/step\n"
     ]
    }
   ],
   "source": [
    "encoded_imgs = encoder.predict(x_test)\n",
    "decoded_imgs = decoder.predict(encoded_imgs)"
   ]
  },
  {
   "cell_type": "code",
   "execution_count": null,
   "id": "739a407a",
   "metadata": {},
   "outputs": [],
   "source": [
    "## comparing the original image and decoder image\n",
    "# n = 10  # 顯示幾個數字\n",
    "# plt.figure(figsize=(20, 4))\n",
    "# for i in range(n):\n",
    "#     # 顯示原始數據\n",
    "#     ax = plt.subplot(2, n, i + 1)\n",
    "#     plt.imshow(x_test[i].reshape(28, 28))\n",
    "#     plt.gray()\n",
    "#     ax.get_xaxis().set_visible(False)\n",
    "#     ax.get_yaxis().set_visible(False)\n",
    "\n",
    "# #     顯示重建數據\n",
    "#     ax = plt.subplot(2, n, i + 1 + n)\n",
    "#     plt.imshow(decoded_imgs[i].reshape(28, 28))\n",
    "#     plt.gray()\n",
    "#     ax.get_xaxis().set_visible(False)\n",
    "#     ax.get_yaxis().set_visible(False)\n",
    "# plt.show()"
   ]
  },
  {
   "cell_type": "code",
   "execution_count": 9,
   "id": "63b122c0",
   "metadata": {},
   "outputs": [
    {
     "name": "stdout",
     "output_type": "stream",
     "text": [
      "4/4 [==============================] - 0s 9ms/step\n"
     ]
    }
   ],
   "source": [
    "# 假设 x_test 是你的测试数据集\n",
    "encoded_imgs = encoder.predict(x_test)"
   ]
  },
  {
   "cell_type": "code",
   "execution_count": 10,
   "id": "8837139e",
   "metadata": {},
   "outputs": [],
   "source": [
    "from sklearn.decomposition import PCA\n",
    "\n",
    "# 初始化 PCA，设置降维后的主成分数为2\n",
    "pca = PCA(n_components=2)\n",
    "encoded_imgs_2d = pca.fit_transform(encoded_imgs)  # 对编码后的图片应用PCA\n"
   ]
  },
  {
   "cell_type": "code",
   "execution_count": 13,
   "id": "ad442dcb",
   "metadata": {},
   "outputs": [
    {
     "data": {
      "text/plain": [
       "Text(0.5, 1.0, 'PCA of Encoded Images with Labels')"
      ]
     },
     "execution_count": 13,
     "metadata": {},
     "output_type": "execute_result"
    },
    {
     "data": {
      "image/png": "[encoded data removed]",
      "text/plain": [
       "<Figure size 1000x800 with 2 Axes>"
      ]
     },
     "metadata": {},
     "output_type": "display_data"
    }
   ],
   "source": [
    "import matplotlib.pyplot as plt\n",
    "\n",
    "plt.figure(figsize=(10, 8))\n",
    "scatter = plt.scatter(encoded_imgs_2d[:, 0], encoded_imgs_2d[:, 1], c=y_test, cmap='CMRmap_r', alpha=0.5)\n",
    "plt.colorbar(scatter)  # 显示颜色条\n",
    "plt.xlabel('Principal Component 1')\n",
    "plt.ylabel('Principal Component 2')\n",
    "plt.title('PCA of Encoded Images with Labels')\n"
   ]
  },
  {
   "cell_type": "code",
   "execution_count": null,
   "id": "b5a338e4-6059-4724-8c2c-78413b604901",
   "metadata": {},
   "outputs": [],
   "source": []
  }
 ],
 "metadata": {
  "kernelspec": {
   "display_name": "Python [conda env:NYCU_py39_2024] *",
   "language": "python",
   "name": "conda-env-NYCU_py39_2024-py"
  },
  "language_info": {
   "codemirror_mode": {
    "name": "ipython",
    "version": 3
   },
   "file_extension": ".py",
   "mimetype": "text/x-python",
   "name": "python",
   "nbconvert_exporter": "python",
   "pygments_lexer": "ipython3",
   "version": "3.9.18"
  }
 },
 "nbformat": 4,
 "nbformat_minor": 5
}
