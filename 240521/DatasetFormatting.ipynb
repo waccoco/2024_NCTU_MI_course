{
 "cells": [
  {
   "cell_type": "code",
   "execution_count": 1,
   "id": "further-belize",
   "metadata": {
    "id": "further-belize"
   },
   "outputs": [],
   "source": [
    "import os \n",
    "import sys\n",
    "import h5py\n",
    "import pandas as pd\n",
    "import numpy as np\n",
    "import matplotlib.pyplot as plt"
   ]
  },
  {
   "cell_type": "code",
   "execution_count": 2,
   "id": "JdZWUNzmmQCe",
   "metadata": {
    "colab": {
     "base_uri": "https://localhost:8080/"
    },
    "id": "JdZWUNzmmQCe",
    "outputId": "921d45e9-3dd8-4587-a064-3c4221ca8a66"
   },
   "outputs": [
    {
     "name": "stdout",
     "output_type": "stream",
     "text": [
      "Mounted at /content/drive\n"
     ]
    }
   ],
   "source": [
    "from google.colab import drive\n",
    "drive.mount('/content/drive')"
   ]
  },
  {
   "cell_type": "code",
   "execution_count": null,
   "id": "73AU4sMcnY2M",
   "metadata": {
    "colab": {
     "base_uri": "https://localhost:8080/"
    },
    "id": "73AU4sMcnY2M",
    "outputId": "36caf752-feb0-4d54-c394-b2cccc4169ee"
   },
   "outputs": [
    {
     "name": "stdout",
     "output_type": "stream",
     "text": [
      "(239, 1, 256, 256) (239, 1, 256, 256)\n",
      "(239, 1, 256, 256) (239, 1, 256, 256)\n",
      "(239, 1, 256, 256) (239, 1, 256, 256)\n",
      "(239, 1, 256, 256) (239, 1, 256, 256)\n",
      "(239, 1, 256, 256) (239, 1, 256, 256)\n"
     ]
    }
   ],
   "source": [
    "dataset_1 = np.load('/content/drive/MyDrive/AtomfinderProject/Data/AtomAI_Generality/1/Augtrainset.npz')\n",
    "images_1 = dataset_1['X_train']\n",
    "labels_1 = dataset_1['y_train']\n",
    "images_test_1 = dataset_1['X_test']\n",
    "labels_test_1 = dataset_1['y_test']\n",
    "print(images_1.shape, labels_1.shape)\n",
    "\n",
    "dataset_2 = np.load('/content/drive/MyDrive/AtomfinderProject/Data/AtomAI_Generality/2/Augtrainset.npz')\n",
    "images_2 = dataset_2['X_train']\n",
    "labels_2 = dataset_2['y_train']\n",
    "images_test_2 = dataset_2['X_test']\n",
    "labels_test_2 = dataset_2['y_test']\n",
    "print(images_2.shape, labels_2.shape)\n",
    "\n",
    "dataset_3 = np.load('/content/drive/MyDrive/AtomfinderProject/Data/AtomAI_Generality/3/Augtrainset.npz')\n",
    "images_3 = dataset_3['X_train']\n",
    "labels_3 = dataset_3['y_train']\n",
    "images_test_3 = dataset_3['X_test']\n",
    "labels_test_3 = dataset_3['y_test']\n",
    "print(images_3.shape, labels_3.shape)\n",
    "\n",
    "dataset_4 = np.load('/content/drive/MyDrive/AtomfinderProject/Data/AtomAI_Generality/4/Augtrainset.npz')\n",
    "images_4 = dataset_4['X_train']\n",
    "labels_4 = dataset_4['y_train']\n",
    "images_test_4 = dataset_4['X_test']\n",
    "labels_test_4 = dataset_4['y_test']\n",
    "print(images_4.shape, labels_4.shape)\n",
    "\n",
    "dataset_5 = np.load('/content/drive/MyDrive/AtomfinderProject/Data/AtomAI_Generality/5/Augtrainset.npz')\n",
    "images_5 = dataset_5['X_train']\n",
    "labels_5 = dataset_5['y_train']\n",
    "images_test_5 = dataset_5['X_test']\n",
    "labels_test_5 = dataset_5['y_test']\n",
    "print(images_5.shape, labels_5.shape)"
   ]
  },
  {
   "cell_type": "code",
   "execution_count": null,
   "id": "boPG-8-R7g2b",
   "metadata": {
    "id": "boPG-8-R7g2b"
   },
   "outputs": [],
   "source": [
    "a = np.vstack()"
   ]
  },
  {
   "cell_type": "code",
   "execution_count": null,
   "id": "0f6065f6-090d-4e5b-9d3c-eba3df593ed3",
   "metadata": {
    "colab": {
     "base_uri": "https://localhost:8080/"
    },
    "id": "0f6065f6-090d-4e5b-9d3c-eba3df593ed3",
    "outputId": "085883c3-99ea-4f6d-aadf-00f87fc36553"
   },
   "outputs": [
    {
     "data": {
      "text/plain": [
       "((1495, 256, 256), (1495, 256, 256))"
      ]
     },
     "execution_count": 7,
     "metadata": {},
     "output_type": "execute_result"
    }
   ],
   "source": [
    "data ={\n",
    "    \"labels\":[],\n",
    "    \"imgs\":[],\n",
    "    }\n",
    "\n",
    "data['labels'] = np.vstack((labels_1,labels_test_1,\n",
    "                            labels_2,labels_test_2,\n",
    "                            labels_3,labels_test_3,\n",
    "                            labels_4,labels_test_4,\n",
    "                            labels_5,labels_test_5))[:,0,:,:]\n",
    "data['imgs'] = np.vstack((images_1,images_test_1,\n",
    "                          images_2,images_test_2,\n",
    "                          images_3,images_test_3,\n",
    "                          images_4,images_test_4,\n",
    "                          images_5,images_test_5,))[:,0,:,:]\n",
    "data['imgs'].shape,data['labels'].shape"
   ]
  },
  {
   "cell_type": "markdown",
   "id": "70af5f61-5164-4948-8878-cffdfd16c94a",
   "metadata": {
    "id": "70af5f61-5164-4948-8878-cffdfd16c94a"
   },
   "source": [
    "## Create groups and datasets from the stacked data"
   ]
  },
  {
   "cell_type": "code",
   "execution_count": null,
   "id": "2223eccb-b065-4043-bdcc-dd60d3c3cdc4",
   "metadata": {
    "colab": {
     "base_uri": "https://localhost:8080/"
    },
    "id": "2223eccb-b065-4043-bdcc-dd60d3c3cdc4",
    "outputId": "5f5f8ddc-8ef6-4396-badc-1e5a21c0a6ae"
   },
   "outputs": [
    {
     "name": "stdout",
     "output_type": "stream",
     "text": [
      "=== Creating Group labels ===\n",
      "=== Creating Group imgs ===\n"
     ]
    }
   ],
   "source": [
    "types = ['labels','imgs']\n",
    "f = h5py.File('/content/drive/MyDrive/AtomfinderProject/FoundryPublish/dataset/AtomaiTraining.h5', 'w')\n",
    "for t in types:\n",
    "    print(f\"=== Creating Group {t} ===\")\n",
    "    f.create_group(t)\n",
    "    \n",
    "    for i, d in enumerate(data[t]):\n",
    "        f.create_dataset(f'{t}/{i:04}', data=d)\n",
    "f.close()"
   ]
  },
  {
   "cell_type": "markdown",
   "id": "82b35404-1f5f-4da6-a8b9-762e4bb8889b",
   "metadata": {
    "id": "82b35404-1f5f-4da6-a8b9-762e4bb8889b"
   },
   "source": [
    "# Test and View Dataset Shape"
   ]
  },
  {
   "cell_type": "code",
   "execution_count": null,
   "id": "b76d7dd2-2092-492b-8648-198d5f02e643",
   "metadata": {
    "colab": {
     "base_uri": "https://localhost:8080/"
    },
    "id": "b76d7dd2-2092-492b-8648-198d5f02e643",
    "outputId": "178c33c2-cb00-439d-e93f-513837d1d4c9"
   },
   "outputs": [
    {
     "data": {
      "text/plain": [
       "<KeysViewHDF5 ['imgs', 'labels']>"
      ]
     },
     "execution_count": 9,
     "metadata": {},
     "output_type": "execute_result"
    }
   ],
   "source": [
    "f = h5py.File('/content/drive/MyDrive/AtomfinderProject/FoundryPublish/dataset/AtomaiTraining.h5', 'r')\n",
    "key_list = list(f['imgs'].keys())\n",
    "\n",
    "f.keys()"
   ]
  },
  {
   "cell_type": "code",
   "execution_count": null,
   "id": "186fc52d-a90c-46fb-870c-a8fd8b288531",
   "metadata": {
    "colab": {
     "base_uri": "https://localhost:8080/"
    },
    "id": "186fc52d-a90c-46fb-870c-a8fd8b288531",
    "outputId": "bbd5bd0a-4caa-4223-e563-97ac6e3d770f"
   },
   "outputs": [
    {
     "data": {
      "text/plain": [
       "<HDF5 dataset \"0000\": shape (256, 256), type \"<f8\">"
      ]
     },
     "execution_count": 10,
     "metadata": {},
     "output_type": "execute_result"
    }
   ],
   "source": [
    "f['imgs'][key_list[0]]"
   ]
  },
  {
   "cell_type": "code",
   "execution_count": null,
   "id": "2838dd77-2291-4745-adb0-edfb173c6797",
   "metadata": {
    "colab": {
     "base_uri": "https://localhost:8080/",
     "height": 287
    },
    "id": "2838dd77-2291-4745-adb0-edfb173c6797",
    "outputId": "387d36a2-cb69-41d4-fc09-47cf3dfe9e0e"
   },
   "outputs": [
    {
     "data": {
      "text/plain": [
       "<matplotlib.image.AxesImage at 0x7f77e7a1b910>"
      ]
     },
     "execution_count": 13,
     "metadata": {},
     "output_type": "execute_result"
    },
    {
     "data": {
      "image/png": "[encoded data removed]",
      "text/plain": [
       "<Figure size 432x288 with 1 Axes>"
      ]
     },
     "metadata": {
      "needs_background": "light"
     },
     "output_type": "display_data"
    }
   ],
   "source": [
    "plt.imshow(f['labels'][key_list[6]])"
   ]
  },
  {
   "cell_type": "markdown",
   "id": "tFxvIydk-mKh",
   "metadata": {
    "id": "tFxvIydk-mKh"
   },
   "source": [
    "# Publish to Foundry"
   ]
  },
  {
   "cell_type": "code",
   "execution_count": 1,
   "id": "crkp4CV_CIkv",
   "metadata": {
    "id": "crkp4CV_CIkv"
   },
   "outputs": [],
   "source": [
    "data_source = \"https://app.globus.org/file-manager?origin_id=4e056118-f39e-11ea-8197-0e2f230cc907&origin_path=%2FD%2FAtomfinder%2Ffoundrypublish%2F\""
   ]
  },
  {
   "cell_type": "code",
   "execution_count": 2,
   "id": "LCOmgKYcJwnD",
   "metadata": {
    "id": "LCOmgKYcJwnD"
   },
   "outputs": [],
   "source": [
    "metadata = {\n",
    "    \"short_name\": \"wei_atom_locating_train\",\n",
    "    \"data_type\": \"hdf5\",\n",
    "    'task_type': ['supervised'],\n",
    "    'domain': ['materials science'],\n",
    "    'n_items': 1495,\n",
    "    'splits': [\n",
    "        {'label': 'train', 'path': 'AtomaiTraining.h5', 'type': 'train'},\n",
    "    ],\n",
    "    \"keys\":[\n",
    "        {\n",
    "            \"key\": [\"imgs\"],\n",
    "            \"type\": \"input\",\n",
    "            \"description\": \"input, unlabeled images, covering 5 different crystal lattices (SrTiO3[100], SrTiO3[110], WS2[0001], Si[110], and DyScO3[110]) and various image quality\"\n",
    "        },\n",
    "        {\n",
    "            \"key\": [\"labels\"],\n",
    "            \"type\": \"target\",\n",
    "            \"description\": \"sepal width in unit(cm)\"\n",
    "        },\n",
    "        {\n",
    "            \"key\": [\"petal length (cm)\"],\n",
    "            \"type\": \"input\",\n",
    "            \"units\": \"cm\",\n",
    "            \"description\": \"label, binary mask at atomic column positions\"\n",
    "        },\n",
    "    ],    \n",
    "}"
   ]
  },
  {
   "cell_type": "code",
   "execution_count": 3,
   "id": "oBpPdE8lF8gl",
   "metadata": {
    "id": "oBpPdE8lF8gl"
   },
   "outputs": [],
   "source": [
    "# full title of dataset\n",
    "title = \"Training Dataset for Locating Atoms in STEM images \"\n",
    "\n",
    "# authors to list \n",
    "authors = [\"Jingrui Wei\", \"Ben Blaiszik\", \"Dane Morgan\", \"Paul M Voyles\"]\n",
    "\n",
    "# publication year (optional)\n",
    "# The default is the current calendar year\n",
    "publication_year = 2022\n"
   ]
  },
  {
   "cell_type": "code",
   "execution_count": 4,
   "id": "jemnAMjiISxM",
   "metadata": {
    "id": "jemnAMjiISxM"
   },
   "outputs": [
    {
     "name": "stdout",
     "output_type": "stream",
     "text": [
      "Collecting foundry_ml\n",
      "  Downloading foundry_ml-0.2.0-py3-none-any.whl (19 kB)\n",
      "Collecting mdf-forge>=0.8.0\n",
      "  Downloading mdf_forge-0.8.0-py2.py3-none-any.whl (17 kB)\n",
      "Requirement already satisfied: pandas>=0.23.4 in g:\\anaconda3\\lib\\site-packages (from foundry_ml) (1.3.4)\n",
      "Collecting globus-sdk<4,>=3\n",
      "  Downloading globus_sdk-3.8.0-py3-none-any.whl (162 kB)\n",
      "Collecting dlhub-sdk>=0.10.2\n",
      "  Downloading dlhub_sdk-0.10.2-py2.py3-none-any.whl (42 kB)\n",
      "Collecting mdf-connect-client>=0.4.0\n",
      "  Downloading mdf_connect_client-0.4.0-py2.py3-none-any.whl (19 kB)\n",
      "Collecting json2table\n",
      "  Using cached json2table-1.1.5-py2.py3-none-any.whl (8.7 kB)\n",
      "Requirement already satisfied: numpy>=1.15.4 in g:\\anaconda3\\lib\\site-packages (from foundry_ml) (1.20.3)\n",
      "Requirement already satisfied: h5py>=2.10.0 in g:\\anaconda3\\lib\\site-packages (from foundry_ml) (3.2.1)\n",
      "Collecting pydantic>=1.4\n",
      "  Downloading pydantic-1.9.0-cp39-cp39-win_amd64.whl (2.1 MB)\n",
      "Requirement already satisfied: joblib>=1.0.0 in g:\\anaconda3\\lib\\site-packages (from foundry_ml) (1.1.0)\n",
      "Collecting mdf-toolbox>=0.5.4\n",
      "  Downloading mdf_toolbox-0.6.0-py2.py3-none-any.whl (35 kB)\n",
      "Requirement already satisfied: requests>=2.24.0 in g:\\anaconda3\\lib\\site-packages (from dlhub-sdk>=0.10.2->foundry_ml) (2.26.0)\n",
      "Collecting funcx>=0.3.6\n",
      "  Downloading funcx-0.3.9-py3-none-any.whl (53 kB)\n",
      "Requirement already satisfied: jsonschema>=3.2.0 in g:\\anaconda3\\lib\\site-packages (from dlhub-sdk>=0.10.2->foundry_ml) (3.2.0)\n",
      "Collecting websockets==9.1\n",
      "  Downloading websockets-9.1-cp39-cp39-win_amd64.whl (90 kB)\n",
      "Collecting dill==0.3.4\n",
      "  Downloading dill-0.3.4-py2.py3-none-any.whl (86 kB)\n",
      "Collecting texttable<2,>=1.6.4\n",
      "  Downloading texttable-1.6.4-py2.py3-none-any.whl (10 kB)\n",
      "Collecting fair-research-login==0.2.6\n",
      "  Downloading fair_research_login-0.2.6-py2.py3-none-any.whl (28 kB)\n",
      "Requirement already satisfied: six in g:\\anaconda3\\lib\\site-packages (from fair-research-login==0.2.6->funcx>=0.3.6->dlhub-sdk>=0.10.2->foundry_ml) (1.16.0)\n",
      "Requirement already satisfied: cryptography!=3.4.0,>=3.3.1 in g:\\anaconda3\\lib\\site-packages (from globus-sdk<4,>=3->foundry_ml) (3.4.8)\n",
      "Collecting typing-extensions>=4.0\n",
      "  Downloading typing_extensions-4.2.0-py3-none-any.whl (24 kB)\n",
      "Requirement already satisfied: pyjwt[crypto]<3.0.0,>=2.0.0 in g:\\anaconda3\\lib\\site-packages (from globus-sdk<4,>=3->foundry_ml) (2.1.0)\n",
      "Requirement already satisfied: cffi>=1.12 in g:\\anaconda3\\lib\\site-packages (from cryptography!=3.4.0,>=3.3.1->globus-sdk<4,>=3->foundry_ml) (1.14.6)\n",
      "Requirement already satisfied: pycparser in g:\\anaconda3\\lib\\site-packages (from cffi>=1.12->cryptography!=3.4.0,>=3.3.1->globus-sdk<4,>=3->foundry_ml) (2.20)\n",
      "Requirement already satisfied: setuptools in g:\\anaconda3\\lib\\site-packages (from jsonschema>=3.2.0->dlhub-sdk>=0.10.2->foundry_ml) (58.0.4)\n",
      "Requirement already satisfied: pyrsistent>=0.14.0 in g:\\anaconda3\\lib\\site-packages (from jsonschema>=3.2.0->dlhub-sdk>=0.10.2->foundry_ml) (0.18.0)\n",
      "Requirement already satisfied: attrs>=17.4.0 in g:\\anaconda3\\lib\\site-packages (from jsonschema>=3.2.0->dlhub-sdk>=0.10.2->foundry_ml) (21.2.0)\n",
      "Collecting nameparser>=1.0.4\n",
      "  Downloading nameparser-1.1.1-py2.py3-none-any.whl (24 kB)\n",
      "Requirement already satisfied: tqdm>=4.19.4 in g:\\anaconda3\\lib\\site-packages (from mdf-forge>=0.8.0->foundry_ml) (4.62.3)\n",
      "Collecting globus-nexus-client>=0.4.1\n",
      "  Downloading globus_nexus_client-0.4.1-py3-none-any.whl (9.2 kB)\n",
      "Requirement already satisfied: python-dateutil>=2.7.3 in g:\\anaconda3\\lib\\site-packages (from pandas>=0.23.4->foundry_ml) (2.8.2)\n",
      "Requirement already satisfied: pytz>=2017.3 in g:\\anaconda3\\lib\\site-packages (from pandas>=0.23.4->foundry_ml) (2021.3)\n",
      "Requirement already satisfied: charset-normalizer~=2.0.0 in g:\\anaconda3\\lib\\site-packages (from requests>=2.24.0->dlhub-sdk>=0.10.2->foundry_ml) (2.0.4)\n",
      "Requirement already satisfied: certifi>=2017.4.17 in g:\\anaconda3\\lib\\site-packages (from requests>=2.24.0->dlhub-sdk>=0.10.2->foundry_ml) (2021.10.8)\n",
      "Requirement already satisfied: idna<4,>=2.5 in g:\\anaconda3\\lib\\site-packages (from requests>=2.24.0->dlhub-sdk>=0.10.2->foundry_ml) (3.2)\n",
      "Requirement already satisfied: urllib3<1.27,>=1.21.1 in g:\\anaconda3\\lib\\site-packages (from requests>=2.24.0->dlhub-sdk>=0.10.2->foundry_ml) (1.26.7)\n",
      "Requirement already satisfied: colorama in g:\\anaconda3\\lib\\site-packages (from tqdm>=4.19.4->mdf-forge>=0.8.0->foundry_ml) (0.4.4)\n",
      "Installing collected packages: typing-extensions, globus-sdk, websockets, texttable, globus-nexus-client, fair-research-login, dill, pydantic, nameparser, mdf-toolbox, funcx, mdf-forge, mdf-connect-client, json2table, dlhub-sdk, foundry-ml\n",
      "  Attempting uninstall: typing-extensions\n",
      "    Found existing installation: typing-extensions 3.10.0.2\n",
      "    Uninstalling typing-extensions-3.10.0.2:\n",
      "      Successfully uninstalled typing-extensions-3.10.0.2\n",
      "Successfully installed dill-0.3.4 dlhub-sdk-0.10.2 fair-research-login-0.2.6 foundry-ml-0.2.0 funcx-0.3.9 globus-nexus-client-0.4.1 globus-sdk-3.8.0 json2table-1.1.5 mdf-connect-client-0.4.0 mdf-forge-0.8.0 mdf-toolbox-0.6.0 nameparser-1.1.1 pydantic-1.9.0 texttable-1.6.4 typing-extensions-4.2.0 websockets-9.1\n",
      "alabaster @ file:///home/ktietz/src/ci/alabaster_1611921544520/work\n",
      "anaconda-client @ file:///C:/ci/anaconda-client_1635342725944/work\n",
      "anaconda-navigator==2.1.4\n",
      "anaconda-project @ file:///tmp/build/80754af9/anaconda-project_1626085644852/work\n",
      "anyio @ file:///C:/ci/anyio_1620153135622/work/dist\n",
      "appdirs==1.4.4\n",
      "argh==0.26.2\n",
      "argon2-cffi @ file:///C:/ci/argon2-cffi_1613037869401/work\n",
      "arrow @ file:///C:/ci/arrow_1617738834352/work\n",
      "asn1crypto @ file:///tmp/build/80754af9/asn1crypto_1596577642040/work\n",
      "astroid @ file:///C:/ci/astroid_1628063282661/work\n",
      "astropy @ file:///C:/ci/astropy_1629829318700/work\n",
      "async-generator @ file:///home/ktietz/src/ci/async_generator_1611927993394/work\n",
      "atomicwrites==1.4.0\n",
      "attrs @ file:///tmp/build/80754af9/attrs_1620827162558/work\n",
      "autopep8 @ file:///tmp/build/80754af9/autopep8_1620866417880/work\n",
      "Babel @ file:///tmp/build/80754af9/babel_1620871417480/work\n",
      "backcall @ file:///home/ktietz/src/ci/backcall_1611930011877/work\n",
      "backports.functools-lru-cache @ file:///tmp/build/80754af9/backports.functools_lru_cache_1618170165463/work\n",
      "backports.shutil-get-terminal-size @ file:///tmp/build/80754af9/backports.shutil_get_terminal_size_1608222128777/work\n",
      "backports.tempfile @ file:///home/linux1/recipes/ci/backports.tempfile_1610991236607/work\n",
      "backports.weakref==1.0.post1\n",
      "bcrypt @ file:///C:/ci/bcrypt_1607022693089/work\n",
      "beautifulsoup4 @ file:///tmp/build/80754af9/beautifulsoup4_1631874778482/work\n",
      "binaryornot @ file:///tmp/build/80754af9/binaryornot_1617751525010/work\n",
      "bitarray @ file:///C:/ci/bitarray_1629133068652/work\n",
      "bkcharts==0.2\n",
      "black==19.10b0\n",
      "bleach @ file:///tmp/build/80754af9/bleach_1628110601003/work\n",
      "bokeh @ file:///C:/ci/bokeh_1635306491714/work\n",
      "boto==2.49.0\n",
      "Bottleneck @ file:///C:/ci/bottleneck_1607557040328/work\n",
      "brotlipy==0.7.0\n",
      "cached-property @ file:///tmp/build/80754af9/cached-property_1600785575025/work\n",
      "certifi==2021.10.8\n",
      "cffi @ file:///C:/ci/cffi_1625831756778/work\n",
      "chardet @ file:///C:/ci/chardet_1607706937985/work\n",
      "charset-normalizer @ file:///tmp/build/80754af9/charset-normalizer_1630003229654/work\n",
      "click==8.0.3\n",
      "cloudpickle @ file:///tmp/build/80754af9/cloudpickle_1632508026186/work\n",
      "clyent==1.2.2\n",
      "colorama @ file:///tmp/build/80754af9/colorama_1607707115595/work\n",
      "comtypes==1.1.10\n",
      "conda==4.12.0\n",
      "conda-build==3.21.6\n",
      "conda-content-trust @ file:///tmp/build/80754af9/conda-content-trust_1617045594566/work\n",
      "conda-pack @ file:///tmp/build/80754af9/conda-pack_1611163042455/work\n",
      "conda-package-handling @ file:///C:/ci/conda-package-handling_1618262410900/work\n",
      "conda-repo-cli @ file:///tmp/build/80754af9/conda-repo-cli_1620168426516/work\n",
      "conda-token @ file:///tmp/build/80754af9/conda-token_1620076980546/work\n",
      "conda-verify==3.4.2\n",
      "contextlib2 @ file:///Users/ktietz/demo/mc3/conda-bld/contextlib2_1630668244042/work\n",
      "cookiecutter @ file:///tmp/build/80754af9/cookiecutter_1617748928239/work\n",
      "cryptography @ file:///C:/ci/cryptography_1633520531101/work\n",
      "cycler==0.10.0\n",
      "Cython @ file:///C:/ci/cython_1636018292912/work\n",
      "cytoolz==0.11.0\n",
      "daal4py==2021.3.0\n",
      "dask==2021.10.0\n",
      "debugpy @ file:///C:/ci/debugpy_1629222819322/work\n",
      "decorator @ file:///tmp/build/80754af9/decorator_1632776554403/work\n",
      "defusedxml @ file:///tmp/build/80754af9/defusedxml_1615228127516/work\n",
      "diff-match-patch @ file:///Users/ktietz/demo/mc3/conda-bld/diff-match-patch_1630511840874/work\n",
      "dill==0.3.4\n",
      "distlib==0.3.4\n",
      "distributed @ file:///C:/ci/distributed_1635968318313/work\n",
      "dlhub-sdk==0.10.2\n",
      "docutils @ file:///C:/ci/docutils_1620828264669/work\n",
      "entrypoints==0.3\n",
      "et-xmlfile==1.1.0\n",
      "fair-research-login==0.2.6\n",
      "fastcache @ file:///C:/ci/fastcache_1607571310570/work\n",
      "filelock @ file:///tmp/build/80754af9/filelock_1635402558181/work\n",
      "flake8 @ file:///tmp/build/80754af9/flake8_1620776156532/work\n",
      "Flask @ file:///home/ktietz/src/ci/flask_1611932660458/work\n",
      "fonttools==4.25.0\n",
      "foundry-ml==0.2.0\n",
      "fsspec @ file:///tmp/build/80754af9/fsspec_1636116461911/work\n",
      "funcx==0.3.9\n",
      "future @ file:///C:/ci/future_1607568713721/work\n",
      "gevent @ file:///C:/ci/gevent_1628273776273/work\n",
      "glob2 @ file:///home/linux1/recipes/ci/glob2_1610991677669/work\n",
      "globus-nexus-client==0.4.1\n",
      "globus-sdk==3.8.0\n",
      "greenlet @ file:///C:/ci/greenlet_1628888275363/work\n",
      "h5py @ file:///C:/ci/h5py_1622088609188/work\n",
      "HeapDict @ file:///Users/ktietz/demo/mc3/conda-bld/heapdict_1630598515714/work\n",
      "html5lib @ file:///Users/ktietz/demo/mc3/conda-bld/html5lib_1629144453894/work\n",
      "idna @ file:///tmp/build/80754af9/idna_1622654382723/work\n",
      "imagecodecs @ file:///C:/ci/imagecodecs_1635511087451/work\n",
      "imageio @ file:///tmp/build/80754af9/imageio_1617700267927/work\n",
      "imagesize @ file:///Users/ktietz/demo/mc3/conda-bld/imagesize_1628863108022/work\n",
      "importlib-metadata @ file:///C:/ci/importlib-metadata_1631916826748/work\n",
      "inflection==0.5.1\n",
      "iniconfig @ file:///home/linux1/recipes/ci/iniconfig_1610983019677/work\n",
      "intervaltree @ file:///Users/ktietz/demo/mc3/conda-bld/intervaltree_1630511889664/work\n",
      "ipykernel @ file:///C:/ci/ipykernel_1633545585502/work/dist/ipykernel-6.4.1-py3-none-any.whl\n",
      "ipython @ file:///C:/ci/ipython_1635944283918/work\n",
      "ipython-genutils @ file:///tmp/build/80754af9/ipython_genutils_1606773439826/work\n",
      "ipywidgets @ file:///tmp/build/80754af9/ipywidgets_1634143127070/work\n",
      "isort @ file:///tmp/build/80754af9/isort_1628603791788/work\n",
      "itsdangerous @ file:///tmp/build/80754af9/itsdangerous_1621432558163/work\n",
      "jdcal @ file:///Users/ktietz/demo/mc3/conda-bld/jdcal_1630584345063/work\n",
      "jedi @ file:///C:/ci/jedi_1611341083684/work\n",
      "Jinja2 @ file:///tmp/build/80754af9/jinja2_1612213139570/work\n",
      "jinja2-time @ file:///tmp/build/80754af9/jinja2-time_1617751524098/work\n",
      "joblib @ file:///tmp/build/80754af9/joblib_1635411271373/work\n",
      "json2table==1.1.5\n",
      "json5 @ file:///tmp/build/80754af9/json5_1624432770122/work\n",
      "jsonschema @ file:///Users/ktietz/demo/mc3/conda-bld/jsonschema_1630511932244/work\n",
      "jupyter @ file:///C:/ci/jupyter_1607685287094/work\n",
      "jupyter-client @ file:///tmp/build/80754af9/jupyter_client_1616770841739/work\n",
      "jupyter-console @ file:///tmp/build/80754af9/jupyter_console_1616615302928/work\n",
      "jupyter-core @ file:///C:/ci/jupyter_core_1633420716440/work\n",
      "jupyter-server @ file:///C:/ci/jupyter_server_1616084298419/work\n",
      "jupyterlab @ file:///tmp/build/80754af9/jupyterlab_1635799997693/work\n",
      "jupyterlab-pygments @ file:///tmp/build/80754af9/jupyterlab_pygments_1601490720602/work\n",
      "jupyterlab-server @ file:///tmp/build/80754af9/jupyterlab_server_1633419203660/work\n",
      "jupyterlab-widgets @ file:///tmp/build/80754af9/jupyterlab_widgets_1609884341231/work\n",
      "keyring @ file:///C:/ci/keyring_1629321702436/work\n",
      "kiwisolver @ file:///C:/ci/kiwisolver_1612282555033/work\n",
      "lazy-object-proxy @ file:///C:/ci/lazy-object-proxy_1616529288960/work\n",
      "libarchive-c @ file:///tmp/build/80754af9/python-libarchive-c_1617780486945/work\n",
      "llvmlite==0.37.0\n",
      "locket==0.2.1\n",
      "lxml @ file:///C:/ci/lxml_1616443418777/work\n",
      "MarkupSafe @ file:///C:/ci/markupsafe_1607027406824/work\n",
      "matplotlib @ file:///C:/ci/matplotlib-suite_1634667159685/work\n",
      "matplotlib-inline @ file:///tmp/build/80754af9/matplotlib-inline_1628242447089/work\n",
      "mccabe==0.6.1\n",
      "mdf-connect-client==0.4.0\n",
      "mdf-forge==0.8.0\n",
      "mdf-toolbox==0.6.0\n",
      "menuinst @ file:///C:/ci/menuinst_1631733438520/work\n",
      "mistune @ file:///C:/ci/mistune_1607359457024/work\n",
      "mkl-fft==1.3.1\n",
      "mkl-random @ file:///C:/ci/mkl_random_1626186184308/work\n",
      "mkl-service==2.4.0\n",
      "mock @ file:///tmp/build/80754af9/mock_1607622725907/work\n",
      "more-itertools @ file:///tmp/build/80754af9/more-itertools_1635423142362/work\n",
      "mpmath==1.2.1\n",
      "msgpack @ file:///C:/ci/msgpack-python_1612287350784/work\n",
      "multipledispatch @ file:///C:/ci/multipledispatch_1607574329826/work\n",
      "munkres==1.1.4\n",
      "mypy-extensions==0.4.3\n",
      "nameparser==1.1.1\n",
      "navigator-updater==0.2.1\n",
      "nbclassic @ file:///tmp/build/80754af9/nbclassic_1616085367084/work\n",
      "nbclient @ file:///tmp/build/80754af9/nbclient_1614364831625/work\n",
      "nbconvert @ file:///C:/ci/nbconvert_1624479160025/work\n",
      "nbformat @ file:///tmp/build/80754af9/nbformat_1617383369282/work\n",
      "nest-asyncio @ file:///tmp/build/80754af9/nest-asyncio_1613680548246/work\n",
      "networkx @ file:///tmp/build/80754af9/networkx_1633639043937/work\n",
      "nltk==3.6.5\n",
      "nose @ file:///tmp/build/80754af9/nose_1606773131901/work\n",
      "notebook @ file:///C:/ci/notebook_1635393701545/work\n",
      "numba @ file:///C:/ci/numba_1635186062888/work\n",
      "numexpr @ file:///C:/ci/numexpr_1618856728739/work\n",
      "numpy @ file:///C:/ci/numpy_and_numpy_base_1626271900803/work\n",
      "numpydoc @ file:///tmp/build/80754af9/numpydoc_1605117425582/work\n",
      "olefile @ file:///Users/ktietz/demo/mc3/conda-bld/olefile_1629805411829/work\n",
      "openpyxl @ file:///tmp/build/80754af9/openpyxl_1632777717936/work\n",
      "packaging @ file:///tmp/build/80754af9/packaging_1625611678980/work\n",
      "pandas @ file:///C:/ci/pandas_1635506685681/work\n",
      "pandocfilters @ file:///C:/ci/pandocfilters_1605114832805/work\n",
      "paramiko @ file:///tmp/build/80754af9/paramiko_1598886428689/work\n",
      "parso @ file:///tmp/build/80754af9/parso_1617223946239/work\n",
      "partd @ file:///tmp/build/80754af9/partd_1618000087440/work\n",
      "path @ file:///C:/ci/path_1624287837534/work\n",
      "pathlib2 @ file:///C:/ci/pathlib2_1625585796814/work\n",
      "pathspec==0.7.0\n",
      "patsy==0.5.2\n",
      "pep8==1.7.1\n",
      "pexpect @ file:///tmp/build/80754af9/pexpect_1605563209008/work\n",
      "pickleshare @ file:///tmp/build/80754af9/pickleshare_1606932040724/work\n",
      "Pillow==8.4.0\n",
      "pipenv==2022.3.28\n",
      "pkginfo==1.7.1\n",
      "platformdirs==2.5.1\n",
      "pluggy @ file:///C:/ci/pluggy_1615976440052/work\n",
      "ply==3.11\n",
      "poyo @ file:///tmp/build/80754af9/poyo_1617751526755/work\n",
      "prometheus-client @ file:///tmp/build/80754af9/prometheus_client_1623189609245/work\n",
      "prompt-toolkit @ file:///tmp/build/80754af9/prompt-toolkit_1633440160888/work\n",
      "psutil @ file:///C:/ci/psutil_1612298199233/work\n",
      "ptyprocess @ file:///tmp/build/80754af9/ptyprocess_1609355006118/work/dist/ptyprocess-0.7.0-py2.py3-none-any.whl\n",
      "py @ file:///tmp/build/80754af9/py_1607971587848/work\n",
      "pycodestyle @ file:///tmp/build/80754af9/pycodestyle_1615748559966/work\n",
      "pycosat==0.6.3\n",
      "pycparser @ file:///tmp/build/80754af9/pycparser_1594388511720/work\n",
      "pycurl==7.44.1\n",
      "pydantic==1.9.0\n",
      "pydocstyle @ file:///tmp/build/80754af9/pydocstyle_1621600989141/work\n",
      "pyerfa @ file:///C:/ci/pyerfa_1621560974055/work\n",
      "pyflakes @ file:///tmp/build/80754af9/pyflakes_1617200973297/work\n",
      "Pygments @ file:///tmp/build/80754af9/pygments_1629234116488/work\n",
      "PyJWT @ file:///C:/ci/pyjwt_1619682721924/work\n",
      "pylint @ file:///C:/ci/pylint_1627536884966/work\n",
      "pyls-spyder==0.4.0\n",
      "PyNaCl @ file:///C:/ci/pynacl_1607612759007/work\n",
      "pyodbc===4.0.0-unsupported\n",
      "pyOpenSSL @ file:///tmp/build/80754af9/pyopenssl_1635333100036/work\n",
      "pyparsing @ file:///tmp/build/80754af9/pyparsing_1635766073266/work\n",
      "pyreadline==2.1\n",
      "pyrsistent @ file:///C:/ci/pyrsistent_1636093225342/work\n",
      "PySocks @ file:///C:/ci/pysocks_1605307512533/work\n",
      "pytest==6.2.4\n",
      "python-dateutil @ file:///tmp/build/80754af9/python-dateutil_1626374649649/work\n",
      "python-lsp-black @ file:///tmp/build/80754af9/python-lsp-black_1634232156041/work\n",
      "python-lsp-jsonrpc==1.0.0\n",
      "python-lsp-server==1.2.4\n",
      "python-slugify @ file:///tmp/build/80754af9/python-slugify_1620405669636/work\n",
      "pytz==2021.3\n",
      "PyWavelets @ file:///C:/ci/pywavelets_1607645631519/work\n",
      "pywin32==228\n",
      "pywin32-ctypes @ file:///C:/ci/pywin32-ctypes_1607553594546/work\n",
      "pywinpty @ file:///C:/ci/pywinpty_1607419945780/work\n",
      "PyYAML==6.0\n",
      "pyzmq @ file:///C:/ci/pyzmq_1628276105793/work\n",
      "QDarkStyle @ file:///tmp/build/80754af9/qdarkstyle_1617386714626/work\n",
      "qstylizer @ file:///tmp/build/80754af9/qstylizer_1617713584600/work/dist/qstylizer-0.1.10-py2.py3-none-any.whl\n",
      "QtAwesome @ file:///tmp/build/80754af9/qtawesome_1615991616277/work\n",
      "qtconsole @ file:///tmp/build/80754af9/qtconsole_1632739723211/work\n",
      "QtPy @ file:///tmp/build/80754af9/qtpy_1629397026935/work\n",
      "regex @ file:///C:/ci/regex_1628063427816/work\n",
      "requests @ file:///tmp/build/80754af9/requests_1629994808627/work\n",
      "rope @ file:///tmp/build/80754af9/rope_1623703006312/work\n",
      "Rtree @ file:///C:/ci/rtree_1618421015405/work\n",
      "ruamel-yaml-conda @ file:///C:/ci/ruamel_yaml_1616016898638/work\n",
      "scikit-image==0.18.3\n",
      "scikit-learn @ file:///C:/ci/scikit-learn_1622739499047/work\n",
      "scikit-learn-intelex==2021.20210714.120553\n",
      "scipy @ file:///C:/ci/scipy_1630606917240/work\n",
      "seaborn @ file:///tmp/build/80754af9/seaborn_1629307859561/work\n",
      "Send2Trash @ file:///tmp/build/80754af9/send2trash_1632406701022/work\n",
      "simplegeneric==0.8.1\n",
      "singledispatch @ file:///tmp/build/80754af9/singledispatch_1629321204894/work\n",
      "sip==4.19.13\n",
      "six @ file:///tmp/build/80754af9/six_1623709665295/work\n",
      "sniffio @ file:///C:/ci/sniffio_1614030527509/work\n",
      "snowballstemmer @ file:///tmp/build/80754af9/snowballstemmer_1611258885636/work\n",
      "sortedcollections @ file:///tmp/build/80754af9/sortedcollections_1611172717284/work\n",
      "sortedcontainers @ file:///tmp/build/80754af9/sortedcontainers_1623949099177/work\n",
      "soupsieve @ file:///tmp/build/80754af9/soupsieve_1616183228191/work\n",
      "Sphinx==4.2.0\n",
      "sphinxcontrib-applehelp @ file:///home/ktietz/src/ci/sphinxcontrib-applehelp_1611920841464/work\n",
      "sphinxcontrib-devhelp @ file:///home/ktietz/src/ci/sphinxcontrib-devhelp_1611920923094/work\n",
      "sphinxcontrib-htmlhelp @ file:///tmp/build/80754af9/sphinxcontrib-htmlhelp_1623945626792/work\n",
      "sphinxcontrib-jsmath @ file:///home/ktietz/src/ci/sphinxcontrib-jsmath_1611920942228/work\n",
      "sphinxcontrib-qthelp @ file:///home/ktietz/src/ci/sphinxcontrib-qthelp_1611921055322/work\n",
      "sphinxcontrib-serializinghtml @ file:///tmp/build/80754af9/sphinxcontrib-serializinghtml_1624451540180/work\n",
      "sphinxcontrib-websupport @ file:///tmp/build/80754af9/sphinxcontrib-websupport_1597081412696/work\n",
      "spyder @ file:///C:/ci/spyder_1636480369575/work\n",
      "spyder-kernels @ file:///C:/ci/spyder-kernels_1634237096710/work\n",
      "SQLAlchemy @ file:///C:/ci/sqlalchemy_1626948551162/work\n",
      "statsmodels==0.12.2\n",
      "sympy @ file:///C:/ci/sympy_1635219088507/work\n",
      "tables==3.6.1\n",
      "TBB==0.2\n",
      "tblib @ file:///Users/ktietz/demo/mc3/conda-bld/tblib_1629402031467/work\n",
      "terminado==0.9.4\n",
      "testpath @ file:///tmp/build/80754af9/testpath_1624638946665/work\n",
      "text-unidecode @ file:///Users/ktietz/demo/mc3/conda-bld/text-unidecode_1629401354553/work\n",
      "textdistance @ file:///tmp/build/80754af9/textdistance_1612461398012/work\n",
      "texttable==1.6.4\n",
      "threadpoolctl @ file:///Users/ktietz/demo/mc3/conda-bld/threadpoolctl_1629802263681/work\n",
      "three-merge @ file:///tmp/build/80754af9/three-merge_1607553261110/work\n",
      "tifffile @ file:///tmp/build/80754af9/tifffile_1627275862826/work\n",
      "tinycss @ file:///tmp/build/80754af9/tinycss_1617713798712/work\n",
      "toml @ file:///tmp/build/80754af9/toml_1616166611790/work\n",
      "toolz @ file:///home/linux1/recipes/ci/toolz_1610987900194/work\n",
      "torch==1.11.0\n",
      "torchaudio==0.11.0\n",
      "torchvision==0.12.0\n",
      "tornado @ file:///C:/ci/tornado_1606924294691/work\n",
      "tqdm @ file:///tmp/build/80754af9/tqdm_1635330843403/work\n",
      "traitlets @ file:///tmp/build/80754af9/traitlets_1632522747050/work\n",
      "typed-ast @ file:///C:/ci/typed-ast_1624953797214/work\n",
      "typing_extensions==4.2.0\n",
      "ujson @ file:///C:/ci/ujson_1611259568517/work\n",
      "unicodecsv==0.14.1\n",
      "Unidecode @ file:///tmp/build/80754af9/unidecode_1614712377438/work\n",
      "urllib3==1.26.7\n",
      "virtualenv==20.14.0\n",
      "virtualenv-clone==0.5.7\n",
      "watchdog @ file:///C:/ci/watchdog_1624955113064/work\n",
      "wcwidth @ file:///Users/ktietz/demo/mc3/conda-bld/wcwidth_1629357192024/work\n",
      "webencodings==0.5.1\n",
      "websockets==9.1\n",
      "Werkzeug @ file:///tmp/build/80754af9/werkzeug_1635505089296/work\n",
      "whichcraft @ file:///tmp/build/80754af9/whichcraft_1617751293875/work\n",
      "widgetsnbextension @ file:///C:/ci/widgetsnbextension_1607531582688/work\n",
      "win-inet-pton @ file:///C:/ci/win_inet_pton_1605306162074/work\n",
      "win-unicode-console==0.5\n",
      "wincertstore==0.2\n",
      "wrapt @ file:///C:/ci/wrapt_1607574570428/work\n",
      "xlrd @ file:///tmp/build/80754af9/xlrd_1608072521494/work\n",
      "XlsxWriter @ file:///tmp/build/80754af9/xlsxwriter_1628603415431/work\n",
      "xlwings==0.24.9\n",
      "xlwt==1.3.0\n",
      "xmltodict @ file:///Users/ktietz/demo/mc3/conda-bld/xmltodict_1629301980723/work\n",
      "yapf @ file:///tmp/build/80754af9/yapf_1615749224965/work\n",
      "zict==2.0.0\n",
      "zipp @ file:///tmp/build/80754af9/zipp_1633618647012/work\n",
      "zope.event==4.5.0\n",
      "zope.interface @ file:///C:/ci/zope.interface_1625036252485/work\n"
     ]
    }
   ],
   "source": [
    "!pip install foundry_ml\n",
    "#!pip install mdf_connect_client\n",
    "#!pip install dlhub-sdk==0.10.2\n",
    "!pip freeze"
   ]
  },
  {
   "cell_type": "code",
   "execution_count": 8,
   "id": "B9Tz52_lIaB5",
   "metadata": {
    "colab": {
     "base_uri": "https://localhost:8080/"
    },
    "id": "B9Tz52_lIaB5",
    "outputId": "d5c021a6-cfe0-4a8f-a2c4-930ab59b5856"
   },
   "outputs": [
    {
     "name": "stderr",
     "output_type": "stream",
     "text": [
      "[NON-CRITICAL] Off_process_checker instantiation failed. Continuing...\n",
      "Traceback (most recent call last):\n",
      "  File \"G:\\anaconda3\\lib\\site-packages\\funcx\\serialize\\facade.py\", line 32, in __init__\n",
      "    port = self._start_off_process_checker()\n",
      "  File \"G:\\anaconda3\\lib\\site-packages\\funcx\\serialize\\facade.py\", line 58, in _start_off_process_checker\n",
      "    std_out = open(std_file, \"w\")\n",
      "FileNotFoundError: [Errno 2] No such file or directory: '/tmp/35841e9a-e6a5-4051-b9f3-937086707ea6'\n"
     ]
    }
   ],
   "source": [
    "from foundry import Foundry\n",
    "f = Foundry(no_browser=True, no_local_server=True)\n",
    "\n",
    "res = f.publish(metadata, data_source, title, authors, update=True)\n"
   ]
  },
  {
   "cell_type": "code",
   "execution_count": 9,
   "id": "BlOjTdquJMAb",
   "metadata": {
    "colab": {
     "base_uri": "https://localhost:8080/"
    },
    "id": "BlOjTdquJMAb",
    "outputId": "aba95552-a50f-4781-e693-08161c6ab951"
   },
   "outputs": [
    {
     "data": {
      "text/plain": [
       "{'source_id': 'training_locating_atoms_stem_images_v1.2',\n",
       " 'success': True,\n",
       " 'error': None,\n",
       " 'status_code': 202}"
      ]
     },
     "execution_count": 9,
     "metadata": {},
     "output_type": "execute_result"
    }
   ],
   "source": [
    "res"
   ]
  },
  {
   "cell_type": "code",
   "execution_count": 10,
   "id": "ymSljT-iJQr8",
   "metadata": {
    "colab": {
     "base_uri": "https://localhost:8080/"
    },
    "id": "ymSljT-iJQr8",
    "outputId": "8dae11b1-e2e8-4ea9-c6b4-8b6608b0bed2"
   },
   "outputs": [
    {
     "name": "stdout",
     "output_type": "stream",
     "text": [
      "\n",
      "Status of submission training_locating_atoms_stem_images_v1.1 (Training Dataset for Locating Atoms in STEM images )\n",
      "Submitted by JINGRUI WEI at 2022-05-17T17:38:21.251060Z\n",
      "\n",
      "Submission initialization was successful.\n",
      "Cancellation of previous submissions was not requested or required.\n",
      "Connect data download failed: GlobusError(\"Path '/D/Atomfinder/foundrypublish/' not found on endpoint '4e056118-f39e-11ea-8197-0e2f230cc907'\",).\n",
      "Data transfer to primary destination was cancelled.\n",
      "Metadata extraction was cancelled.\n",
      "Dataset curation was cancelled.\n",
      "MDF Search ingestion was cancelled.\n",
      "Data transfer to secondary destinations was cancelled.\n",
      "MDF Publish publication was cancelled.\n",
      "Citrine upload was cancelled.\n",
      "Materials Resource Registration was cancelled.\n",
      "Post-processing cleanup was cancelled.\n",
      "\n",
      "This submission is no longer processing.\n",
      "\n"
     ]
    }
   ],
   "source": [
    "source_id = res['source_id']\n",
    "f.check_status(source_id=source_id)"
   ]
  },
  {
   "cell_type": "code",
   "execution_count": null,
   "id": "hLufjS9-zYHM",
   "metadata": {
    "colab": {
     "base_uri": "https://localhost:8080/"
    },
    "id": "hLufjS9-zYHM",
    "outputId": "63e86df4-6d37-4db9-a0b3-fea9d36cd726"
   },
   "outputs": [
    {
     "name": "stdout",
     "output_type": "stream",
     "text": [
      "Please paste the following URL in a browser:\n",
      "https://auth.globus.org/v2/oauth2/authorize?client_id=984464e2-90ab-433d-8145-ac0215d26c8e&redirect_uri=https%3A%2F%2Fauth.globus.org%2Fv2%2Fweb%2Fauth-code&scope=urn%3Aglobus%3Aauth%3Ascope%3Adata.materialsdatafacility.org%3Aall+https%3A%2F%2Fauth.globus.org%2Fscopes%2Fc17f27bb-f200-486a-b785-2a25e82af505%2Fconnect+urn%3Aglobus%3Aauth%3Ascope%3Asearch.api.globus.org%3Asearch+https%3A%2F%2Fauth.globus.org%2Fscopes%2F56ceac29-e98a-440a-a594-b41e7a084b62%2Fall+urn%3Aglobus%3Aauth%3Ascope%3Atransfer.api.globus.org%3Aall+https%3A%2F%2Fauth.globus.org%2Fscopes%2F81fc4156-a623-47f2-93ad-7184118226ba%2Fauth+openid+https%3A%2F%2Fauth.globus.org%2Fscopes%2Ffacd7ccc-c5f4-42aa-916b-a0e270e2c2a9%2Fall&state=_default&response_type=code&code_challenge=AVLcupJ_qAJGawifzJWvvBRqqpxM89k34lhOPBOXO9o&code_challenge_method=S256&access_type=offline&prefill_named_grant=Foundry+Login\n",
      "Please Paste your Auth Code Below: \n",
      "cXlaquaAt1xB4bYHC7S0P2TUoc6hig\n",
      "\n",
      "Status of TEST submission _test_training_locating_atoms_stem_images_v1.1 (Training Dataset for Locating Atoms in STEM images )\n",
      "Submitted by JINGRUI WEI at 2022-04-15T21:40:45.208320Z\n",
      "\n",
      "Submission initialization was successful.\n",
      "Cancellation of previous submissions was not requested or required.\n",
      "Connect data download was successful: 1 files will be grouped and extracted (from 0 archives).\n",
      "Data transfer to primary destination was successful.\n",
      "Metadata extraction was successful: 1 metadata records extracted out of 1 file groups.\n",
      "Dataset curation is in progress.\n",
      "MDF Search ingestion has not started yet.\n",
      "Data transfer to secondary destinations has not started yet.\n",
      "MDF Publish publication has not started yet.\n",
      "Citrine upload has not started yet.\n",
      "Materials Resource Registration has not started yet.\n",
      "Post-processing cleanup has not started yet.\n",
      "\n",
      "This submission is still processing.\n",
      "\n"
     ]
    }
   ],
   "source": [
    "from foundry import Foundry\n",
    "f = Foundry(no_browser=True, no_local_server=True)\n",
    "f.check_status(source_id='_test_training_locating_atoms_stem_images_v1.1')\n"
   ]
  }
 ],
 "metadata": {
  "colab": {
   "collapsed_sections": [],
   "name": "DatasetFormatting.ipynb",
   "provenance": []
  },
  "kernelspec": {
   "display_name": "Python [conda env:NYCU_py39_2024] *",
   "language": "python",
   "name": "conda-env-NYCU_py39_2024-py"
  },
  "language_info": {
   "codemirror_mode": {
    "name": "ipython",
    "version": 3
   },
   "file_extension": ".py",
   "mimetype": "text/x-python",
   "name": "python",
   "nbconvert_exporter": "python",
   "pygments_lexer": "ipython3",
   "version": "3.9.18"
  }
 },
 "nbformat": 4,
 "nbformat_minor": 5
}
