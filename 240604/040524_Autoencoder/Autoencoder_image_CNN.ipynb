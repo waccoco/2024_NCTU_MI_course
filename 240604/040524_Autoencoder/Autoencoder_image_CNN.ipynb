{
 "cells": [
  {
   "cell_type": "code",
   "execution_count": 2,
   "id": "9ac16c37",
   "metadata": {},
   "outputs": [],
   "source": [
    "import numpy as np\n",
    "import matplotlib.pyplot as plt\n",
    "from keras.datasets import mnist\n",
    "from keras.models import Model\n",
    "from keras.layers import Input, Dense\n",
    "from keras.optimizers import Adam"
   ]
  },
  {
   "cell_type": "code",
   "execution_count": 3,
   "id": "507b9aa2",
   "metadata": {},
   "outputs": [
    {
     "name": "stdout",
     "output_type": "stream",
     "text": [
      "(5000, 28, 28)\n",
      "(100, 28, 28)\n"
     ]
    }
   ],
   "source": [
    "# 加載 MNIST 數據\n",
    "(x_train1, y_train1), (x_test1, y_test1) = mnist.load_data()\n",
    "\n",
    "# 正規化並重塑數據\n",
    "# x_train = x_train1[0:100].astype('float32') / 255.\n",
    "y_test = y_test1 [0:100]\n",
    "x_test = x_test1[0:100].astype('float32') / 255.\n",
    "x_train = x_train1[0:5000].astype('float32') / 255.\n",
    "# x_test = x_test1.astype('float32') / 255.\n",
    "\n",
    "print(x_train.shape)\n",
    "print(x_test.shape)"
   ]
  },
  {
   "cell_type": "code",
   "execution_count": null,
   "id": "bffdff9a",
   "metadata": {},
   "outputs": [],
   "source": [
    "# n = 10  # 顯示幾個數字\n",
    "# plt.figure(figsize=(20, 4))\n",
    "# for i in range(n):\n",
    "#     # 顯示原始數據\n",
    "#     ax = plt.subplot(2, n, i + 1)\n",
    "#     plt.imshow(x_test[i].reshape(28, 28))\n",
    "#     plt.gray()\n",
    "#     ax.get_xaxis().set_visible(False)\n",
    "#     ax.get_yaxis().set_visible(False)\n",
    "\n",
    "# plt.show()"
   ]
  },
  {
   "cell_type": "code",
   "execution_count": 4,
   "id": "11be2901-2ede-4658-ab6c-f19f8e3bb8ed",
   "metadata": {},
   "outputs": [
    {
     "name": "stdout",
     "output_type": "stream",
     "text": [
      "Model: \"model\"\n",
      "_________________________________________________________________\n",
      " Layer (type)                Output Shape              Param #   \n",
      "=================================================================\n",
      " input_1 (InputLayer)        [(None, 28, 28, 1)]       0         \n",
      "                                                                 \n",
      " conv2d (Conv2D)             (None, 28, 28, 32)        320       \n",
      "                                                                 \n",
      " max_pooling2d (MaxPooling2D  (None, 14, 14, 32)       0         \n",
      " )                                                               \n",
      "                                                                 \n",
      " conv2d_1 (Conv2D)           (None, 14, 14, 16)        4624      \n",
      "                                                                 \n",
      " max_pooling2d_1 (MaxPooling  (None, 7, 7, 16)         0         \n",
      " 2D)                                                             \n",
      "                                                                 \n",
      " conv2d_2 (Conv2D)           (None, 7, 7, 8)           1160      \n",
      "                                                                 \n",
      " max_pooling2d_2 (MaxPooling  (None, 4, 4, 8)          0         \n",
      " 2D)                                                             \n",
      "                                                                 \n",
      " flatten (Flatten)           (None, 128)               0         \n",
      "                                                                 \n",
      " dense (Dense)               (None, 128)               16512     \n",
      "                                                                 \n",
      " dense_1 (Dense)             (None, 64)                8256      \n",
      "                                                                 \n",
      " dense_2 (Dense)             (None, 128)               8320      \n",
      "                                                                 \n",
      " dense_3 (Dense)             (None, 128)               16512     \n",
      "                                                                 \n",
      " reshape (Reshape)           (None, 4, 4, 8)           0         \n",
      "                                                                 \n",
      " conv2d_3 (Conv2D)           (None, 4, 4, 8)           584       \n",
      "                                                                 \n",
      " up_sampling2d (UpSampling2D  (None, 8, 8, 8)          0         \n",
      " )                                                               \n",
      "                                                                 \n",
      " conv2d_4 (Conv2D)           (None, 8, 8, 16)          1168      \n",
      "                                                                 \n",
      " up_sampling2d_1 (UpSampling  (None, 16, 16, 16)       0         \n",
      " 2D)                                                             \n",
      "                                                                 \n",
      " conv2d_transpose (Conv2DTra  (None, 32, 32, 32)       4640      \n",
      " nspose)                                                         \n",
      "                                                                 \n",
      " cropping2d (Cropping2D)     (None, 28, 28, 32)        0         \n",
      "                                                                 \n",
      " conv2d_5 (Conv2D)           (None, 28, 28, 1)         289       \n",
      "                                                                 \n",
      "=================================================================\n",
      "Total params: 62,385\n",
      "Trainable params: 62,385\n",
      "Non-trainable params: 0\n",
      "_________________________________________________________________\n"
     ]
    }
   ],
   "source": [
    "from tensorflow.keras.layers import Input, Conv2D, MaxPooling2D, UpSampling2D, Conv2DTranspose\n",
    "from tensorflow.keras.layers import Dense, Flatten, Reshape,Cropping2D\n",
    "from tensorflow.keras.models import Model\n",
    "from tensorflow.keras.optimizers import Adam\n",
    "\n",
    "input_shape = (28, 28, 1)  # MNIST图像的尺寸和通道数\n",
    "\n",
    "# 编碼器\n",
    "encoder_input = Input(shape=input_shape)\n",
    "x = Conv2D(32, (3, 3), activation='relu', padding='same')(encoder_input)\n",
    "x = MaxPooling2D((2, 2), padding='same')(x)\n",
    "x = Conv2D(16, (3, 3), activation='relu', padding='same')(x)\n",
    "x = MaxPooling2D((2, 2), padding='same')(x)\n",
    "x = Conv2D(8, (3, 3), activation='relu', padding='same')(x)\n",
    "x = MaxPooling2D((2, 2), padding='same')(x)\n",
    "x = Flatten()(x)  # Flatten the output\n",
    "x = Dense(128, activation='relu')(x)  # Additional ANN layer\n",
    "latent_vector = Dense(64, activation='relu')(x)  # Latent vector\n",
    "\n",
    "# 解碼器\n",
    "decoder_input = Dense(128, activation='relu')(latent_vector)\n",
    "x = Dense(8 * 4 * 4, activation='relu')(decoder_input)  # 8 is the number of filters, 4x4 is the feature map size before flattening\n",
    "x = Reshape((4, 4, 8))(x)  # Reshape into the shape before the last MaxPooling2D\n",
    "x = Conv2D(8, (3, 3), activation='relu', padding='same')(x)\n",
    "x = UpSampling2D((2, 2))(x)\n",
    "x = Conv2D(16, (3, 3), activation='relu', padding='same')(x)\n",
    "x = UpSampling2D((2, 2))(x)\n",
    "x = Conv2DTranspose(32, (3, 3), strides=(2,2), activation='relu', padding='same')(x)\n",
    "x = Cropping2D(cropping=((2, 2), (2, 2)))(x)  # 如果需要，可以添加裁剪层来精确调整尺寸\n",
    "decoded_output = Conv2D(1, (3, 3), activation='sigmoid', padding='same')(x)\n",
    "\n",
    "# 自编碼器模型\n",
    "autoencoder = Model(inputs=encoder_input, outputs=decoded_output)\n",
    "autoencoder.compile(optimizer='adam', loss='binary_crossentropy')\n",
    "\n",
    "# 顯示模型结構\n",
    "autoencoder.summary()"
   ]
  },
  {
   "cell_type": "code",
   "execution_count": 5,
   "id": "e6c6ae73",
   "metadata": {
    "scrolled": true
   },
   "outputs": [
    {
     "name": "stdout",
     "output_type": "stream",
     "text": [
      "Epoch 1/10\n",
      "40/40 [==============================] - ETA: 0s - loss: 0.4649\n",
      "Epoch 1: loss improved from inf to 0.46486, saving model to UNet_Membrane.hdf5\n",
      "40/40 [==============================] - 10s 226ms/step - loss: 0.4649 - val_loss: 0.2935\n",
      "Epoch 2/10\n",
      "40/40 [==============================] - ETA: 0s - loss: 0.2805\n",
      "Epoch 2: loss improved from 0.46486 to 0.28046, saving model to UNet_Membrane.hdf5\n",
      "40/40 [==============================] - 10s 247ms/step - loss: 0.2805 - val_loss: 0.2559\n",
      "Epoch 3/10\n",
      "39/40 [============================>.] - ETA: 0s - loss: 0.2553\n",
      "Epoch 3: loss improved from 0.28046 to 0.25531, saving model to UNet_Membrane.hdf5\n",
      "40/40 [==============================] - 10s 259ms/step - loss: 0.2553 - val_loss: 0.2386\n",
      "Epoch 4/10\n",
      "40/40 [==============================] - ETA: 0s - loss: 0.2348\n",
      "Epoch 4: loss improved from 0.25531 to 0.23478, saving model to UNet_Membrane.hdf5\n",
      "40/40 [==============================] - 10s 255ms/step - loss: 0.2348 - val_loss: 0.2195\n",
      "Epoch 5/10\n",
      "40/40 [==============================] - ETA: 0s - loss: 0.2132\n",
      "Epoch 5: loss improved from 0.23478 to 0.21316, saving model to UNet_Membrane.hdf5\n",
      "40/40 [==============================] - 9s 221ms/step - loss: 0.2132 - val_loss: 0.1969\n",
      "Epoch 6/10\n",
      "40/40 [==============================] - ETA: 0s - loss: 0.1921\n",
      "Epoch 6: loss improved from 0.21316 to 0.19206, saving model to UNet_Membrane.hdf5\n",
      "40/40 [==============================] - 10s 259ms/step - loss: 0.1921 - val_loss: 0.1853\n",
      "Epoch 7/10\n",
      "40/40 [==============================] - ETA: 0s - loss: 0.1810\n",
      "Epoch 7: loss improved from 0.19206 to 0.18100, saving model to UNet_Membrane.hdf5\n",
      "40/40 [==============================] - 10s 252ms/step - loss: 0.1810 - val_loss: 0.1718\n",
      "Epoch 8/10\n",
      "40/40 [==============================] - ETA: 0s - loss: 0.1723\n",
      "Epoch 8: loss improved from 0.18100 to 0.17225, saving model to UNet_Membrane.hdf5\n",
      "40/40 [==============================] - 10s 258ms/step - loss: 0.1723 - val_loss: 0.1658\n",
      "Epoch 9/10\n",
      "40/40 [==============================] - ETA: 0s - loss: 0.1669\n",
      "Epoch 9: loss improved from 0.17225 to 0.16690, saving model to UNet_Membrane.hdf5\n",
      "40/40 [==============================] - 10s 256ms/step - loss: 0.1669 - val_loss: 0.1639\n",
      "Epoch 10/10\n",
      "40/40 [==============================] - ETA: 0s - loss: 0.1619\n",
      "Epoch 10: loss improved from 0.16690 to 0.16192, saving model to UNet_Membrane.hdf5\n",
      "40/40 [==============================] - 10s 248ms/step - loss: 0.1619 - val_loss: 0.1548\n"
     ]
    }
   ],
   "source": [
    "from tensorflow.keras.callbacks import ModelCheckpoint\n",
    "model_checkpoint = ModelCheckpoint('UNet_Membrane.hdf5', monitor='loss',verbose=1, save_best_only=True)\n",
    "history = autoencoder.fit(x_train, x_train, \n",
    "                epochs=10, \n",
    "                batch_size=128, \n",
    "                shuffle=True, \n",
    "                callbacks=[model_checkpoint],\n",
    "                validation_data=(x_test, x_test))\n"
   ]
  },
  {
   "cell_type": "code",
   "execution_count": 6,
   "id": "9a5268e9",
   "metadata": {},
   "outputs": [],
   "source": [
    "# autoencoder.compile(optimizer=Adam(), loss='binary_crossentropy')\n",
    "# history = autoencoder.fit(x_train, x_train, \n",
    "#                 epochs=200, \n",
    "#                 batch_size=256, \n",
    "#                 shuffle=True, \n",
    "#                 validation_data=(x_test, x_test))\n"
   ]
  },
  {
   "cell_type": "code",
   "execution_count": 7,
   "id": "dfeb9390",
   "metadata": {},
   "outputs": [
    {
     "name": "stdout",
     "output_type": "stream",
     "text": [
      "4/4 [==============================] - 1s 53ms/step\n"
     ]
    }
   ],
   "source": [
    "# encoded_imgs = encoder.predict(x_test)\n",
    "# decoded_imgs = decoder.predict(encoded_imgs)\n",
    "decoded_imgs = autoencoder.predict(x_test)\n"
   ]
  },
  {
   "cell_type": "code",
   "execution_count": null,
   "id": "739a407a",
   "metadata": {},
   "outputs": [],
   "source": [
    "# comparing the original image and decoder image\n",
    "n = 10  # 顯示幾個數字\n",
    "plt.figure(figsize=(20, 4))\n",
    "for i in range(n):\n",
    "    # 顯示原始數據\n",
    "    ax = plt.subplot(2, n, i + 1)\n",
    "    plt.imshow(x_test[i].reshape(28, 28))\n",
    "    plt.gray()\n",
    "    ax.get_xaxis().set_visible(False)\n",
    "    ax.get_yaxis().set_visible(False)\n",
    "\n",
    "#     顯示重建數據\n",
    "    ax = plt.subplot(2, n, i + 1 + n)\n",
    "    plt.imshow(decoded_imgs[i].reshape(28, 28))\n",
    "    plt.gray()\n",
    "    ax.get_xaxis().set_visible(False)\n",
    "    ax.get_yaxis().set_visible(False)\n",
    "plt.show()"
   ]
  },
  {
   "cell_type": "code",
   "execution_count": 9,
   "id": "63b122c0",
   "metadata": {},
   "outputs": [
    {
     "ename": "NameError",
     "evalue": "name 'encoder' is not defined",
     "output_type": "error",
     "traceback": [
      "\u001b[1;31m---------------------------------------------------------------------------\u001b[0m",
      "\u001b[1;31mNameError\u001b[0m                                 Traceback (most recent call last)",
      "Cell \u001b[1;32mIn[9], line 2\u001b[0m\n\u001b[0;32m      1\u001b[0m \u001b[38;5;66;03m# 假设 x_test 是你的测试数据集\u001b[39;00m\n\u001b[1;32m----> 2\u001b[0m encoded_imgs \u001b[38;5;241m=\u001b[39m \u001b[43mencoder\u001b[49m\u001b[38;5;241m.\u001b[39mpredict(x_test)\n",
      "\u001b[1;31mNameError\u001b[0m: name 'encoder' is not defined"
     ]
    }
   ],
   "source": [
    "# 假设 x_test 是你的测试数据集\n",
    "encoded_imgs = encoder.predict(x_test)"
   ]
  },
  {
   "cell_type": "code",
   "execution_count": null,
   "id": "8837139e",
   "metadata": {},
   "outputs": [],
   "source": [
    "from sklearn.decomposition import PCA\n",
    "\n",
    "# 初始化 PCA，设置降维后的主成分数为2\n",
    "pca = PCA(n_components=2)\n",
    "encoded_imgs_2d = pca.fit_transform(encoded_imgs)  # 对编码后的图片应用PCA\n"
   ]
  },
  {
   "cell_type": "code",
   "execution_count": null,
   "id": "ad442dcb",
   "metadata": {},
   "outputs": [
    {
     "ename": "NameError",
     "evalue": "name 'encoded_imgs_2d' is not defined",
     "output_type": "error",
     "traceback": [
      "\u001b[1;31m---------------------------------------------------------------------------\u001b[0m",
      "\u001b[1;31mNameError\u001b[0m                                 Traceback (most recent call last)",
      "Cell \u001b[1;32mIn[15], line 4\u001b[0m\n\u001b[0;32m      1\u001b[0m \u001b[38;5;28;01mimport\u001b[39;00m \u001b[38;5;21;01mmatplotlib\u001b[39;00m\u001b[38;5;21;01m.\u001b[39;00m\u001b[38;5;21;01mpyplot\u001b[39;00m \u001b[38;5;28;01mas\u001b[39;00m \u001b[38;5;21;01mplt\u001b[39;00m\n\u001b[0;32m      3\u001b[0m plt\u001b[38;5;241m.\u001b[39mfigure(figsize\u001b[38;5;241m=\u001b[39m(\u001b[38;5;241m10\u001b[39m, \u001b[38;5;241m8\u001b[39m))\n\u001b[1;32m----> 4\u001b[0m scatter \u001b[38;5;241m=\u001b[39m plt\u001b[38;5;241m.\u001b[39mscatter(\u001b[43mencoded_imgs_2d\u001b[49m[:, \u001b[38;5;241m0\u001b[39m], encoded_imgs_2d[:, \u001b[38;5;241m1\u001b[39m], c\u001b[38;5;241m=\u001b[39my_test, cmap\u001b[38;5;241m=\u001b[39m\u001b[38;5;124m'\u001b[39m\u001b[38;5;124mCMRmap_r\u001b[39m\u001b[38;5;124m'\u001b[39m, alpha\u001b[38;5;241m=\u001b[39m\u001b[38;5;241m0.5\u001b[39m)\n\u001b[0;32m      5\u001b[0m plt\u001b[38;5;241m.\u001b[39mcolorbar(scatter)  \u001b[38;5;66;03m# 显示颜色条\u001b[39;00m\n\u001b[0;32m      6\u001b[0m plt\u001b[38;5;241m.\u001b[39mxlabel(\u001b[38;5;124m'\u001b[39m\u001b[38;5;124mPrincipal Component 1\u001b[39m\u001b[38;5;124m'\u001b[39m)\n",
      "\u001b[1;31mNameError\u001b[0m: name 'encoded_imgs_2d' is not defined"
     ]
    }
   ],
   "source": [
    "import matplotlib.pyplot as plt\n",
    "\n",
    "plt.figure(figsize=(10, 8))\n",
    "scatter = plt.scatter(encoded_imgs_2d[:, 0], encoded_imgs_2d[:, 1], c=y_test, cmap='CMRmap_r', alpha=0.5)\n",
    "plt.colorbar(scatter)  # 显示颜色条\n",
    "plt.xlabel('Principal Component 1')\n",
    "plt.ylabel('Principal Component 2')\n",
    "plt.title('PCA of Encoded Images with Labels')\n"
   ]
  },
  {
   "cell_type": "code",
   "execution_count": null,
   "id": "b5a338e4-6059-4724-8c2c-78413b604901",
   "metadata": {},
   "outputs": [],
   "source": []
  }
 ],
 "metadata": {
  "kernelspec": {
   "display_name": "Python [conda env:NYCU_py39_2024] *",
   "language": "python",
   "name": "conda-env-NYCU_py39_2024-py"
  },
  "language_info": {
   "codemirror_mode": {
    "name": "ipython",
    "version": 3
   },
   "file_extension": ".py",
   "mimetype": "text/x-python",
   "name": "python",
   "nbconvert_exporter": "python",
   "pygments_lexer": "ipython3",
   "version": "3.9.18"
  }
 },
 "nbformat": 4,
 "nbformat_minor": 5
}
